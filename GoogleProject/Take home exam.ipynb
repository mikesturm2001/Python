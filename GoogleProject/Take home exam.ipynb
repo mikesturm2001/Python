{
 "cells": [
  {
   "attachments": {
    "flowchart.png": {
     "image/png": "[encoded data removed]"
    }
   },
   "cell_type": "markdown",
   "metadata": {},
   "source": [
    "# Part 1: \n",
    "In your project you have been working with a bias dataset. Most probabely suupervised models were underfit. You should remember that this is a real dataset, and in real life most of the time you dont have access to clean and unbias dataset. In situations like this, none of the regression models will have a good fit for the dataset due to the large predence of the 0s. In the first part of this take-home exam, you are asked to be creative, and find a solution for this problem. \n",
    "\n",
    "For this dataset, you can break the problem, into a two-step machine learning model. \n",
    "\n",
    "First step is to classify the data points as positive revenue and zero revenue. This simply is a binary classification. You should remember that when you are dealing with biased datasets, accuracy is not a reliable scoring metric. So look for a robust scoring function. \n",
    "\n",
    "Next, you need to build a regression model to postprocess classification results. Here is a flow chart to show you the outline of the model. \n",
    "\n",
    "![flowchart.png](attachment:flowchart.png)"
   ]
  },
  {
   "cell_type": "code",
   "execution_count": 1,
   "metadata": {},
   "outputs": [],
   "source": [
    "import pandas as pd\n",
    "import numpy as np\n",
    "import ast\n",
    "import matplotlib.pyplot as plt\n",
    "%matplotlib inline"
   ]
  },
  {
   "cell_type": "code",
   "execution_count": 2,
   "metadata": {},
   "outputs": [],
   "source": [
    "#Read in data\n",
    "data = pd.read_csv(\"data.csv\")"
   ]
  },
  {
   "cell_type": "code",
   "execution_count": 3,
   "metadata": {},
   "outputs": [],
   "source": [
    "#A significant amount of the transaction data is NaN. It looks like there are only 193 sales.\n",
    "#A NaN transaction would be 0. if the transaction is 0 the total revenue is also 0.\n",
    "data['totals_totalTransactionRevenue'] = data['totals_totalTransactionRevenue'].fillna(0)\n",
    "data['totals_transactionRevenue'] = data['totals_transactionRevenue'].fillna(0)\n",
    "data['totals_transactions'] = data['totals_transactions'].fillna(0)"
   ]
  },
  {
   "cell_type": "code",
   "execution_count": 4,
   "metadata": {},
   "outputs": [],
   "source": [
    "#function to convert JSON to Dict\n",
    "def string_to_dict_simple(dict_string):\n",
    "    return ast.literal_eval(dict_string)"
   ]
  },
  {
   "cell_type": "code",
   "execution_count": 5,
   "metadata": {},
   "outputs": [],
   "source": [
    "#Custom Dimenstions Column\n",
    "customDimensionsData = data['customDimensions'].apply(string_to_dict_simple)\n",
    "customDimensionsDataFrame = pd.DataFrame(list(customDimensionsData))"
   ]
  },
  {
   "cell_type": "code",
   "execution_count": 6,
   "metadata": {},
   "outputs": [],
   "source": [
    "#Device Data Column\n",
    "deviceData = data['device'].apply(string_to_dict_simple)\n",
    "deviceDataFrame = pd.DataFrame(list(deviceData))"
   ]
  },
  {
   "cell_type": "code",
   "execution_count": 7,
   "metadata": {},
   "outputs": [],
   "source": [
    "#GeoData Column\n",
    "geoData = data['geoNetwork'].apply(string_to_dict_simple)\n",
    "geoDataFrame = pd.DataFrame(list(geoData))"
   ]
  },
  {
   "cell_type": "code",
   "execution_count": 8,
   "metadata": {},
   "outputs": [],
   "source": [
    "#Traffic Source Column\n",
    "trafficSourceData = data['trafficSource'].apply(string_to_dict_simple)\n",
    "trafficSourceDataFrame = pd.DataFrame(list(trafficSourceData))\n",
    "trafficSourceDataFrame.drop(columns=['adwordsClickInfo'], inplace=True)"
   ]
  },
  {
   "cell_type": "code",
   "execution_count": 9,
   "metadata": {},
   "outputs": [],
   "source": [
    "#Drop Columns\n",
    "data.drop(columns=['customDimensions','hits','trafficSource','device','geoNetwork'], inplace=True)"
   ]
  },
  {
   "cell_type": "code",
   "execution_count": 10,
   "metadata": {},
   "outputs": [],
   "source": [
    "#Add new dataframes as columns\n",
    "newData = pd.concat([data, deviceDataFrame, geoDataFrame, trafficSourceDataFrame], axis=1)"
   ]
  },
  {
   "cell_type": "code",
   "execution_count": 11,
   "metadata": {},
   "outputs": [],
   "source": [
    "#Replace not available in demo dataset\n",
    "newData = newData.replace('not available in demo dataset', np.nan, regex=True)"
   ]
  },
  {
   "cell_type": "code",
   "execution_count": 12,
   "metadata": {},
   "outputs": [],
   "source": [
    "#Drop columns with NA values\n",
    "half_count = len(newData) / 2\n",
    "newData = newData.dropna(thresh=half_count,axis=1)"
   ]
  },
  {
   "cell_type": "code",
   "execution_count": 13,
   "metadata": {},
   "outputs": [],
   "source": [
    "drop_cols = ['socialEngagementType','networkDomain','campaign','totals_newVisits','totals_timeOnSite']"
   ]
  },
  {
   "cell_type": "code",
   "execution_count": 14,
   "metadata": {},
   "outputs": [],
   "source": [
    "#Dop columns\n",
    "newData = newData.drop(drop_cols,axis=1)"
   ]
  },
  {
   "cell_type": "code",
   "execution_count": 15,
   "metadata": {},
   "outputs": [],
   "source": [
    "#Fill in null data\n",
    "newData['totals_pageviews'] = data['totals_pageviews'].fillna(1)"
   ]
  },
  {
   "cell_type": "code",
   "execution_count": 16,
   "metadata": {},
   "outputs": [],
   "source": [
    "#Create simple data set just in case\n",
    "newDataSimple = newData.filter(['date','browser','totals_visits','totals_totalTransactionRevenue'], axis=1)"
   ]
  },
  {
   "cell_type": "code",
   "execution_count": 17,
   "metadata": {},
   "outputs": [],
   "source": [
    "#converting complex data set\n",
    "nominal_columns = [\"channelGrouping\",\"browser\",\"deviceCategory\",\"isMobile\",\"operatingSystem\",\"continent\",\"country\",\"subContinent\",\"medium\",\"source\"]\n",
    "dummy_df = pd.get_dummies(newData[nominal_columns])\n",
    "newData = pd.concat([newData, dummy_df], axis=1)\n",
    "newData = newData.drop(nominal_columns, axis=1)"
   ]
  },
  {
   "cell_type": "code",
   "execution_count": 18,
   "metadata": {},
   "outputs": [],
   "source": [
    "#Converting simple data set\n",
    "nominal_columns = [\"browser\"]\n",
    "dummy_df = pd.get_dummies(newDataSimple[nominal_columns])\n",
    "newDataSimple = pd.concat([newDataSimple, dummy_df], axis=1)\n",
    "newDataSimple = newDataSimple.drop(nominal_columns, axis=1)"
   ]
  },
  {
   "cell_type": "code",
   "execution_count": 19,
   "metadata": {},
   "outputs": [],
   "source": [
    "#Save off copy of data just in case\n",
    "newDataCopy = newData.copy()\n",
    "newDataSimpleCopy = newDataSimple.copy()"
   ]
  },
  {
   "cell_type": "code",
   "execution_count": 20,
   "metadata": {},
   "outputs": [],
   "source": [
    "X = newData.drop(['totals_totalTransactionRevenue'], axis=1)"
   ]
  },
  {
   "cell_type": "code",
   "execution_count": 21,
   "metadata": {},
   "outputs": [],
   "source": [
    "y = newData['totals_totalTransactionRevenue']"
   ]
  },
  {
   "cell_type": "code",
   "execution_count": 22,
   "metadata": {},
   "outputs": [
    {
     "name": "stderr",
     "output_type": "stream",
     "text": [
      "C:\\Users\\Mike\\Anaconda3\\lib\\site-packages\\sklearn\\cross_validation.py:41: DeprecationWarning: This module was deprecated in version 0.18 in favor of the model_selection module into which all the refactored classes and functions are moved. Also note that the interface of the new CV iterators are different from that of this module. This module will be removed in 0.20.\n",
      "  \"This module will be removed in 0.20.\", DeprecationWarning)\n"
     ]
    }
   ],
   "source": [
    "from sklearn.cross_validation import train_test_split"
   ]
  },
  {
   "cell_type": "code",
   "execution_count": 23,
   "metadata": {},
   "outputs": [],
   "source": [
    "Xtrain, Xtest, ytrain, ytest = train_test_split(X, y, random_state=1)"
   ]
  },
  {
   "cell_type": "code",
   "execution_count": 24,
   "metadata": {},
   "outputs": [],
   "source": [
    "from sklearn.naive_bayes import GaussianNB"
   ]
  },
  {
   "cell_type": "code",
   "execution_count": 25,
   "metadata": {},
   "outputs": [],
   "source": [
    "model = GaussianNB()"
   ]
  },
  {
   "cell_type": "code",
   "execution_count": 26,
   "metadata": {},
   "outputs": [
    {
     "data": {
      "text/plain": [
       "GaussianNB(priors=None)"
      ]
     },
     "execution_count": 26,
     "metadata": {},
     "output_type": "execute_result"
    }
   ],
   "source": [
    "model.fit(Xtrain, ytrain)"
   ]
  },
  {
   "cell_type": "code",
   "execution_count": 31,
   "metadata": {},
   "outputs": [],
   "source": [
    "y_model = model.predict(X)"
   ]
  },
  {
   "cell_type": "code",
   "execution_count": 32,
   "metadata": {},
   "outputs": [
    {
     "data": {
      "text/plain": [
       "(20000,)"
      ]
     },
     "execution_count": 32,
     "metadata": {},
     "output_type": "execute_result"
    }
   ],
   "source": [
    "y_model.shape"
   ]
  },
  {
   "cell_type": "code",
   "execution_count": 33,
   "metadata": {},
   "outputs": [],
   "source": [
    "X['predicted'] = y_model"
   ]
  },
  {
   "cell_type": "code",
   "execution_count": 34,
   "metadata": {},
   "outputs": [],
   "source": [
    "salesData = X[X.predicted > 0] "
   ]
  },
  {
   "cell_type": "code",
   "execution_count": 35,
   "metadata": {},
   "outputs": [
    {
     "data": {
      "text/plain": [
       "(287, 329)"
      ]
     },
     "execution_count": 35,
     "metadata": {},
     "output_type": "execute_result"
    }
   ],
   "source": [
    "salesData.shape"
   ]
  },
  {
   "cell_type": "code",
   "execution_count": 36,
   "metadata": {},
   "outputs": [],
   "source": [
    "#Run regression model"
   ]
  },
  {
   "cell_type": "code",
   "execution_count": 43,
   "metadata": {},
   "outputs": [],
   "source": [
    "from sklearn.linear_model import LinearRegression"
   ]
  },
  {
   "cell_type": "code",
   "execution_count": 44,
   "metadata": {},
   "outputs": [],
   "source": [
    "X2 = salesData.drop(['predicted'], axis=1)"
   ]
  },
  {
   "cell_type": "code",
   "execution_count": 45,
   "metadata": {},
   "outputs": [],
   "source": [
    "y2 = salesData['predicted']"
   ]
  },
  {
   "cell_type": "code",
   "execution_count": 46,
   "metadata": {},
   "outputs": [],
   "source": [
    "model = LinearRegression(fit_intercept=False)"
   ]
  },
  {
   "cell_type": "code",
   "execution_count": 47,
   "metadata": {},
   "outputs": [
    {
     "data": {
      "text/plain": [
       "LinearRegression(copy_X=True, fit_intercept=False, n_jobs=1, normalize=False)"
      ]
     },
     "execution_count": 47,
     "metadata": {},
     "output_type": "execute_result"
    }
   ],
   "source": [
    "model.fit(X2, y2)"
   ]
  },
  {
   "cell_type": "code",
   "execution_count": 48,
   "metadata": {},
   "outputs": [
    {
     "data": {
      "text/plain": [
       "array([ 5.18737775e+00, -9.26959204e-12,  5.16029927e-03,  6.66327984e-05,\n",
       "        5.16091044e-03,  4.69414189e-04,  3.05356534e-04,  9.34686764e-01,\n",
       "        1.26732242e-05,  2.57872974e-07,  8.22016706e-07,  4.54275831e-06,\n",
       "        9.20195158e-08,  1.55560668e-05,  2.01660332e-06, -2.42400824e-05,\n",
       "        1.46849069e-06,  0.00000000e+00,  0.00000000e+00,  0.00000000e+00,\n",
       "        3.30288117e-07,  0.00000000e+00,  3.22455730e-05,  0.00000000e+00,\n",
       "        1.83893568e-06,  2.07149318e-07,  1.91309176e-07,  0.00000000e+00,\n",
       "        0.00000000e+00,  0.00000000e+00,  0.00000000e+00,  0.00000000e+00,\n",
       "        0.00000000e+00, -9.99763545e-08,  0.00000000e+00,  0.00000000e+00,\n",
       "       -3.45720106e-05,  1.16604598e-07,  0.00000000e+00,  0.00000000e+00,\n",
       "        0.00000000e+00,  0.00000000e+00, -6.85854044e-06,  7.21642261e-06,\n",
       "       -1.00009196e-07, -9.99763545e-08,  3.36511924e-06,  0.00000000e+00,\n",
       "        1.43485815e-06,  0.00000000e+00,  1.82114607e-06, -2.12145062e-05,\n",
       "        0.00000000e+00,  0.00000000e+00,  0.00000000e+00,  0.00000000e+00,\n",
       "        0.00000000e+00,  1.15193986e-05,  0.00000000e+00,  0.00000000e+00,\n",
       "        3.43183345e-06,  0.00000000e+00,  2.26271090e-07,  3.11985424e-05,\n",
       "        2.65413378e-06, -3.38210743e-05,  0.00000000e+00,  0.00000000e+00,\n",
       "        0.00000000e+00,  0.00000000e+00,  3.26247444e-07,  0.00000000e+00,\n",
       "        0.00000000e+00,  0.00000000e+00,  0.00000000e+00,  0.00000000e+00,\n",
       "        2.87300481e-07,  0.00000000e+00,  0.00000000e+00,  0.00000000e+00,\n",
       "        3.26231738e-07, -4.00141778e-05,  0.00000000e+00, -1.46176518e-07,\n",
       "        0.00000000e+00,  0.00000000e+00,  8.24762740e-07,  0.00000000e+00,\n",
       "        0.00000000e+00,  0.00000000e+00,  0.00000000e+00,  1.45516312e-06,\n",
       "        0.00000000e+00,  0.00000000e+00,  1.15908091e-07,  1.54854193e-07,\n",
       "        0.00000000e+00,  0.00000000e+00,  0.00000000e+00,  0.00000000e+00,\n",
       "        0.00000000e+00,  6.83739203e-07,  0.00000000e+00,  0.00000000e+00,\n",
       "        0.00000000e+00,  0.00000000e+00,  0.00000000e+00,  0.00000000e+00,\n",
       "        0.00000000e+00,  0.00000000e+00,  0.00000000e+00,  2.82402425e-07,\n",
       "        0.00000000e+00,  0.00000000e+00,  0.00000000e+00,  9.03977197e-07,\n",
       "        0.00000000e+00,  0.00000000e+00,  0.00000000e+00,  0.00000000e+00,\n",
       "        3.60688513e-07,  0.00000000e+00,  0.00000000e+00,  0.00000000e+00,\n",
       "        0.00000000e+00,  0.00000000e+00,  3.56040385e-07,  0.00000000e+00,\n",
       "        5.10317395e-07,  0.00000000e+00,  0.00000000e+00,  0.00000000e+00,\n",
       "        0.00000000e+00,  2.44269167e-07,  0.00000000e+00,  8.30610591e-07,\n",
       "        0.00000000e+00,  0.00000000e+00,  0.00000000e+00,  0.00000000e+00,\n",
       "        0.00000000e+00,  0.00000000e+00,  0.00000000e+00,  0.00000000e+00,\n",
       "        0.00000000e+00,  0.00000000e+00,  0.00000000e+00,  0.00000000e+00,\n",
       "        0.00000000e+00,  0.00000000e+00,  0.00000000e+00,  0.00000000e+00,\n",
       "       -2.69754044e-07,  0.00000000e+00,  0.00000000e+00,  0.00000000e+00,\n",
       "        0.00000000e+00,  8.04783141e-07,  0.00000000e+00,  0.00000000e+00,\n",
       "        0.00000000e+00,  0.00000000e+00,  0.00000000e+00,  0.00000000e+00,\n",
       "        0.00000000e+00,  0.00000000e+00,  0.00000000e+00,  0.00000000e+00,\n",
       "        0.00000000e+00, -9.99763545e-08,  0.00000000e+00,  0.00000000e+00,\n",
       "        0.00000000e+00,  0.00000000e+00,  0.00000000e+00,  0.00000000e+00,\n",
       "        3.58445134e-07,  2.74234608e-07,  0.00000000e+00,  6.69096821e-07,\n",
       "        2.90396448e-07,  0.00000000e+00,  0.00000000e+00,  8.53278941e-08,\n",
       "        0.00000000e+00,  0.00000000e+00,  0.00000000e+00,  0.00000000e+00,\n",
       "        0.00000000e+00,  0.00000000e+00,  1.37162732e-07,  8.77928431e-08,\n",
       "        0.00000000e+00,  0.00000000e+00,  0.00000000e+00,  0.00000000e+00,\n",
       "        7.08563594e-07,  0.00000000e+00,  0.00000000e+00,  0.00000000e+00,\n",
       "        0.00000000e+00,  6.75335060e-07,  2.74974312e-07,  0.00000000e+00,\n",
       "        0.00000000e+00,  0.00000000e+00,  0.00000000e+00,  0.00000000e+00,\n",
       "       -1.12707710e-07,  0.00000000e+00,  0.00000000e+00,  1.67046640e-07,\n",
       "        0.00000000e+00,  1.00328054e-06,  2.70956256e-05,  0.00000000e+00,\n",
       "        0.00000000e+00,  0.00000000e+00,  6.06087321e-07,  0.00000000e+00,\n",
       "        0.00000000e+00,  0.00000000e+00,  0.00000000e+00,  0.00000000e+00,\n",
       "        2.90396448e-07,  1.16547165e-06,  0.00000000e+00,  0.00000000e+00,\n",
       "        1.22149299e-06,  1.70617870e-06,  0.00000000e+00,  0.00000000e+00,\n",
       "        0.00000000e+00,  3.26247444e-07,  2.85507887e-05,  1.00328054e-06,\n",
       "        1.19188555e-06,  7.47730618e-07,  0.00000000e+00,  5.10317395e-07,\n",
       "        1.62192958e-06, -9.99763545e-08,  1.74592771e-07, -3.81524631e-05,\n",
       "        2.62566696e-05,  8.22016706e-07,  2.40677981e-06, -2.95958863e-07,\n",
       "        8.39580120e-06, -3.73274355e-05,  2.62566696e-05,  8.22016706e-07,\n",
       "        0.00000000e+00,  0.00000000e+00, -3.93521927e-05,  0.00000000e+00,\n",
       "        0.00000000e+00,  0.00000000e+00,  0.00000000e+00,  0.00000000e+00,\n",
       "        0.00000000e+00,  0.00000000e+00,  0.00000000e+00,  0.00000000e+00,\n",
       "        0.00000000e+00,  0.00000000e+00,  0.00000000e+00,  0.00000000e+00,\n",
       "        0.00000000e+00,  0.00000000e+00,  0.00000000e+00, -2.95958863e-07,\n",
       "        0.00000000e+00,  0.00000000e+00,  0.00000000e+00,  1.08025810e-05,\n",
       "        0.00000000e+00,  0.00000000e+00,  0.00000000e+00,  0.00000000e+00,\n",
       "        3.26247444e-07,  0.00000000e+00,  0.00000000e+00,  0.00000000e+00,\n",
       "        0.00000000e+00,  0.00000000e+00,  0.00000000e+00,  0.00000000e+00,\n",
       "        0.00000000e+00,  0.00000000e+00,  0.00000000e+00,  0.00000000e+00,\n",
       "        0.00000000e+00,  0.00000000e+00,  0.00000000e+00,  0.00000000e+00,\n",
       "        0.00000000e+00,  0.00000000e+00,  0.00000000e+00,  0.00000000e+00,\n",
       "        0.00000000e+00,  0.00000000e+00,  0.00000000e+00,  0.00000000e+00,\n",
       "        0.00000000e+00,  0.00000000e+00,  0.00000000e+00,  0.00000000e+00,\n",
       "        0.00000000e+00,  0.00000000e+00,  0.00000000e+00,  0.00000000e+00,\n",
       "        0.00000000e+00,  0.00000000e+00,  0.00000000e+00,  0.00000000e+00,\n",
       "        0.00000000e+00,  0.00000000e+00,  0.00000000e+00,  0.00000000e+00,\n",
       "        2.30019083e-07,  0.00000000e+00,  0.00000000e+00,  0.00000000e+00,\n",
       "        0.00000000e+00,  0.00000000e+00,  0.00000000e+00,  1.46849069e-06])"
      ]
     },
     "execution_count": 48,
     "metadata": {},
     "output_type": "execute_result"
    }
   ],
   "source": [
    "model.coef_"
   ]
  },
  {
   "cell_type": "code",
   "execution_count": 49,
   "metadata": {},
   "outputs": [
    {
     "name": "stderr",
     "output_type": "stream",
     "text": [
      "C:\\Users\\Mike\\Anaconda3\\lib\\site-packages\\ipykernel_launcher.py:1: SettingWithCopyWarning: \n",
      "A value is trying to be set on a copy of a slice from a DataFrame.\n",
      "Try using .loc[row_indexer,col_indexer] = value instead\n",
      "\n",
      "See the caveats in the documentation: http://pandas.pydata.org/pandas-docs/stable/indexing.html#indexing-view-versus-copy\n",
      "  \"\"\"Entry point for launching an IPython kernel.\n"
     ]
    }
   ],
   "source": [
    "salesData['new_prediction'] = model.predict(X2)"
   ]
  },
  {
   "cell_type": "code",
   "execution_count": 50,
   "metadata": {},
   "outputs": [
    {
     "data": {
      "text/plain": [
       "<matplotlib.axes._subplots.AxesSubplot at 0x1e59e24e4a8>"
      ]
     },
     "execution_count": 50,
     "metadata": {},
     "output_type": "execute_result"
    },
    {
     "data": {
      "image/png": "[encoded data removed]",
      "text/plain": [
       "<Figure size 432x288 with 1 Axes>"
      ]
     },
     "metadata": {},
     "output_type": "display_data"
    }
   ],
   "source": [
    "salesData[['predicted','new_prediction']].plot(alpha=0.5)"
   ]
  },
  {
   "cell_type": "markdown",
   "metadata": {},
   "source": [
    "# Part 2\n",
    "In this part you will create a Python function ``plot_decision_boundary`` that will accepts a machine learning model, feature set ``X``, and target set ``y`` as input and will plot the decision boundary of the input machine learning model  on ``(X,y)``. The following is a sample run of this function: \n",
    "\n",
    "```Python\n",
    "%matplotlib inline\n",
    "# Loading some example data\n",
    "iris = datasets.load_iris()\n",
    "X = iris.data[:, [0, 2]]\n",
    "y = iris.target\n",
    "\n",
    "# Training a classifier\n",
    "svm = SVC(C=0.5, kernel='linear')\n",
    "svm.fit(X, y)\n",
    "\n",
    "# Plotting decision boundary\n",
    "plot_decision_boundary(X, y, clf=svm)\n",
    "\n",
    "# Adding axes annotations\n",
    "plt.xlabel('sepal length [cm]')\n",
    "plt.ylabel('petal length [cm]')\n",
    "plt.title('SVM on Iris')```\n",
    "\n",
    "Sample output: \n",
    "![decision_boundary.png](attachment:decision_boundary.png)"
   ]
  },
  {
   "cell_type": "code",
   "execution_count": 51,
   "metadata": {},
   "outputs": [],
   "source": [
    "#adding necessary imports\n",
    "import matplotlib.pyplot as plt\n",
    "from sklearn import datasets\n",
    "from sklearn.svm import SVC"
   ]
  },
  {
   "cell_type": "code",
   "execution_count": 52,
   "metadata": {},
   "outputs": [],
   "source": [
    "from itertools import cycle\n",
    "import numpy as np\n",
    "from math import floor\n",
    "from math import ceil\n",
    "\n",
    "def plot_decision_boundary(X, y, clf):\n",
    "  \n",
    "    dimensions = X.shape[1]\n",
    "    \n",
    "    #Colors and markers for possible dimensions\n",
    "    colors=('#CDDC39,#388E3C,#7C4DFF,#FF4081,#E64A19,#8c564b')\n",
    "    markers='s^ov<x>'\n",
    "    \n",
    "    ax = plt.gca()\n",
    "\n",
    "    feature_index = (0, 1)\n",
    "    x_index, y_index = feature_index\n",
    "\n",
    "    marker_gen = cycle(list(markers))\n",
    "        \n",
    "    n_classes = np.unique(y).shape[0]\n",
    "    colors = colors.split(',')\n",
    "    colors_gen = cycle(colors)\n",
    "    colors = [next(colors_gen) for c in range(n_classes)]\n",
    "\n",
    "    # Get minimum and maximum\n",
    "    x_min, x_max = X[:, x_index].min() - 1, X[:, x_index].max() + 1\n",
    "    if dimensions == 1:\n",
    "        y_min, y_max = -1, 1\n",
    "    else:\n",
    "        y_min, y_max = X[:, y_index].min() - 1, X[:, y_index].max() + 1\n",
    "\n",
    "    xnum, ynum = plt.gcf().dpi * plt.gcf().get_size_inches()\n",
    "    xnum, ynum = floor(xnum), ceil(ynum)\n",
    "    xx, yy = np.meshgrid(np.linspace(x_min, x_max, num=xnum),\n",
    "                         np.linspace(y_min, y_max, num=ynum))\n",
    "\n",
    "    if dimensions == 1:\n",
    "        X_predict = np.array([xx.ravel()]).T\n",
    "    else:\n",
    "        X_grid = np.array([xx.ravel(), yy.ravel()]).T\n",
    "        X_predict = np.zeros((X_grid.shape[0], dimensions))\n",
    "        X_predict[:, x_index] = X_grid[:, 0]\n",
    "        X_predict[:, y_index] = X_grid[:, 1]\n",
    "        if dimensions > 2:\n",
    "            for feature_idx in filler_feature_values:\n",
    "                X_predict[:, feature_idx] = filler_feature_values[feature_idx]\n",
    "    Z = clf.predict(X_predict.astype(X.dtype))\n",
    "    Z = Z.reshape(xx.shape)\n",
    "    \n",
    "    # Plot decision region\n",
    "    cset = ax.contourf(xx, yy, Z,\n",
    "                       colors=colors,\n",
    "                       levels=np.arange(Z.max() + 2) - 0.5,\n",
    "                       antialiased=True,\n",
    "                       alpha=0.45)\n",
    "\n",
    "    ax.contour(xx, yy, Z, cset.levels,\n",
    "               colors='k',\n",
    "               linewidths=0.5,\n",
    "               alpha=0.45,\n",
    "               antialiased=True)\n",
    "\n",
    "    ax.axis(xmin=xx.min(), xmax=xx.max(), y_min=yy.min(), y_max=yy.max())\n",
    "\n",
    "    # Scatter training data samples\n",
    "    for idx, c in enumerate(np.unique(y)):\n",
    "        #Determine X and y data\n",
    "        if dimensions == 1:\n",
    "            y_data = [0 for i in X[y == c]]\n",
    "            x_data = X[y == c]\n",
    "        elif dimensions == 2:\n",
    "            y_data = X[y == c, y_index]\n",
    "            x_data = X[y == c, x_index]\n",
    "        else:\n",
    "            continue\n",
    "\n",
    "        ax.scatter(x=x_data,\n",
    "                   y=y_data,\n",
    "                   c=colors[idx],\n",
    "                   marker=next(marker_gen),\n",
    "                   label=c,\n",
    "                   edgecolor='black',\n",
    "                   alpha=0.8)\n",
    "    \n",
    "    #Chart formatting \n",
    "    ax.yaxis.set_ticks_position('left')\n",
    "    ax.xaxis.set_ticks_position('bottom')\n",
    "\n",
    "    handles, labels = ax.get_legend_handles_labels()\n",
    "    ax.legend(handles, labels, framealpha=0.3, scatterpoints=1, loc=1)\n",
    "\n",
    "    return ax"
   ]
  },
  {
   "cell_type": "code",
   "execution_count": 53,
   "metadata": {},
   "outputs": [
    {
     "data": {
      "text/plain": [
       "Text(0.5,1,'SVM on Iris')"
      ]
     },
     "execution_count": 53,
     "metadata": {},
     "output_type": "execute_result"
    },
    {
     "data": {
      "image/png": "[encoded data removed]",
      "text/plain": [
       "<Figure size 432x288 with 1 Axes>"
      ]
     },
     "metadata": {},
     "output_type": "display_data"
    }
   ],
   "source": [
    "%matplotlib inline\n",
    "# Loading some example data\n",
    "iris = datasets.load_iris()\n",
    "X = iris.data[:, [0, 2]]\n",
    "y = iris.target\n",
    "\n",
    "# Training a classifier\n",
    "svm = SVC(C=0.5, kernel='linear')\n",
    "svm.fit(X, y)\n",
    "\n",
    "# Plotting decision boundary\n",
    "plot_decision_boundary(X, y, clf=svm)\n",
    "\n",
    "# Adding axes annotations\n",
    "plt.xlabel('sepal length [cm]')\n",
    "plt.ylabel('petal length [cm]')\n",
    "plt.title('SVM on Iris')"
   ]
  },
  {
   "cell_type": "code",
   "execution_count": null,
   "metadata": {},
   "outputs": [],
   "source": []
  },
  {
   "cell_type": "code",
   "execution_count": null,
   "metadata": {},
   "outputs": [],
   "source": []
  }
 ],
 "metadata": {
  "kernelspec": {
   "display_name": "Python 3",
   "language": "python",
   "name": "python3"
  },
  "language_info": {
   "codemirror_mode": {
    "name": "ipython",
    "version": 3
   },
   "file_extension": ".py",
   "mimetype": "text/x-python",
   "name": "python",
   "nbconvert_exporter": "python",
   "pygments_lexer": "ipython3",
   "version": "3.6.5"
  }
 },
 "nbformat": 4,
 "nbformat_minor": 2
}
