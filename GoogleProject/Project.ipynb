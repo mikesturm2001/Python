{
 "cells": [
  {
   "cell_type": "markdown",
   "metadata": {},
   "source": [
    "### Project outline: \n",
    "\n",
    "- Read data into Jupyter notebook, use pandas to import data into a data frame\n",
    "- Preprocess data: Explore data, check for missing data and apply data scaling. Justify the type of scaling used.\n",
    "- Goal is to predict the **total transaction revenue**. \n",
    "- Decide aboute a good evaluation strategy and justify your choice.\n",
    "- Split dataset into train and test dataset. \n",
    "- Choose two supervised learning model of your choice to train on train set. Use proper methods to find the best parameters. Evaluate your method on test data according to evaluation strategy. \n",
    "- Choose two unsupervised learning models, clustering, to train on your dataset. Discuss results. \n",
    "- Choose two unsupervised learning models, dimentionally reduction, and train it your dataset. Now use the same supervised learning models above on reduced dataset. Can you see any differences? Discuss the result. \n",
    "- Use a neural network model on your dataset. Compare the result with other two supervised learning models. Which model performs better? \n",
    "\n",
    "### Deliverables:\n",
    "- Submit IPython notebook. Use markdown to provide an inline comments for this project.\n",
    "- Submit only one notebook. Before submitting, make sure everything runs as expected. To check that, restart the kernel (in the menubar, select Kernel > Restart) and then run all cells (in the menubar, select Cell > Run All).\n",
    "- Visualization expected. \n",
    "\n",
    "### Dataset Description\n",
    "This is an online Merchandise Store customer dataset. Goal is to predict the total transaction revenue. \n",
    "Each row in the dataset is one visit to the store. \n",
    "\n",
    "Data Fields\n",
    "- fullVisitorId- A unique identifier for each user of the Google Merchandise Store.\n",
    "- channelGrouping - The channel via which the user came to the Store.\n",
    "- date - The date on which the user visited the Store.\n",
    "- device - The specifications for the device used to access the Store.\n",
    "- geoNetwork - This section contains information about the geography of the user.\n",
    "- sessionId - A unique identifier for this visit to the store.\n",
    "- socialEngagementType - Engagement type, either \"Socially Engaged\" or \"Not Socially Engaged\".\n",
    "- totals - This section contains aggregate values across the session.\n",
    "- trafficSource - This section contains information about the Traffic Source from which the session originated.\n",
    "- visitId - An identifier for this session. This is part of the value usually stored as the _utmb cookie. This is only unique to the user. For a completely unique ID, you should use a combination of fullVisitorId and visitId.\n",
    "- visitNumber - The session number for this user. If this is the first session, then this is set to 1.\n",
    "- visitStartTime - The timestamp (expressed as POSIX time).\n",
    "- hits - This row and nested fields are populated for any and all types of hits. Provides a record of all page visits.\n",
    "- customDimensions - This section contains any user-level or session-level custom dimensions that are set for a session. This is a repeated field and has an entry for each dimension that is set."
   ]
  },
  {
   "cell_type": "code",
   "execution_count": 658,
   "metadata": {},
   "outputs": [],
   "source": [
    "import pandas as pd\n",
    "import numpy as np\n",
    "import ast\n",
    "import matplotlib.pyplot as plt\n",
    "import seaborn as sns; sns.set()\n",
    "%matplotlib inline"
   ]
  },
  {
   "cell_type": "code",
   "execution_count": 659,
   "metadata": {},
   "outputs": [],
   "source": [
    "#Read data into Jupyter notebook, use pandas to import data into a data frame"
   ]
  },
  {
   "cell_type": "code",
   "execution_count": 660,
   "metadata": {},
   "outputs": [],
   "source": [
    "data = pd.read_csv(\"data.csv\")"
   ]
  },
  {
   "cell_type": "code",
   "execution_count": 661,
   "metadata": {},
   "outputs": [],
   "source": [
    "#Preprocess data: Explore data"
   ]
  },
  {
   "cell_type": "code",
   "execution_count": 662,
   "metadata": {},
   "outputs": [
    {
     "data": {
      "text/html": [
       "<div>\n",
       "<style scoped>\n",
       "    .dataframe tbody tr th:only-of-type {\n",
       "        vertical-align: middle;\n",
       "    }\n",
       "\n",
       "    .dataframe tbody tr th {\n",
       "        vertical-align: top;\n",
       "    }\n",
       "\n",
       "    .dataframe thead th {\n",
       "        text-align: right;\n",
       "    }\n",
       "</style>\n",
       "<table border=\"1\" class=\"dataframe\">\n",
       "  <thead>\n",
       "    <tr style=\"text-align: right;\">\n",
       "      <th></th>\n",
       "      <th>date</th>\n",
       "      <th>fullVisitorId</th>\n",
       "      <th>visitId</th>\n",
       "      <th>visitNumber</th>\n",
       "      <th>visitStartTime</th>\n",
       "      <th>totals_bounces</th>\n",
       "      <th>totals_hits</th>\n",
       "      <th>totals_newVisits</th>\n",
       "      <th>totals_pageviews</th>\n",
       "      <th>totals_sessionQualityDim</th>\n",
       "      <th>totals_timeOnSite</th>\n",
       "      <th>totals_totalTransactionRevenue</th>\n",
       "      <th>totals_transactionRevenue</th>\n",
       "      <th>totals_transactions</th>\n",
       "      <th>totals_visits</th>\n",
       "    </tr>\n",
       "  </thead>\n",
       "  <tbody>\n",
       "    <tr>\n",
       "      <th>count</th>\n",
       "      <td>2.000000e+04</td>\n",
       "      <td>2.000000e+04</td>\n",
       "      <td>2.000000e+04</td>\n",
       "      <td>20000.000000</td>\n",
       "      <td>2.000000e+04</td>\n",
       "      <td>9873.0</td>\n",
       "      <td>20000.000000</td>\n",
       "      <td>15088.0</td>\n",
       "      <td>19999.000000</td>\n",
       "      <td>9120.000000</td>\n",
       "      <td>10101.000000</td>\n",
       "      <td>1.930000e+02</td>\n",
       "      <td>1.930000e+02</td>\n",
       "      <td>196.000000</td>\n",
       "      <td>20000.0</td>\n",
       "    </tr>\n",
       "    <tr>\n",
       "      <th>mean</th>\n",
       "      <td>2.017041e+07</td>\n",
       "      <td>4.533406e+18</td>\n",
       "      <td>1.498277e+09</td>\n",
       "      <td>2.264200</td>\n",
       "      <td>1.498277e+09</td>\n",
       "      <td>1.0</td>\n",
       "      <td>4.794450</td>\n",
       "      <td>1.0</td>\n",
       "      <td>3.971549</td>\n",
       "      <td>4.456140</td>\n",
       "      <td>264.244629</td>\n",
       "      <td>1.278192e+08</td>\n",
       "      <td>1.087636e+08</td>\n",
       "      <td>1.040816</td>\n",
       "      <td>1.0</td>\n",
       "    </tr>\n",
       "    <tr>\n",
       "      <th>std</th>\n",
       "      <td>4.737638e+03</td>\n",
       "      <td>3.067707e+18</td>\n",
       "      <td>1.565797e+07</td>\n",
       "      <td>7.876636</td>\n",
       "      <td>1.565797e+07</td>\n",
       "      <td>0.0</td>\n",
       "      <td>9.080243</td>\n",
       "      <td>0.0</td>\n",
       "      <td>6.498605</td>\n",
       "      <td>12.593541</td>\n",
       "      <td>459.176173</td>\n",
       "      <td>2.432262e+08</td>\n",
       "      <td>1.711924e+08</td>\n",
       "      <td>0.222727</td>\n",
       "      <td>0.0</td>\n",
       "    </tr>\n",
       "    <tr>\n",
       "      <th>min</th>\n",
       "      <td>2.016090e+07</td>\n",
       "      <td>8.864048e+13</td>\n",
       "      <td>1.472799e+09</td>\n",
       "      <td>1.000000</td>\n",
       "      <td>1.472800e+09</td>\n",
       "      <td>1.0</td>\n",
       "      <td>1.000000</td>\n",
       "      <td>1.0</td>\n",
       "      <td>1.000000</td>\n",
       "      <td>1.000000</td>\n",
       "      <td>1.000000</td>\n",
       "      <td>4.990000e+06</td>\n",
       "      <td>1.990000e+06</td>\n",
       "      <td>1.000000</td>\n",
       "      <td>1.0</td>\n",
       "    </tr>\n",
       "    <tr>\n",
       "      <th>25%</th>\n",
       "      <td>2.017020e+07</td>\n",
       "      <td>1.618305e+18</td>\n",
       "      <td>1.486118e+09</td>\n",
       "      <td>1.000000</td>\n",
       "      <td>1.486118e+09</td>\n",
       "      <td>1.0</td>\n",
       "      <td>1.000000</td>\n",
       "      <td>1.0</td>\n",
       "      <td>1.000000</td>\n",
       "      <td>1.000000</td>\n",
       "      <td>35.000000</td>\n",
       "      <td>2.799000e+07</td>\n",
       "      <td>2.102000e+07</td>\n",
       "      <td>1.000000</td>\n",
       "      <td>1.0</td>\n",
       "    </tr>\n",
       "    <tr>\n",
       "      <th>50%</th>\n",
       "      <td>2.017062e+07</td>\n",
       "      <td>4.446795e+18</td>\n",
       "      <td>1.498247e+09</td>\n",
       "      <td>1.000000</td>\n",
       "      <td>1.498247e+09</td>\n",
       "      <td>1.0</td>\n",
       "      <td>2.000000</td>\n",
       "      <td>1.0</td>\n",
       "      <td>2.000000</td>\n",
       "      <td>1.000000</td>\n",
       "      <td>94.000000</td>\n",
       "      <td>5.171000e+07</td>\n",
       "      <td>4.458000e+07</td>\n",
       "      <td>1.000000</td>\n",
       "      <td>1.0</td>\n",
       "    </tr>\n",
       "    <tr>\n",
       "      <th>75%</th>\n",
       "      <td>2.017113e+07</td>\n",
       "      <td>7.218982e+18</td>\n",
       "      <td>1.512038e+09</td>\n",
       "      <td>1.000000</td>\n",
       "      <td>1.512038e+09</td>\n",
       "      <td>1.0</td>\n",
       "      <td>5.000000</td>\n",
       "      <td>1.0</td>\n",
       "      <td>4.000000</td>\n",
       "      <td>1.000000</td>\n",
       "      <td>270.000000</td>\n",
       "      <td>1.141600e+08</td>\n",
       "      <td>1.087200e+08</td>\n",
       "      <td>1.000000</td>\n",
       "      <td>1.0</td>\n",
       "    </tr>\n",
       "    <tr>\n",
       "      <th>max</th>\n",
       "      <td>2.018042e+07</td>\n",
       "      <td>9.999250e+18</td>\n",
       "      <td>1.523862e+09</td>\n",
       "      <td>401.000000</td>\n",
       "      <td>1.523862e+09</td>\n",
       "      <td>1.0</td>\n",
       "      <td>229.000000</td>\n",
       "      <td>1.0</td>\n",
       "      <td>165.000000</td>\n",
       "      <td>96.000000</td>\n",
       "      <td>5553.000000</td>\n",
       "      <td>2.103690e+09</td>\n",
       "      <td>1.171470e+09</td>\n",
       "      <td>3.000000</td>\n",
       "      <td>1.0</td>\n",
       "    </tr>\n",
       "  </tbody>\n",
       "</table>\n",
       "</div>"
      ],
      "text/plain": [
       "               date  fullVisitorId       visitId   visitNumber  \\\n",
       "count  2.000000e+04   2.000000e+04  2.000000e+04  20000.000000   \n",
       "mean   2.017041e+07   4.533406e+18  1.498277e+09      2.264200   \n",
       "std    4.737638e+03   3.067707e+18  1.565797e+07      7.876636   \n",
       "min    2.016090e+07   8.864048e+13  1.472799e+09      1.000000   \n",
       "25%    2.017020e+07   1.618305e+18  1.486118e+09      1.000000   \n",
       "50%    2.017062e+07   4.446795e+18  1.498247e+09      1.000000   \n",
       "75%    2.017113e+07   7.218982e+18  1.512038e+09      1.000000   \n",
       "max    2.018042e+07   9.999250e+18  1.523862e+09    401.000000   \n",
       "\n",
       "       visitStartTime  totals_bounces   totals_hits  totals_newVisits  \\\n",
       "count    2.000000e+04          9873.0  20000.000000           15088.0   \n",
       "mean     1.498277e+09             1.0      4.794450               1.0   \n",
       "std      1.565797e+07             0.0      9.080243               0.0   \n",
       "min      1.472800e+09             1.0      1.000000               1.0   \n",
       "25%      1.486118e+09             1.0      1.000000               1.0   \n",
       "50%      1.498247e+09             1.0      2.000000               1.0   \n",
       "75%      1.512038e+09             1.0      5.000000               1.0   \n",
       "max      1.523862e+09             1.0    229.000000               1.0   \n",
       "\n",
       "       totals_pageviews  totals_sessionQualityDim  totals_timeOnSite  \\\n",
       "count      19999.000000               9120.000000       10101.000000   \n",
       "mean           3.971549                  4.456140         264.244629   \n",
       "std            6.498605                 12.593541         459.176173   \n",
       "min            1.000000                  1.000000           1.000000   \n",
       "25%            1.000000                  1.000000          35.000000   \n",
       "50%            2.000000                  1.000000          94.000000   \n",
       "75%            4.000000                  1.000000         270.000000   \n",
       "max          165.000000                 96.000000        5553.000000   \n",
       "\n",
       "       totals_totalTransactionRevenue  totals_transactionRevenue  \\\n",
       "count                    1.930000e+02               1.930000e+02   \n",
       "mean                     1.278192e+08               1.087636e+08   \n",
       "std                      2.432262e+08               1.711924e+08   \n",
       "min                      4.990000e+06               1.990000e+06   \n",
       "25%                      2.799000e+07               2.102000e+07   \n",
       "50%                      5.171000e+07               4.458000e+07   \n",
       "75%                      1.141600e+08               1.087200e+08   \n",
       "max                      2.103690e+09               1.171470e+09   \n",
       "\n",
       "       totals_transactions  totals_visits  \n",
       "count           196.000000        20000.0  \n",
       "mean              1.040816            1.0  \n",
       "std               0.222727            0.0  \n",
       "min               1.000000            1.0  \n",
       "25%               1.000000            1.0  \n",
       "50%               1.000000            1.0  \n",
       "75%               1.000000            1.0  \n",
       "max               3.000000            1.0  "
      ]
     },
     "execution_count": 662,
     "metadata": {},
     "output_type": "execute_result"
    }
   ],
   "source": [
    "data.describe()"
   ]
  },
  {
   "cell_type": "code",
   "execution_count": 663,
   "metadata": {},
   "outputs": [
    {
     "data": {
      "text/html": [
       "<div>\n",
       "<style scoped>\n",
       "    .dataframe tbody tr th:only-of-type {\n",
       "        vertical-align: middle;\n",
       "    }\n",
       "\n",
       "    .dataframe tbody tr th {\n",
       "        vertical-align: top;\n",
       "    }\n",
       "\n",
       "    .dataframe thead th {\n",
       "        text-align: right;\n",
       "    }\n",
       "</style>\n",
       "<table border=\"1\" class=\"dataframe\">\n",
       "  <thead>\n",
       "    <tr style=\"text-align: right;\">\n",
       "      <th></th>\n",
       "      <th>channelGrouping</th>\n",
       "      <th>customDimensions</th>\n",
       "      <th>date</th>\n",
       "      <th>device</th>\n",
       "      <th>fullVisitorId</th>\n",
       "      <th>geoNetwork</th>\n",
       "      <th>hits</th>\n",
       "      <th>socialEngagementType</th>\n",
       "      <th>trafficSource</th>\n",
       "      <th>visitId</th>\n",
       "      <th>...</th>\n",
       "      <th>totals_bounces</th>\n",
       "      <th>totals_hits</th>\n",
       "      <th>totals_newVisits</th>\n",
       "      <th>totals_pageviews</th>\n",
       "      <th>totals_sessionQualityDim</th>\n",
       "      <th>totals_timeOnSite</th>\n",
       "      <th>totals_totalTransactionRevenue</th>\n",
       "      <th>totals_transactionRevenue</th>\n",
       "      <th>totals_transactions</th>\n",
       "      <th>totals_visits</th>\n",
       "    </tr>\n",
       "  </thead>\n",
       "  <tbody>\n",
       "    <tr>\n",
       "      <th>0</th>\n",
       "      <td>Organic Search</td>\n",
       "      <td>[{'index': '4', 'value': 'EMEA'}]</td>\n",
       "      <td>20171016</td>\n",
       "      <td>{'mobileDeviceInfo': 'not available in demo da...</td>\n",
       "      <td>3162355547410993243</td>\n",
       "      <td>{'cityId': 'not available in demo dataset', 'm...</td>\n",
       "      <td>[{'hitNumber': '1', 'time': '0', 'hour': '17',...</td>\n",
       "      <td>Not Socially Engaged</td>\n",
       "      <td>{'campaign': '(not set)', 'source': 'google', ...</td>\n",
       "      <td>1508198450</td>\n",
       "      <td>...</td>\n",
       "      <td>1.0</td>\n",
       "      <td>1</td>\n",
       "      <td>1.0</td>\n",
       "      <td>1.0</td>\n",
       "      <td>1.0</td>\n",
       "      <td>NaN</td>\n",
       "      <td>NaN</td>\n",
       "      <td>NaN</td>\n",
       "      <td>NaN</td>\n",
       "      <td>1</td>\n",
       "    </tr>\n",
       "    <tr>\n",
       "      <th>1</th>\n",
       "      <td>Referral</td>\n",
       "      <td>[{'index': '4', 'value': 'North America'}]</td>\n",
       "      <td>20171016</td>\n",
       "      <td>{'mobileDeviceInfo': 'not available in demo da...</td>\n",
       "      <td>8934116514970143966</td>\n",
       "      <td>{'cityId': 'not available in demo dataset', 'm...</td>\n",
       "      <td>[{'hitNumber': '1', 'time': '0', 'hour': '10',...</td>\n",
       "      <td>Not Socially Engaged</td>\n",
       "      <td>{'referralPath': '/a/google.com/transportation...</td>\n",
       "      <td>1508176307</td>\n",
       "      <td>...</td>\n",
       "      <td>NaN</td>\n",
       "      <td>2</td>\n",
       "      <td>NaN</td>\n",
       "      <td>2.0</td>\n",
       "      <td>2.0</td>\n",
       "      <td>28.0</td>\n",
       "      <td>NaN</td>\n",
       "      <td>NaN</td>\n",
       "      <td>NaN</td>\n",
       "      <td>1</td>\n",
       "    </tr>\n",
       "    <tr>\n",
       "      <th>2</th>\n",
       "      <td>Direct</td>\n",
       "      <td>[{'index': '4', 'value': 'North America'}]</td>\n",
       "      <td>20171016</td>\n",
       "      <td>{'mobileDeviceInfo': 'not available in demo da...</td>\n",
       "      <td>7992466427990357681</td>\n",
       "      <td>{'cityId': 'not available in demo dataset', 'm...</td>\n",
       "      <td>[{'hitNumber': '1', 'time': '0', 'hour': '17',...</td>\n",
       "      <td>Not Socially Engaged</td>\n",
       "      <td>{'isTrueDirect': True, 'campaign': '(not set)'...</td>\n",
       "      <td>1508201613</td>\n",
       "      <td>...</td>\n",
       "      <td>NaN</td>\n",
       "      <td>2</td>\n",
       "      <td>1.0</td>\n",
       "      <td>2.0</td>\n",
       "      <td>1.0</td>\n",
       "      <td>38.0</td>\n",
       "      <td>NaN</td>\n",
       "      <td>NaN</td>\n",
       "      <td>NaN</td>\n",
       "      <td>1</td>\n",
       "    </tr>\n",
       "    <tr>\n",
       "      <th>3</th>\n",
       "      <td>Organic Search</td>\n",
       "      <td>[{'index': '4', 'value': 'EMEA'}]</td>\n",
       "      <td>20171016</td>\n",
       "      <td>{'mobileDeviceInfo': 'not available in demo da...</td>\n",
       "      <td>9075655783635761930</td>\n",
       "      <td>{'cityId': 'not available in demo dataset', 'm...</td>\n",
       "      <td>[{'hitNumber': '1', 'time': '0', 'hour': '9', ...</td>\n",
       "      <td>Not Socially Engaged</td>\n",
       "      <td>{'campaign': '(not set)', 'source': 'google', ...</td>\n",
       "      <td>1508169851</td>\n",
       "      <td>...</td>\n",
       "      <td>NaN</td>\n",
       "      <td>2</td>\n",
       "      <td>1.0</td>\n",
       "      <td>2.0</td>\n",
       "      <td>1.0</td>\n",
       "      <td>1.0</td>\n",
       "      <td>NaN</td>\n",
       "      <td>NaN</td>\n",
       "      <td>NaN</td>\n",
       "      <td>1</td>\n",
       "    </tr>\n",
       "    <tr>\n",
       "      <th>4</th>\n",
       "      <td>Organic Search</td>\n",
       "      <td>[{'index': '4', 'value': 'Central America'}]</td>\n",
       "      <td>20171016</td>\n",
       "      <td>{'mobileDeviceInfo': 'not available in demo da...</td>\n",
       "      <td>6960673291025684308</td>\n",
       "      <td>{'cityId': 'not available in demo dataset', 'm...</td>\n",
       "      <td>[{'hitNumber': '1', 'time': '0', 'hour': '14',...</td>\n",
       "      <td>Not Socially Engaged</td>\n",
       "      <td>{'campaign': '(not set)', 'source': 'google', ...</td>\n",
       "      <td>1508190552</td>\n",
       "      <td>...</td>\n",
       "      <td>NaN</td>\n",
       "      <td>2</td>\n",
       "      <td>1.0</td>\n",
       "      <td>2.0</td>\n",
       "      <td>1.0</td>\n",
       "      <td>52.0</td>\n",
       "      <td>NaN</td>\n",
       "      <td>NaN</td>\n",
       "      <td>NaN</td>\n",
       "      <td>1</td>\n",
       "    </tr>\n",
       "  </tbody>\n",
       "</table>\n",
       "<p>5 rows × 22 columns</p>\n",
       "</div>"
      ],
      "text/plain": [
       "  channelGrouping                              customDimensions      date  \\\n",
       "0  Organic Search             [{'index': '4', 'value': 'EMEA'}]  20171016   \n",
       "1        Referral    [{'index': '4', 'value': 'North America'}]  20171016   \n",
       "2          Direct    [{'index': '4', 'value': 'North America'}]  20171016   \n",
       "3  Organic Search             [{'index': '4', 'value': 'EMEA'}]  20171016   \n",
       "4  Organic Search  [{'index': '4', 'value': 'Central America'}]  20171016   \n",
       "\n",
       "                                              device        fullVisitorId  \\\n",
       "0  {'mobileDeviceInfo': 'not available in demo da...  3162355547410993243   \n",
       "1  {'mobileDeviceInfo': 'not available in demo da...  8934116514970143966   \n",
       "2  {'mobileDeviceInfo': 'not available in demo da...  7992466427990357681   \n",
       "3  {'mobileDeviceInfo': 'not available in demo da...  9075655783635761930   \n",
       "4  {'mobileDeviceInfo': 'not available in demo da...  6960673291025684308   \n",
       "\n",
       "                                          geoNetwork  \\\n",
       "0  {'cityId': 'not available in demo dataset', 'm...   \n",
       "1  {'cityId': 'not available in demo dataset', 'm...   \n",
       "2  {'cityId': 'not available in demo dataset', 'm...   \n",
       "3  {'cityId': 'not available in demo dataset', 'm...   \n",
       "4  {'cityId': 'not available in demo dataset', 'm...   \n",
       "\n",
       "                                                hits  socialEngagementType  \\\n",
       "0  [{'hitNumber': '1', 'time': '0', 'hour': '17',...  Not Socially Engaged   \n",
       "1  [{'hitNumber': '1', 'time': '0', 'hour': '10',...  Not Socially Engaged   \n",
       "2  [{'hitNumber': '1', 'time': '0', 'hour': '17',...  Not Socially Engaged   \n",
       "3  [{'hitNumber': '1', 'time': '0', 'hour': '9', ...  Not Socially Engaged   \n",
       "4  [{'hitNumber': '1', 'time': '0', 'hour': '14',...  Not Socially Engaged   \n",
       "\n",
       "                                       trafficSource     visitId  \\\n",
       "0  {'campaign': '(not set)', 'source': 'google', ...  1508198450   \n",
       "1  {'referralPath': '/a/google.com/transportation...  1508176307   \n",
       "2  {'isTrueDirect': True, 'campaign': '(not set)'...  1508201613   \n",
       "3  {'campaign': '(not set)', 'source': 'google', ...  1508169851   \n",
       "4  {'campaign': '(not set)', 'source': 'google', ...  1508190552   \n",
       "\n",
       "       ...        totals_bounces  totals_hits  totals_newVisits  \\\n",
       "0      ...                   1.0            1               1.0   \n",
       "1      ...                   NaN            2               NaN   \n",
       "2      ...                   NaN            2               1.0   \n",
       "3      ...                   NaN            2               1.0   \n",
       "4      ...                   NaN            2               1.0   \n",
       "\n",
       "   totals_pageviews  totals_sessionQualityDim  totals_timeOnSite  \\\n",
       "0               1.0                       1.0                NaN   \n",
       "1               2.0                       2.0               28.0   \n",
       "2               2.0                       1.0               38.0   \n",
       "3               2.0                       1.0                1.0   \n",
       "4               2.0                       1.0               52.0   \n",
       "\n",
       "   totals_totalTransactionRevenue  totals_transactionRevenue  \\\n",
       "0                             NaN                        NaN   \n",
       "1                             NaN                        NaN   \n",
       "2                             NaN                        NaN   \n",
       "3                             NaN                        NaN   \n",
       "4                             NaN                        NaN   \n",
       "\n",
       "   totals_transactions  totals_visits  \n",
       "0                  NaN              1  \n",
       "1                  NaN              1  \n",
       "2                  NaN              1  \n",
       "3                  NaN              1  \n",
       "4                  NaN              1  \n",
       "\n",
       "[5 rows x 22 columns]"
      ]
     },
     "execution_count": 663,
     "metadata": {},
     "output_type": "execute_result"
    }
   ],
   "source": [
    "#I notice here that a lot of columns contain JSON data\n",
    "data.head(5)"
   ]
  },
  {
   "cell_type": "code",
   "execution_count": 664,
   "metadata": {},
   "outputs": [
    {
     "data": {
      "text/plain": [
       "(20000, 22)"
      ]
     },
     "execution_count": 664,
     "metadata": {},
     "output_type": "execute_result"
    }
   ],
   "source": [
    "data.shape"
   ]
  },
  {
   "cell_type": "code",
   "execution_count": 665,
   "metadata": {},
   "outputs": [
    {
     "data": {
      "text/plain": [
       "['channelGrouping',\n",
       " 'customDimensions',\n",
       " 'date',\n",
       " 'device',\n",
       " 'fullVisitorId',\n",
       " 'geoNetwork',\n",
       " 'hits',\n",
       " 'socialEngagementType',\n",
       " 'trafficSource',\n",
       " 'visitId',\n",
       " 'visitNumber',\n",
       " 'visitStartTime',\n",
       " 'totals_bounces',\n",
       " 'totals_hits',\n",
       " 'totals_newVisits',\n",
       " 'totals_pageviews',\n",
       " 'totals_sessionQualityDim',\n",
       " 'totals_timeOnSite',\n",
       " 'totals_totalTransactionRevenue',\n",
       " 'totals_transactionRevenue',\n",
       " 'totals_transactions',\n",
       " 'totals_visits']"
      ]
     },
     "execution_count": 665,
     "metadata": {},
     "output_type": "execute_result"
    }
   ],
   "source": [
    "list(data)"
   ]
  },
  {
   "cell_type": "code",
   "execution_count": 666,
   "metadata": {},
   "outputs": [],
   "source": [
    "#check for missing data"
   ]
  },
  {
   "cell_type": "code",
   "execution_count": 667,
   "metadata": {},
   "outputs": [
    {
     "data": {
      "text/plain": [
       "channelGrouping                       0\n",
       "customDimensions                      0\n",
       "date                                  0\n",
       "device                                0\n",
       "fullVisitorId                         0\n",
       "geoNetwork                            0\n",
       "hits                                  0\n",
       "socialEngagementType                  0\n",
       "trafficSource                         0\n",
       "visitId                               0\n",
       "visitNumber                           0\n",
       "visitStartTime                        0\n",
       "totals_bounces                    10127\n",
       "totals_hits                           0\n",
       "totals_newVisits                   4912\n",
       "totals_pageviews                      1\n",
       "totals_sessionQualityDim          10880\n",
       "totals_timeOnSite                  9899\n",
       "totals_totalTransactionRevenue    19807\n",
       "totals_transactionRevenue         19807\n",
       "totals_transactions               19804\n",
       "totals_visits                         0\n",
       "dtype: int64"
      ]
     },
     "execution_count": 667,
     "metadata": {},
     "output_type": "execute_result"
    }
   ],
   "source": [
    "data.isnull().sum()"
   ]
  },
  {
   "cell_type": "code",
   "execution_count": 668,
   "metadata": {},
   "outputs": [],
   "source": [
    "salesData = data[data.totals_totalTransactionRevenue > 0] "
   ]
  },
  {
   "cell_type": "code",
   "execution_count": 669,
   "metadata": {},
   "outputs": [
    {
     "name": "stdout",
     "output_type": "stream",
     "text": [
      "17190000.0\n",
      "15190000.0\n"
     ]
    }
   ],
   "source": [
    "#Note that the totalTransactionRevenue is different from the transactionRevenue (also curiously large)\n",
    "print(salesData.iloc[0]['totals_totalTransactionRevenue'])\n",
    "print(salesData.iloc[0]['totals_transactionRevenue'])"
   ]
  },
  {
   "cell_type": "code",
   "execution_count": 670,
   "metadata": {},
   "outputs": [],
   "source": [
    "#A significant amount of the transaction data is NaN. It looks like there are only 193 sales.\n",
    "#A NaN transaction would be 0. if the transaction is 0 the total revenue is also 0.\n",
    "data['totals_totalTransactionRevenue'] = data['totals_totalTransactionRevenue'].fillna(0)\n",
    "data['totals_transactionRevenue'] = data['totals_transactionRevenue'].fillna(0)\n",
    "data['totals_transactions'] = data['totals_transactions'].fillna(0)"
   ]
  },
  {
   "cell_type": "code",
   "execution_count": 671,
   "metadata": {},
   "outputs": [
    {
     "data": {
      "text/plain": [
       "channelGrouping                       0\n",
       "customDimensions                      0\n",
       "date                                  0\n",
       "device                                0\n",
       "fullVisitorId                         0\n",
       "geoNetwork                            0\n",
       "hits                                  0\n",
       "socialEngagementType                  0\n",
       "trafficSource                         0\n",
       "visitId                               0\n",
       "visitNumber                           0\n",
       "visitStartTime                        0\n",
       "totals_bounces                    10127\n",
       "totals_hits                           0\n",
       "totals_newVisits                   4912\n",
       "totals_pageviews                      1\n",
       "totals_sessionQualityDim          10880\n",
       "totals_timeOnSite                  9899\n",
       "totals_totalTransactionRevenue        0\n",
       "totals_transactionRevenue             0\n",
       "totals_transactions                   0\n",
       "totals_visits                         0\n",
       "dtype: int64"
      ]
     },
     "execution_count": 671,
     "metadata": {},
     "output_type": "execute_result"
    }
   ],
   "source": [
    "data.isnull().sum()"
   ]
  },
  {
   "cell_type": "code",
   "execution_count": 672,
   "metadata": {},
   "outputs": [],
   "source": [
    "#It's time to conver the JSON string to a dictionary and then convert the dictionary to a data frame"
   ]
  },
  {
   "cell_type": "code",
   "execution_count": 673,
   "metadata": {},
   "outputs": [],
   "source": [
    "import json\n",
    "\n",
    "def string_to_dict(dict_string):\n",
    "    # Convert to proper json format\n",
    "    #dict_string = dict_string.replace(\" True\", ' \"True\"').replace(\" False\", ' \"False\"').replace(\"{'\", '{\"').replace(\"'}\", '\"}').replace(\"':\", '\":').replace(\" '\", ' \"').replace(\"',\", '\",')\n",
    "    # Use Json to convert string to dictionary\n",
    "    return json.loads(dict_string)"
   ]
  },
  {
   "cell_type": "code",
   "execution_count": 674,
   "metadata": {},
   "outputs": [],
   "source": [
    "def string_to_dict_simple(dict_string):\n",
    "    return ast.literal_eval(dict_string)"
   ]
  },
  {
   "cell_type": "code",
   "execution_count": 675,
   "metadata": {},
   "outputs": [
    {
     "data": {
      "text/html": [
       "<div>\n",
       "<style scoped>\n",
       "    .dataframe tbody tr th:only-of-type {\n",
       "        vertical-align: middle;\n",
       "    }\n",
       "\n",
       "    .dataframe tbody tr th {\n",
       "        vertical-align: top;\n",
       "    }\n",
       "\n",
       "    .dataframe thead th {\n",
       "        text-align: right;\n",
       "    }\n",
       "</style>\n",
       "<table border=\"1\" class=\"dataframe\">\n",
       "  <thead>\n",
       "    <tr style=\"text-align: right;\">\n",
       "      <th></th>\n",
       "      <th>0</th>\n",
       "    </tr>\n",
       "  </thead>\n",
       "  <tbody>\n",
       "    <tr>\n",
       "      <th>0</th>\n",
       "      <td>{'index': '4', 'value': 'EMEA'}</td>\n",
       "    </tr>\n",
       "    <tr>\n",
       "      <th>1</th>\n",
       "      <td>{'index': '4', 'value': 'North America'}</td>\n",
       "    </tr>\n",
       "    <tr>\n",
       "      <th>2</th>\n",
       "      <td>{'index': '4', 'value': 'North America'}</td>\n",
       "    </tr>\n",
       "    <tr>\n",
       "      <th>3</th>\n",
       "      <td>{'index': '4', 'value': 'EMEA'}</td>\n",
       "    </tr>\n",
       "    <tr>\n",
       "      <th>4</th>\n",
       "      <td>{'index': '4', 'value': 'Central America'}</td>\n",
       "    </tr>\n",
       "  </tbody>\n",
       "</table>\n",
       "</div>"
      ],
      "text/plain": [
       "                                            0\n",
       "0             {'index': '4', 'value': 'EMEA'}\n",
       "1    {'index': '4', 'value': 'North America'}\n",
       "2    {'index': '4', 'value': 'North America'}\n",
       "3             {'index': '4', 'value': 'EMEA'}\n",
       "4  {'index': '4', 'value': 'Central America'}"
      ]
     },
     "execution_count": 675,
     "metadata": {},
     "output_type": "execute_result"
    }
   ],
   "source": [
    "#This column doesn't seem to provide much value. I'll be dropping it.\n",
    "\n",
    "customDimensionsData = data['customDimensions'].apply(string_to_dict_simple)\n",
    "customDimensionsDataFrame = pd.DataFrame(list(customDimensionsData))\n",
    "\n",
    "customDimensionsDataFrame.head()"
   ]
  },
  {
   "cell_type": "code",
   "execution_count": 676,
   "metadata": {},
   "outputs": [
    {
     "data": {
      "text/html": [
       "<div>\n",
       "<style scoped>\n",
       "    .dataframe tbody tr th:only-of-type {\n",
       "        vertical-align: middle;\n",
       "    }\n",
       "\n",
       "    .dataframe tbody tr th {\n",
       "        vertical-align: top;\n",
       "    }\n",
       "\n",
       "    .dataframe thead th {\n",
       "        text-align: right;\n",
       "    }\n",
       "</style>\n",
       "<table border=\"1\" class=\"dataframe\">\n",
       "  <thead>\n",
       "    <tr style=\"text-align: right;\">\n",
       "      <th></th>\n",
       "      <th>browser</th>\n",
       "      <th>browserSize</th>\n",
       "      <th>browserVersion</th>\n",
       "      <th>deviceCategory</th>\n",
       "      <th>flashVersion</th>\n",
       "      <th>isMobile</th>\n",
       "      <th>language</th>\n",
       "      <th>mobileDeviceBranding</th>\n",
       "      <th>mobileDeviceInfo</th>\n",
       "      <th>mobileDeviceMarketingName</th>\n",
       "      <th>mobileDeviceModel</th>\n",
       "      <th>mobileInputSelector</th>\n",
       "      <th>operatingSystem</th>\n",
       "      <th>operatingSystemVersion</th>\n",
       "      <th>screenColors</th>\n",
       "      <th>screenResolution</th>\n",
       "    </tr>\n",
       "  </thead>\n",
       "  <tbody>\n",
       "    <tr>\n",
       "      <th>0</th>\n",
       "      <td>Firefox</td>\n",
       "      <td>not available in demo dataset</td>\n",
       "      <td>not available in demo dataset</td>\n",
       "      <td>desktop</td>\n",
       "      <td>not available in demo dataset</td>\n",
       "      <td>False</td>\n",
       "      <td>not available in demo dataset</td>\n",
       "      <td>not available in demo dataset</td>\n",
       "      <td>not available in demo dataset</td>\n",
       "      <td>not available in demo dataset</td>\n",
       "      <td>not available in demo dataset</td>\n",
       "      <td>not available in demo dataset</td>\n",
       "      <td>Windows</td>\n",
       "      <td>not available in demo dataset</td>\n",
       "      <td>not available in demo dataset</td>\n",
       "      <td>not available in demo dataset</td>\n",
       "    </tr>\n",
       "    <tr>\n",
       "      <th>1</th>\n",
       "      <td>Chrome</td>\n",
       "      <td>not available in demo dataset</td>\n",
       "      <td>not available in demo dataset</td>\n",
       "      <td>desktop</td>\n",
       "      <td>not available in demo dataset</td>\n",
       "      <td>False</td>\n",
       "      <td>not available in demo dataset</td>\n",
       "      <td>not available in demo dataset</td>\n",
       "      <td>not available in demo dataset</td>\n",
       "      <td>not available in demo dataset</td>\n",
       "      <td>not available in demo dataset</td>\n",
       "      <td>not available in demo dataset</td>\n",
       "      <td>Chrome OS</td>\n",
       "      <td>not available in demo dataset</td>\n",
       "      <td>not available in demo dataset</td>\n",
       "      <td>not available in demo dataset</td>\n",
       "    </tr>\n",
       "    <tr>\n",
       "      <th>2</th>\n",
       "      <td>Chrome</td>\n",
       "      <td>not available in demo dataset</td>\n",
       "      <td>not available in demo dataset</td>\n",
       "      <td>mobile</td>\n",
       "      <td>not available in demo dataset</td>\n",
       "      <td>True</td>\n",
       "      <td>not available in demo dataset</td>\n",
       "      <td>not available in demo dataset</td>\n",
       "      <td>not available in demo dataset</td>\n",
       "      <td>not available in demo dataset</td>\n",
       "      <td>not available in demo dataset</td>\n",
       "      <td>not available in demo dataset</td>\n",
       "      <td>Android</td>\n",
       "      <td>not available in demo dataset</td>\n",
       "      <td>not available in demo dataset</td>\n",
       "      <td>not available in demo dataset</td>\n",
       "    </tr>\n",
       "    <tr>\n",
       "      <th>3</th>\n",
       "      <td>Chrome</td>\n",
       "      <td>not available in demo dataset</td>\n",
       "      <td>not available in demo dataset</td>\n",
       "      <td>desktop</td>\n",
       "      <td>not available in demo dataset</td>\n",
       "      <td>False</td>\n",
       "      <td>not available in demo dataset</td>\n",
       "      <td>not available in demo dataset</td>\n",
       "      <td>not available in demo dataset</td>\n",
       "      <td>not available in demo dataset</td>\n",
       "      <td>not available in demo dataset</td>\n",
       "      <td>not available in demo dataset</td>\n",
       "      <td>Windows</td>\n",
       "      <td>not available in demo dataset</td>\n",
       "      <td>not available in demo dataset</td>\n",
       "      <td>not available in demo dataset</td>\n",
       "    </tr>\n",
       "    <tr>\n",
       "      <th>4</th>\n",
       "      <td>Chrome</td>\n",
       "      <td>not available in demo dataset</td>\n",
       "      <td>not available in demo dataset</td>\n",
       "      <td>desktop</td>\n",
       "      <td>not available in demo dataset</td>\n",
       "      <td>False</td>\n",
       "      <td>not available in demo dataset</td>\n",
       "      <td>not available in demo dataset</td>\n",
       "      <td>not available in demo dataset</td>\n",
       "      <td>not available in demo dataset</td>\n",
       "      <td>not available in demo dataset</td>\n",
       "      <td>not available in demo dataset</td>\n",
       "      <td>Windows</td>\n",
       "      <td>not available in demo dataset</td>\n",
       "      <td>not available in demo dataset</td>\n",
       "      <td>not available in demo dataset</td>\n",
       "    </tr>\n",
       "  </tbody>\n",
       "</table>\n",
       "</div>"
      ],
      "text/plain": [
       "   browser                    browserSize                 browserVersion  \\\n",
       "0  Firefox  not available in demo dataset  not available in demo dataset   \n",
       "1   Chrome  not available in demo dataset  not available in demo dataset   \n",
       "2   Chrome  not available in demo dataset  not available in demo dataset   \n",
       "3   Chrome  not available in demo dataset  not available in demo dataset   \n",
       "4   Chrome  not available in demo dataset  not available in demo dataset   \n",
       "\n",
       "  deviceCategory                   flashVersion  isMobile  \\\n",
       "0        desktop  not available in demo dataset     False   \n",
       "1        desktop  not available in demo dataset     False   \n",
       "2         mobile  not available in demo dataset      True   \n",
       "3        desktop  not available in demo dataset     False   \n",
       "4        desktop  not available in demo dataset     False   \n",
       "\n",
       "                        language           mobileDeviceBranding  \\\n",
       "0  not available in demo dataset  not available in demo dataset   \n",
       "1  not available in demo dataset  not available in demo dataset   \n",
       "2  not available in demo dataset  not available in demo dataset   \n",
       "3  not available in demo dataset  not available in demo dataset   \n",
       "4  not available in demo dataset  not available in demo dataset   \n",
       "\n",
       "                mobileDeviceInfo      mobileDeviceMarketingName  \\\n",
       "0  not available in demo dataset  not available in demo dataset   \n",
       "1  not available in demo dataset  not available in demo dataset   \n",
       "2  not available in demo dataset  not available in demo dataset   \n",
       "3  not available in demo dataset  not available in demo dataset   \n",
       "4  not available in demo dataset  not available in demo dataset   \n",
       "\n",
       "               mobileDeviceModel            mobileInputSelector  \\\n",
       "0  not available in demo dataset  not available in demo dataset   \n",
       "1  not available in demo dataset  not available in demo dataset   \n",
       "2  not available in demo dataset  not available in demo dataset   \n",
       "3  not available in demo dataset  not available in demo dataset   \n",
       "4  not available in demo dataset  not available in demo dataset   \n",
       "\n",
       "  operatingSystem         operatingSystemVersion  \\\n",
       "0         Windows  not available in demo dataset   \n",
       "1       Chrome OS  not available in demo dataset   \n",
       "2         Android  not available in demo dataset   \n",
       "3         Windows  not available in demo dataset   \n",
       "4         Windows  not available in demo dataset   \n",
       "\n",
       "                    screenColors               screenResolution  \n",
       "0  not available in demo dataset  not available in demo dataset  \n",
       "1  not available in demo dataset  not available in demo dataset  \n",
       "2  not available in demo dataset  not available in demo dataset  \n",
       "3  not available in demo dataset  not available in demo dataset  \n",
       "4  not available in demo dataset  not available in demo dataset  "
      ]
     },
     "execution_count": 676,
     "metadata": {},
     "output_type": "execute_result"
    }
   ],
   "source": [
    "#Device Data provides several useful columns. anything not available in the demo dataset will be dropped\n",
    "deviceData = data['device'].apply(string_to_dict_simple)\n",
    "deviceDataFrame = pd.DataFrame(list(deviceData))\n",
    "\n",
    "deviceDataFrame.head()"
   ]
  },
  {
   "cell_type": "code",
   "execution_count": 677,
   "metadata": {},
   "outputs": [
    {
     "data": {
      "text/html": [
       "<div>\n",
       "<style scoped>\n",
       "    .dataframe tbody tr th:only-of-type {\n",
       "        vertical-align: middle;\n",
       "    }\n",
       "\n",
       "    .dataframe tbody tr th {\n",
       "        vertical-align: top;\n",
       "    }\n",
       "\n",
       "    .dataframe thead th {\n",
       "        text-align: right;\n",
       "    }\n",
       "</style>\n",
       "<table border=\"1\" class=\"dataframe\">\n",
       "  <thead>\n",
       "    <tr style=\"text-align: right;\">\n",
       "      <th></th>\n",
       "      <th>city</th>\n",
       "      <th>cityId</th>\n",
       "      <th>continent</th>\n",
       "      <th>country</th>\n",
       "      <th>latitude</th>\n",
       "      <th>longitude</th>\n",
       "      <th>metro</th>\n",
       "      <th>networkDomain</th>\n",
       "      <th>networkLocation</th>\n",
       "      <th>region</th>\n",
       "      <th>subContinent</th>\n",
       "    </tr>\n",
       "  </thead>\n",
       "  <tbody>\n",
       "    <tr>\n",
       "      <th>0</th>\n",
       "      <td>not available in demo dataset</td>\n",
       "      <td>not available in demo dataset</td>\n",
       "      <td>Europe</td>\n",
       "      <td>Germany</td>\n",
       "      <td>not available in demo dataset</td>\n",
       "      <td>not available in demo dataset</td>\n",
       "      <td>not available in demo dataset</td>\n",
       "      <td>(not set)</td>\n",
       "      <td>not available in demo dataset</td>\n",
       "      <td>not available in demo dataset</td>\n",
       "      <td>Western Europe</td>\n",
       "    </tr>\n",
       "    <tr>\n",
       "      <th>1</th>\n",
       "      <td>Cupertino</td>\n",
       "      <td>not available in demo dataset</td>\n",
       "      <td>Americas</td>\n",
       "      <td>United States</td>\n",
       "      <td>not available in demo dataset</td>\n",
       "      <td>not available in demo dataset</td>\n",
       "      <td>San Francisco-Oakland-San Jose CA</td>\n",
       "      <td>(not set)</td>\n",
       "      <td>not available in demo dataset</td>\n",
       "      <td>California</td>\n",
       "      <td>Northern America</td>\n",
       "    </tr>\n",
       "    <tr>\n",
       "      <th>2</th>\n",
       "      <td>not available in demo dataset</td>\n",
       "      <td>not available in demo dataset</td>\n",
       "      <td>Americas</td>\n",
       "      <td>United States</td>\n",
       "      <td>not available in demo dataset</td>\n",
       "      <td>not available in demo dataset</td>\n",
       "      <td>not available in demo dataset</td>\n",
       "      <td>windjammercable.net</td>\n",
       "      <td>not available in demo dataset</td>\n",
       "      <td>not available in demo dataset</td>\n",
       "      <td>Northern America</td>\n",
       "    </tr>\n",
       "    <tr>\n",
       "      <th>3</th>\n",
       "      <td>not available in demo dataset</td>\n",
       "      <td>not available in demo dataset</td>\n",
       "      <td>Asia</td>\n",
       "      <td>Turkey</td>\n",
       "      <td>not available in demo dataset</td>\n",
       "      <td>not available in demo dataset</td>\n",
       "      <td>not available in demo dataset</td>\n",
       "      <td>unknown.unknown</td>\n",
       "      <td>not available in demo dataset</td>\n",
       "      <td>not available in demo dataset</td>\n",
       "      <td>Western Asia</td>\n",
       "    </tr>\n",
       "    <tr>\n",
       "      <th>4</th>\n",
       "      <td>not available in demo dataset</td>\n",
       "      <td>not available in demo dataset</td>\n",
       "      <td>Americas</td>\n",
       "      <td>Mexico</td>\n",
       "      <td>not available in demo dataset</td>\n",
       "      <td>not available in demo dataset</td>\n",
       "      <td>not available in demo dataset</td>\n",
       "      <td>prod-infinitum.com.mx</td>\n",
       "      <td>not available in demo dataset</td>\n",
       "      <td>not available in demo dataset</td>\n",
       "      <td>Central America</td>\n",
       "    </tr>\n",
       "  </tbody>\n",
       "</table>\n",
       "</div>"
      ],
      "text/plain": [
       "                            city                         cityId continent  \\\n",
       "0  not available in demo dataset  not available in demo dataset    Europe   \n",
       "1                      Cupertino  not available in demo dataset  Americas   \n",
       "2  not available in demo dataset  not available in demo dataset  Americas   \n",
       "3  not available in demo dataset  not available in demo dataset      Asia   \n",
       "4  not available in demo dataset  not available in demo dataset  Americas   \n",
       "\n",
       "         country                       latitude  \\\n",
       "0        Germany  not available in demo dataset   \n",
       "1  United States  not available in demo dataset   \n",
       "2  United States  not available in demo dataset   \n",
       "3         Turkey  not available in demo dataset   \n",
       "4         Mexico  not available in demo dataset   \n",
       "\n",
       "                       longitude                              metro  \\\n",
       "0  not available in demo dataset      not available in demo dataset   \n",
       "1  not available in demo dataset  San Francisco-Oakland-San Jose CA   \n",
       "2  not available in demo dataset      not available in demo dataset   \n",
       "3  not available in demo dataset      not available in demo dataset   \n",
       "4  not available in demo dataset      not available in demo dataset   \n",
       "\n",
       "           networkDomain                networkLocation  \\\n",
       "0              (not set)  not available in demo dataset   \n",
       "1              (not set)  not available in demo dataset   \n",
       "2    windjammercable.net  not available in demo dataset   \n",
       "3        unknown.unknown  not available in demo dataset   \n",
       "4  prod-infinitum.com.mx  not available in demo dataset   \n",
       "\n",
       "                          region      subContinent  \n",
       "0  not available in demo dataset    Western Europe  \n",
       "1                     California  Northern America  \n",
       "2  not available in demo dataset  Northern America  \n",
       "3  not available in demo dataset      Western Asia  \n",
       "4  not available in demo dataset   Central America  "
      ]
     },
     "execution_count": 677,
     "metadata": {},
     "output_type": "execute_result"
    }
   ],
   "source": [
    "geoData = data['geoNetwork'].apply(string_to_dict_simple)\n",
    "geoDataFrame = pd.DataFrame(list(geoData))\n",
    "\n",
    "geoDataFrame.head()"
   ]
  },
  {
   "cell_type": "code",
   "execution_count": 678,
   "metadata": {},
   "outputs": [
    {
     "name": "stdout",
     "output_type": "stream",
     "text": [
      "[{'hitNumber': '1', 'time': '0', 'hour': '10', 'minute': '51', 'isInteraction': True, 'isEntrance': True, 'referer': 'https://sites.google.com/a/google.com/transportation/mtv-services/bikes/bike2workmay2016', 'page': {'pagePath': '/home', 'hostname': 'shop.googlemerchandisestore.com', 'pageTitle': 'Home', 'searchKeyword': 'jersey', 'searchCategory': '(not set)', 'pagePathLevel1': '/home', 'pagePathLevel2': '', 'pagePathLevel3': '', 'pagePathLevel4': ''}, 'appInfo': {'screenName': 'shop.googlemerchandisestore.com/home', 'landingScreenName': 'shop.googlemerchandisestore.com/home', 'exitScreenName': 'shop.googlemerchandisestore.com/asearch.html', 'screenDepth': '0'}, 'exceptionInfo': {'isFatal': True}, 'product': [], 'promotion': [{'promoId': 'Apparel Row 1', 'promoName': 'Apparel', 'promoCreative': 'home_main_link_apparel.jpg', 'promoPosition': 'Row 1'}, {'promoId': 'Backpacks Row 2 Combo', 'promoName': 'Backpacks', 'promoCreative': 'home_bags_google_2.jpg', 'promoPosition': 'Row 2 Combo'}, {'promoId': 'Mens T-Shirts Row 3-1', 'promoName': 'Mens T-Shirts', 'promoCreative': 'mens-tshirts.jpg', 'promoPosition': 'Row 3-1'}, {'promoId': 'Womens T-Shirts Row 3-2', 'promoName': 'Womens T-Shirts', 'promoCreative': 'womens-tshirts.jpg', 'promoPosition': 'Row 3-2'}, {'promoId': 'Office Row 5 Color Combo', 'promoName': 'Office', 'promoCreative': 'green_row_link_to_office.jpg', 'promoPosition': 'Row 5 Color Combo'}, {'promoId': 'Drinkware Row 4 Color Combo', 'promoName': 'Drinkware', 'promoCreative': 'red_row_hydrate.jpg', 'promoPosition': 'Row 4 Color Combo'}, {'promoId': 'Google Brand Row 7-1', 'promoName': 'Google Brand', 'promoCreative': 'home_lower_google_500.jpg', 'promoPosition': 'Brand Row 7-1'}, {'promoId': 'YouTube Brand Row 7-2', 'promoName': 'YouTube Brand', 'promoCreative': 'home_lower_youtube_500.jpg', 'promoPosition': 'Brand Row 7-2'}, {'promoId': 'Android Brand Row 7-3', 'promoName': 'Andriod Brand', 'promoCreative': 'home_lower_android_500.jpg', 'promoPosition': 'Brand Row 7-3'}], 'promotionActionInfo': {'promoIsView': True}, 'eCommerceAction': {'action_type': '0', 'step': '1'}, 'experiment': [], 'customVariables': [], 'customDimensions': [], 'customMetrics': [], 'type': 'PAGE', 'social': {'socialNetwork': '(not set)', 'hasSocialSourceReferral': 'No', 'socialInteractionNetworkAction': ' : '}, 'contentGroup': {'contentGroup1': '(not set)', 'contentGroup2': '(not set)', 'contentGroup3': '(not set)', 'contentGroup4': '(not set)', 'contentGroup5': '(not set)', 'previousContentGroup1': '(entrance)', 'previousContentGroup2': '(entrance)', 'previousContentGroup3': '(entrance)', 'previousContentGroup4': '(entrance)', 'previousContentGroup5': '(entrance)'}, 'dataSource': 'web', 'publisher_infos': []}, {'hitNumber': '2', 'time': '27844', 'hour': '10', 'minute': '52', 'isInteraction': True, 'isExit': True, 'page': {'pagePath': '/asearch.html', 'hostname': 'shop.googlemerchandisestore.com', 'pageTitle': 'Store search results', 'pagePathLevel1': '/asearch.html', 'pagePathLevel2': '', 'pagePathLevel3': '', 'pagePathLevel4': ''}, 'transaction': {'currencyCode': 'USD'}, 'item': {'currencyCode': 'USD'}, 'appInfo': {'screenName': 'shop.googlemerchandisestore.com/asearch.html', 'landingScreenName': 'shop.googlemerchandisestore.com/home', 'exitScreenName': 'shop.googlemerchandisestore.com/asearch.html', 'screenDepth': '0'}, 'exceptionInfo': {'isFatal': True}, 'product': [{'productSKU': 'GGOEGAAX0104', 'v2ProductName': \"Google Men's 100% Cotton Short Sleeve Hero Tee White\", 'v2ProductCategory': '(not set)', 'productVariant': '(not set)', 'productBrand': '(not set)', 'productPrice': '16990000', 'localProductPrice': '16990000', 'isImpression': True, 'customDimensions': [], 'customMetrics': [], 'productListName': 'Search Results', 'productListPosition': '1'}, {'productSKU': 'GGOEGAAX0105', 'v2ProductName': \"Google Men's 100% Cotton Short Sleeve Hero Tee Black\", 'v2ProductCategory': '(not set)', 'productVariant': '(not set)', 'productBrand': '(not set)', 'productPrice': '16990000', 'localProductPrice': '16990000', 'isImpression': True, 'customDimensions': [], 'customMetrics': [], 'productListName': 'Search Results', 'productListPosition': '2'}, {'productSKU': 'GGOEGAAX0106', 'v2ProductName': \"Google Men's 100% Cotton Short Sleeve Hero Tee Navy\", 'v2ProductCategory': '(not set)', 'productVariant': '(not set)', 'productBrand': '(not set)', 'productPrice': '16990000', 'localProductPrice': '16990000', 'isImpression': True, 'customDimensions': [], 'customMetrics': [], 'productListName': 'Search Results', 'productListPosition': '3'}, {'productSKU': 'GGOEGAAX0279', 'v2ProductName': \"Google Women's Short Sleeve Hero Tee White\", 'v2ProductCategory': '(not set)', 'productVariant': '(not set)', 'productBrand': '(not set)', 'productPrice': '16990000', 'localProductPrice': '16990000', 'isImpression': True, 'customDimensions': [], 'customMetrics': [], 'productListName': 'Search Results', 'productListPosition': '4'}, {'productSKU': 'GGOEGAAX0291', 'v2ProductName': \"Google Women's Short Sleeve Hero Tee Sky Blue\", 'v2ProductCategory': '(not set)', 'productVariant': '(not set)', 'productBrand': '(not set)', 'productPrice': '18990000', 'localProductPrice': '18990000', 'isImpression': True, 'customDimensions': [], 'customMetrics': [], 'productListName': 'Search Results', 'productListPosition': '5'}, {'productSKU': 'GGOEGAAX0278', 'v2ProductName': \"Google Women's Short Sleeve Hero Tee Black\", 'v2ProductCategory': '(not set)', 'productVariant': '(not set)', 'productBrand': '(not set)', 'productPrice': '16990000', 'localProductPrice': '16990000', 'isImpression': True, 'customDimensions': [], 'customMetrics': [], 'productListName': 'Search Results', 'productListPosition': '6'}, {'productSKU': 'GGOEGAAX0297', 'v2ProductName': \"Google Women's Short Sleeve Hero Tee Red Heather\", 'v2ProductCategory': '(not set)', 'productVariant': '(not set)', 'productBrand': '(not set)', 'productPrice': '18990000', 'localProductPrice': '18990000', 'isImpression': True, 'customDimensions': [], 'customMetrics': [], 'productListName': 'Search Results', 'productListPosition': '7'}, {'productSKU': 'GGOEGAAX0107', 'v2ProductName': \"Google Men's 100% Cotton Short Sleeve Hero Tee Red\", 'v2ProductCategory': '(not set)', 'productVariant': '(not set)', 'productBrand': '(not set)', 'productPrice': '16990000', 'localProductPrice': '16990000', 'isImpression': True, 'customDimensions': [], 'customMetrics': [], 'productListName': 'Search Results', 'productListPosition': '8'}, {'productSKU': 'GGOEGAAX0280', 'v2ProductName': \"Google Women's Short Sleeve Hero Tee Grey\", 'v2ProductCategory': '(not set)', 'productVariant': '(not set)', 'productBrand': '(not set)', 'productPrice': '16990000', 'localProductPrice': '16990000', 'isImpression': True, 'customDimensions': [], 'customMetrics': [], 'productListName': 'Search Results', 'productListPosition': '9'}, {'productSKU': 'GGOEGAAX0289', 'v2ProductName': \"Google Women's Short Sleeve Hero Dark Grey\", 'v2ProductCategory': '(not set)', 'productVariant': '(not set)', 'productBrand': '(not set)', 'productPrice': '18990000', 'localProductPrice': '18990000', 'isImpression': True, 'customDimensions': [], 'customMetrics': [], 'productListName': 'Search Results', 'productListPosition': '10'}, {'productSKU': 'GGOEGAAX0281', 'v2ProductName': \"Google Women's Short Sleeve Badge Tee Grey\", 'v2ProductCategory': '(not set)', 'productVariant': '(not set)', 'productBrand': '(not set)', 'productPrice': '16990000', 'localProductPrice': '16990000', 'isImpression': True, 'customDimensions': [], 'customMetrics': [], 'productListName': 'Search Results', 'productListPosition': '11'}, {'productSKU': 'GGOEGAAX0746', 'v2ProductName': \"Google Women's Short Sleeve Badge Tee Navy\", 'v2ProductCategory': '(not set)', 'productVariant': '(not set)', 'productBrand': '(not set)', 'productPrice': '16990000', 'localProductPrice': '16990000', 'isImpression': True, 'customDimensions': [], 'customMetrics': [], 'productListName': 'Search Results', 'productListPosition': '12'}, {'productSKU': 'GGOEGAAX0324', 'v2ProductName': \"Android Men's Short Sleeve Tri-blend Hero Tee Grey\", 'v2ProductCategory': '(not set)', 'productVariant': '(not set)', 'productBrand': '(not set)', 'productPrice': '18990000', 'localProductPrice': '18990000', 'isImpression': True, 'customDimensions': [], 'customMetrics': [], 'productListName': 'Search Results', 'productListPosition': '13'}, {'productSKU': 'GGOEGAAX0326', 'v2ProductName': \"Google Men's Short Sleeve Badge Tee Charcoal\", 'v2ProductCategory': '(not set)', 'productVariant': '(not set)', 'productBrand': '(not set)', 'productPrice': '18990000', 'localProductPrice': '18990000', 'isImpression': True, 'customDimensions': [], 'customMetrics': [], 'productListName': 'Search Results', 'productListPosition': '14'}, {'productSKU': 'GGOEGAAX0323', 'v2ProductName': \"Google Men's Short Sleeve Hero Tee Charcoal\", 'v2ProductCategory': '(not set)', 'productVariant': '(not set)', 'productBrand': '(not set)', 'productPrice': '18990000', 'localProductPrice': '18990000', 'isImpression': True, 'customDimensions': [], 'customMetrics': [], 'productListName': 'Search Results', 'productListPosition': '15'}], 'promotion': [], 'eCommerceAction': {'action_type': '0', 'step': '1'}, 'experiment': [], 'customVariables': [], 'customDimensions': [], 'customMetrics': [], 'type': 'PAGE', 'social': {'socialNetwork': '(not set)', 'hasSocialSourceReferral': 'No', 'socialInteractionNetworkAction': ' : '}, 'contentGroup': {'contentGroup1': '(not set)', 'contentGroup2': '(not set)', 'contentGroup3': '(not set)', 'contentGroup4': '(not set)', 'contentGroup5': '(not set)', 'previousContentGroup1': '(not set)', 'previousContentGroup2': '(not set)', 'previousContentGroup3': '(not set)', 'previousContentGroup4': '(not set)', 'previousContentGroup5': '(not set)'}, 'dataSource': 'web', 'publisher_infos': []}]\n"
     ]
    }
   ],
   "source": [
    "#I have no idea what to do with this information... it's so much and so nested. I'll be dropping this column.\n",
    "\n",
    "print(data['hits'][1])\n",
    "#hitsData = data['hits'].apply(string_to_dict_simple)\n",
    "#hitsDataFrame = pd.DataFrame(list(hitsData))\n",
    "\n",
    "#hitsDataFrame.head()"
   ]
  },
  {
   "cell_type": "code",
   "execution_count": 679,
   "metadata": {},
   "outputs": [
    {
     "data": {
      "text/html": [
       "<div>\n",
       "<style scoped>\n",
       "    .dataframe tbody tr th:only-of-type {\n",
       "        vertical-align: middle;\n",
       "    }\n",
       "\n",
       "    .dataframe tbody tr th {\n",
       "        vertical-align: top;\n",
       "    }\n",
       "\n",
       "    .dataframe thead th {\n",
       "        text-align: right;\n",
       "    }\n",
       "</style>\n",
       "<table border=\"1\" class=\"dataframe\">\n",
       "  <thead>\n",
       "    <tr style=\"text-align: right;\">\n",
       "      <th></th>\n",
       "      <th>adContent</th>\n",
       "      <th>campaign</th>\n",
       "      <th>isTrueDirect</th>\n",
       "      <th>keyword</th>\n",
       "      <th>medium</th>\n",
       "      <th>referralPath</th>\n",
       "      <th>source</th>\n",
       "    </tr>\n",
       "  </thead>\n",
       "  <tbody>\n",
       "    <tr>\n",
       "      <th>0</th>\n",
       "      <td>NaN</td>\n",
       "      <td>(not set)</td>\n",
       "      <td>NaN</td>\n",
       "      <td>water bottle</td>\n",
       "      <td>organic</td>\n",
       "      <td>NaN</td>\n",
       "      <td>google</td>\n",
       "    </tr>\n",
       "    <tr>\n",
       "      <th>1</th>\n",
       "      <td>NaN</td>\n",
       "      <td>(not set)</td>\n",
       "      <td>NaN</td>\n",
       "      <td>NaN</td>\n",
       "      <td>referral</td>\n",
       "      <td>/a/google.com/transportation/mtv-services/bike...</td>\n",
       "      <td>sites.google.com</td>\n",
       "    </tr>\n",
       "    <tr>\n",
       "      <th>2</th>\n",
       "      <td>NaN</td>\n",
       "      <td>(not set)</td>\n",
       "      <td>True</td>\n",
       "      <td>NaN</td>\n",
       "      <td>(none)</td>\n",
       "      <td>NaN</td>\n",
       "      <td>(direct)</td>\n",
       "    </tr>\n",
       "    <tr>\n",
       "      <th>3</th>\n",
       "      <td>NaN</td>\n",
       "      <td>(not set)</td>\n",
       "      <td>NaN</td>\n",
       "      <td>(not provided)</td>\n",
       "      <td>organic</td>\n",
       "      <td>NaN</td>\n",
       "      <td>google</td>\n",
       "    </tr>\n",
       "    <tr>\n",
       "      <th>4</th>\n",
       "      <td>NaN</td>\n",
       "      <td>(not set)</td>\n",
       "      <td>NaN</td>\n",
       "      <td>(not provided)</td>\n",
       "      <td>organic</td>\n",
       "      <td>NaN</td>\n",
       "      <td>google</td>\n",
       "    </tr>\n",
       "  </tbody>\n",
       "</table>\n",
       "</div>"
      ],
      "text/plain": [
       "  adContent   campaign isTrueDirect         keyword    medium  \\\n",
       "0       NaN  (not set)          NaN    water bottle   organic   \n",
       "1       NaN  (not set)          NaN             NaN  referral   \n",
       "2       NaN  (not set)         True             NaN    (none)   \n",
       "3       NaN  (not set)          NaN  (not provided)   organic   \n",
       "4       NaN  (not set)          NaN  (not provided)   organic   \n",
       "\n",
       "                                        referralPath            source  \n",
       "0                                                NaN            google  \n",
       "1  /a/google.com/transportation/mtv-services/bike...  sites.google.com  \n",
       "2                                                NaN          (direct)  \n",
       "3                                                NaN            google  \n",
       "4                                                NaN            google  "
      ]
     },
     "execution_count": 679,
     "metadata": {},
     "output_type": "execute_result"
    }
   ],
   "source": [
    "#Traffic data seems to provide some useful information such as medium and source\n",
    "\n",
    "trafficSourceData = data['trafficSource'].apply(string_to_dict_simple)\n",
    "trafficSourceDataFrame = pd.DataFrame(list(trafficSourceData))\n",
    "trafficSourceDataFrame.drop(columns=['adwordsClickInfo'], inplace=True)\n",
    "trafficSourceDataFrame.head()"
   ]
  },
  {
   "cell_type": "code",
   "execution_count": 680,
   "metadata": {},
   "outputs": [
    {
     "data": {
      "text/html": [
       "<div>\n",
       "<style scoped>\n",
       "    .dataframe tbody tr th:only-of-type {\n",
       "        vertical-align: middle;\n",
       "    }\n",
       "\n",
       "    .dataframe tbody tr th {\n",
       "        vertical-align: top;\n",
       "    }\n",
       "\n",
       "    .dataframe thead th {\n",
       "        text-align: right;\n",
       "    }\n",
       "</style>\n",
       "<table border=\"1\" class=\"dataframe\">\n",
       "  <thead>\n",
       "    <tr style=\"text-align: right;\">\n",
       "      <th></th>\n",
       "      <th>channelGrouping</th>\n",
       "      <th>date</th>\n",
       "      <th>fullVisitorId</th>\n",
       "      <th>socialEngagementType</th>\n",
       "      <th>visitId</th>\n",
       "      <th>visitNumber</th>\n",
       "      <th>visitStartTime</th>\n",
       "      <th>totals_bounces</th>\n",
       "      <th>totals_hits</th>\n",
       "      <th>totals_newVisits</th>\n",
       "      <th>totals_pageviews</th>\n",
       "      <th>totals_sessionQualityDim</th>\n",
       "      <th>totals_timeOnSite</th>\n",
       "      <th>totals_totalTransactionRevenue</th>\n",
       "      <th>totals_transactionRevenue</th>\n",
       "      <th>totals_transactions</th>\n",
       "      <th>totals_visits</th>\n",
       "    </tr>\n",
       "  </thead>\n",
       "  <tbody>\n",
       "    <tr>\n",
       "      <th>0</th>\n",
       "      <td>Organic Search</td>\n",
       "      <td>20171016</td>\n",
       "      <td>3162355547410993243</td>\n",
       "      <td>Not Socially Engaged</td>\n",
       "      <td>1508198450</td>\n",
       "      <td>1</td>\n",
       "      <td>1508198450</td>\n",
       "      <td>1.0</td>\n",
       "      <td>1</td>\n",
       "      <td>1.0</td>\n",
       "      <td>1.0</td>\n",
       "      <td>1.0</td>\n",
       "      <td>NaN</td>\n",
       "      <td>0.0</td>\n",
       "      <td>0.0</td>\n",
       "      <td>0.0</td>\n",
       "      <td>1</td>\n",
       "    </tr>\n",
       "    <tr>\n",
       "      <th>1</th>\n",
       "      <td>Referral</td>\n",
       "      <td>20171016</td>\n",
       "      <td>8934116514970143966</td>\n",
       "      <td>Not Socially Engaged</td>\n",
       "      <td>1508176307</td>\n",
       "      <td>6</td>\n",
       "      <td>1508176307</td>\n",
       "      <td>NaN</td>\n",
       "      <td>2</td>\n",
       "      <td>NaN</td>\n",
       "      <td>2.0</td>\n",
       "      <td>2.0</td>\n",
       "      <td>28.0</td>\n",
       "      <td>0.0</td>\n",
       "      <td>0.0</td>\n",
       "      <td>0.0</td>\n",
       "      <td>1</td>\n",
       "    </tr>\n",
       "    <tr>\n",
       "      <th>2</th>\n",
       "      <td>Direct</td>\n",
       "      <td>20171016</td>\n",
       "      <td>7992466427990357681</td>\n",
       "      <td>Not Socially Engaged</td>\n",
       "      <td>1508201613</td>\n",
       "      <td>1</td>\n",
       "      <td>1508201613</td>\n",
       "      <td>NaN</td>\n",
       "      <td>2</td>\n",
       "      <td>1.0</td>\n",
       "      <td>2.0</td>\n",
       "      <td>1.0</td>\n",
       "      <td>38.0</td>\n",
       "      <td>0.0</td>\n",
       "      <td>0.0</td>\n",
       "      <td>0.0</td>\n",
       "      <td>1</td>\n",
       "    </tr>\n",
       "    <tr>\n",
       "      <th>3</th>\n",
       "      <td>Organic Search</td>\n",
       "      <td>20171016</td>\n",
       "      <td>9075655783635761930</td>\n",
       "      <td>Not Socially Engaged</td>\n",
       "      <td>1508169851</td>\n",
       "      <td>1</td>\n",
       "      <td>1508169851</td>\n",
       "      <td>NaN</td>\n",
       "      <td>2</td>\n",
       "      <td>1.0</td>\n",
       "      <td>2.0</td>\n",
       "      <td>1.0</td>\n",
       "      <td>1.0</td>\n",
       "      <td>0.0</td>\n",
       "      <td>0.0</td>\n",
       "      <td>0.0</td>\n",
       "      <td>1</td>\n",
       "    </tr>\n",
       "    <tr>\n",
       "      <th>4</th>\n",
       "      <td>Organic Search</td>\n",
       "      <td>20171016</td>\n",
       "      <td>6960673291025684308</td>\n",
       "      <td>Not Socially Engaged</td>\n",
       "      <td>1508190552</td>\n",
       "      <td>1</td>\n",
       "      <td>1508190552</td>\n",
       "      <td>NaN</td>\n",
       "      <td>2</td>\n",
       "      <td>1.0</td>\n",
       "      <td>2.0</td>\n",
       "      <td>1.0</td>\n",
       "      <td>52.0</td>\n",
       "      <td>0.0</td>\n",
       "      <td>0.0</td>\n",
       "      <td>0.0</td>\n",
       "      <td>1</td>\n",
       "    </tr>\n",
       "  </tbody>\n",
       "</table>\n",
       "</div>"
      ],
      "text/plain": [
       "  channelGrouping      date        fullVisitorId  socialEngagementType  \\\n",
       "0  Organic Search  20171016  3162355547410993243  Not Socially Engaged   \n",
       "1        Referral  20171016  8934116514970143966  Not Socially Engaged   \n",
       "2          Direct  20171016  7992466427990357681  Not Socially Engaged   \n",
       "3  Organic Search  20171016  9075655783635761930  Not Socially Engaged   \n",
       "4  Organic Search  20171016  6960673291025684308  Not Socially Engaged   \n",
       "\n",
       "      visitId  visitNumber  visitStartTime  totals_bounces  totals_hits  \\\n",
       "0  1508198450            1      1508198450             1.0            1   \n",
       "1  1508176307            6      1508176307             NaN            2   \n",
       "2  1508201613            1      1508201613             NaN            2   \n",
       "3  1508169851            1      1508169851             NaN            2   \n",
       "4  1508190552            1      1508190552             NaN            2   \n",
       "\n",
       "   totals_newVisits  totals_pageviews  totals_sessionQualityDim  \\\n",
       "0               1.0               1.0                       1.0   \n",
       "1               NaN               2.0                       2.0   \n",
       "2               1.0               2.0                       1.0   \n",
       "3               1.0               2.0                       1.0   \n",
       "4               1.0               2.0                       1.0   \n",
       "\n",
       "   totals_timeOnSite  totals_totalTransactionRevenue  \\\n",
       "0                NaN                             0.0   \n",
       "1               28.0                             0.0   \n",
       "2               38.0                             0.0   \n",
       "3                1.0                             0.0   \n",
       "4               52.0                             0.0   \n",
       "\n",
       "   totals_transactionRevenue  totals_transactions  totals_visits  \n",
       "0                        0.0                  0.0              1  \n",
       "1                        0.0                  0.0              1  \n",
       "2                        0.0                  0.0              1  \n",
       "3                        0.0                  0.0              1  \n",
       "4                        0.0                  0.0              1  "
      ]
     },
     "execution_count": 680,
     "metadata": {},
     "output_type": "execute_result"
    }
   ],
   "source": [
    "#Drop JSON dictionary columns\n",
    "data.drop(columns=['customDimensions','hits','trafficSource','device','geoNetwork'], inplace=True)\n",
    "data.head()"
   ]
  },
  {
   "cell_type": "code",
   "execution_count": 681,
   "metadata": {},
   "outputs": [],
   "source": [
    "#Add new dictionary based dataframes to parent dataframe\n",
    "newData = pd.concat([data, deviceDataFrame, geoDataFrame, trafficSourceDataFrame], axis=1)"
   ]
  },
  {
   "cell_type": "code",
   "execution_count": 682,
   "metadata": {},
   "outputs": [
    {
     "data": {
      "text/html": [
       "<div>\n",
       "<style scoped>\n",
       "    .dataframe tbody tr th:only-of-type {\n",
       "        vertical-align: middle;\n",
       "    }\n",
       "\n",
       "    .dataframe tbody tr th {\n",
       "        vertical-align: top;\n",
       "    }\n",
       "\n",
       "    .dataframe thead th {\n",
       "        text-align: right;\n",
       "    }\n",
       "</style>\n",
       "<table border=\"1\" class=\"dataframe\">\n",
       "  <thead>\n",
       "    <tr style=\"text-align: right;\">\n",
       "      <th></th>\n",
       "      <th>channelGrouping</th>\n",
       "      <th>date</th>\n",
       "      <th>fullVisitorId</th>\n",
       "      <th>socialEngagementType</th>\n",
       "      <th>visitId</th>\n",
       "      <th>visitNumber</th>\n",
       "      <th>visitStartTime</th>\n",
       "      <th>totals_bounces</th>\n",
       "      <th>totals_hits</th>\n",
       "      <th>totals_newVisits</th>\n",
       "      <th>...</th>\n",
       "      <th>networkLocation</th>\n",
       "      <th>region</th>\n",
       "      <th>subContinent</th>\n",
       "      <th>adContent</th>\n",
       "      <th>campaign</th>\n",
       "      <th>isTrueDirect</th>\n",
       "      <th>keyword</th>\n",
       "      <th>medium</th>\n",
       "      <th>referralPath</th>\n",
       "      <th>source</th>\n",
       "    </tr>\n",
       "  </thead>\n",
       "  <tbody>\n",
       "    <tr>\n",
       "      <th>0</th>\n",
       "      <td>Organic Search</td>\n",
       "      <td>20171016</td>\n",
       "      <td>3162355547410993243</td>\n",
       "      <td>Not Socially Engaged</td>\n",
       "      <td>1508198450</td>\n",
       "      <td>1</td>\n",
       "      <td>1508198450</td>\n",
       "      <td>1.0</td>\n",
       "      <td>1</td>\n",
       "      <td>1.0</td>\n",
       "      <td>...</td>\n",
       "      <td>NaN</td>\n",
       "      <td>NaN</td>\n",
       "      <td>Western Europe</td>\n",
       "      <td>NaN</td>\n",
       "      <td>(not set)</td>\n",
       "      <td>NaN</td>\n",
       "      <td>water bottle</td>\n",
       "      <td>organic</td>\n",
       "      <td>NaN</td>\n",
       "      <td>google</td>\n",
       "    </tr>\n",
       "    <tr>\n",
       "      <th>1</th>\n",
       "      <td>Referral</td>\n",
       "      <td>20171016</td>\n",
       "      <td>8934116514970143966</td>\n",
       "      <td>Not Socially Engaged</td>\n",
       "      <td>1508176307</td>\n",
       "      <td>6</td>\n",
       "      <td>1508176307</td>\n",
       "      <td>NaN</td>\n",
       "      <td>2</td>\n",
       "      <td>NaN</td>\n",
       "      <td>...</td>\n",
       "      <td>NaN</td>\n",
       "      <td>California</td>\n",
       "      <td>Northern America</td>\n",
       "      <td>NaN</td>\n",
       "      <td>(not set)</td>\n",
       "      <td>NaN</td>\n",
       "      <td>NaN</td>\n",
       "      <td>referral</td>\n",
       "      <td>/a/google.com/transportation/mtv-services/bike...</td>\n",
       "      <td>sites.google.com</td>\n",
       "    </tr>\n",
       "    <tr>\n",
       "      <th>2</th>\n",
       "      <td>Direct</td>\n",
       "      <td>20171016</td>\n",
       "      <td>7992466427990357681</td>\n",
       "      <td>Not Socially Engaged</td>\n",
       "      <td>1508201613</td>\n",
       "      <td>1</td>\n",
       "      <td>1508201613</td>\n",
       "      <td>NaN</td>\n",
       "      <td>2</td>\n",
       "      <td>1.0</td>\n",
       "      <td>...</td>\n",
       "      <td>NaN</td>\n",
       "      <td>NaN</td>\n",
       "      <td>Northern America</td>\n",
       "      <td>NaN</td>\n",
       "      <td>(not set)</td>\n",
       "      <td>True</td>\n",
       "      <td>NaN</td>\n",
       "      <td>(none)</td>\n",
       "      <td>NaN</td>\n",
       "      <td>(direct)</td>\n",
       "    </tr>\n",
       "    <tr>\n",
       "      <th>3</th>\n",
       "      <td>Organic Search</td>\n",
       "      <td>20171016</td>\n",
       "      <td>9075655783635761930</td>\n",
       "      <td>Not Socially Engaged</td>\n",
       "      <td>1508169851</td>\n",
       "      <td>1</td>\n",
       "      <td>1508169851</td>\n",
       "      <td>NaN</td>\n",
       "      <td>2</td>\n",
       "      <td>1.0</td>\n",
       "      <td>...</td>\n",
       "      <td>NaN</td>\n",
       "      <td>NaN</td>\n",
       "      <td>Western Asia</td>\n",
       "      <td>NaN</td>\n",
       "      <td>(not set)</td>\n",
       "      <td>NaN</td>\n",
       "      <td>(not provided)</td>\n",
       "      <td>organic</td>\n",
       "      <td>NaN</td>\n",
       "      <td>google</td>\n",
       "    </tr>\n",
       "    <tr>\n",
       "      <th>4</th>\n",
       "      <td>Organic Search</td>\n",
       "      <td>20171016</td>\n",
       "      <td>6960673291025684308</td>\n",
       "      <td>Not Socially Engaged</td>\n",
       "      <td>1508190552</td>\n",
       "      <td>1</td>\n",
       "      <td>1508190552</td>\n",
       "      <td>NaN</td>\n",
       "      <td>2</td>\n",
       "      <td>1.0</td>\n",
       "      <td>...</td>\n",
       "      <td>NaN</td>\n",
       "      <td>NaN</td>\n",
       "      <td>Central America</td>\n",
       "      <td>NaN</td>\n",
       "      <td>(not set)</td>\n",
       "      <td>NaN</td>\n",
       "      <td>(not provided)</td>\n",
       "      <td>organic</td>\n",
       "      <td>NaN</td>\n",
       "      <td>google</td>\n",
       "    </tr>\n",
       "  </tbody>\n",
       "</table>\n",
       "<p>5 rows × 51 columns</p>\n",
       "</div>"
      ],
      "text/plain": [
       "  channelGrouping      date        fullVisitorId  socialEngagementType  \\\n",
       "0  Organic Search  20171016  3162355547410993243  Not Socially Engaged   \n",
       "1        Referral  20171016  8934116514970143966  Not Socially Engaged   \n",
       "2          Direct  20171016  7992466427990357681  Not Socially Engaged   \n",
       "3  Organic Search  20171016  9075655783635761930  Not Socially Engaged   \n",
       "4  Organic Search  20171016  6960673291025684308  Not Socially Engaged   \n",
       "\n",
       "      visitId  visitNumber  visitStartTime  totals_bounces  totals_hits  \\\n",
       "0  1508198450            1      1508198450             1.0            1   \n",
       "1  1508176307            6      1508176307             NaN            2   \n",
       "2  1508201613            1      1508201613             NaN            2   \n",
       "3  1508169851            1      1508169851             NaN            2   \n",
       "4  1508190552            1      1508190552             NaN            2   \n",
       "\n",
       "   totals_newVisits        ...         networkLocation      region  \\\n",
       "0               1.0        ...                     NaN         NaN   \n",
       "1               NaN        ...                     NaN  California   \n",
       "2               1.0        ...                     NaN         NaN   \n",
       "3               1.0        ...                     NaN         NaN   \n",
       "4               1.0        ...                     NaN         NaN   \n",
       "\n",
       "       subContinent  adContent   campaign  isTrueDirect         keyword  \\\n",
       "0    Western Europe        NaN  (not set)           NaN    water bottle   \n",
       "1  Northern America        NaN  (not set)           NaN             NaN   \n",
       "2  Northern America        NaN  (not set)          True             NaN   \n",
       "3      Western Asia        NaN  (not set)           NaN  (not provided)   \n",
       "4   Central America        NaN  (not set)           NaN  (not provided)   \n",
       "\n",
       "     medium                                       referralPath  \\\n",
       "0   organic                                                NaN   \n",
       "1  referral  /a/google.com/transportation/mtv-services/bike...   \n",
       "2    (none)                                                NaN   \n",
       "3   organic                                                NaN   \n",
       "4   organic                                                NaN   \n",
       "\n",
       "             source  \n",
       "0            google  \n",
       "1  sites.google.com  \n",
       "2          (direct)  \n",
       "3            google  \n",
       "4            google  \n",
       "\n",
       "[5 rows x 51 columns]"
      ]
     },
     "execution_count": 682,
     "metadata": {},
     "output_type": "execute_result"
    }
   ],
   "source": [
    "#I'll be replacing all string values of 'not available in demo dataset' with NaN in order to check for more missing data\n",
    "newData = newData.replace('not available in demo dataset', np.nan, regex=True)\n",
    "newData.head()"
   ]
  },
  {
   "cell_type": "code",
   "execution_count": 683,
   "metadata": {},
   "outputs": [
    {
     "data": {
      "text/plain": [
       "channelGrouping                         Organic Search\n",
       "date                                          20171016\n",
       "fullVisitorId                      3162355547410993243\n",
       "socialEngagementType              Not Socially Engaged\n",
       "visitId                                     1508198450\n",
       "visitNumber                                          1\n",
       "visitStartTime                              1508198450\n",
       "totals_bounces                                       1\n",
       "totals_hits                                          1\n",
       "totals_newVisits                                     1\n",
       "totals_pageviews                                     1\n",
       "totals_sessionQualityDim                             1\n",
       "totals_timeOnSite                                  NaN\n",
       "totals_totalTransactionRevenue                       0\n",
       "totals_transactionRevenue                            0\n",
       "totals_transactions                                  0\n",
       "totals_visits                                        1\n",
       "browser                                        Firefox\n",
       "browserSize                                        NaN\n",
       "browserVersion                                     NaN\n",
       "deviceCategory                                 desktop\n",
       "flashVersion                                       NaN\n",
       "isMobile                                         False\n",
       "language                                           NaN\n",
       "mobileDeviceBranding                               NaN\n",
       "mobileDeviceInfo                                   NaN\n",
       "mobileDeviceMarketingName                          NaN\n",
       "mobileDeviceModel                                  NaN\n",
       "mobileInputSelector                                NaN\n",
       "operatingSystem                                Windows\n",
       "operatingSystemVersion                             NaN\n",
       "screenColors                                       NaN\n",
       "screenResolution                                   NaN\n",
       "city                                               NaN\n",
       "cityId                                             NaN\n",
       "continent                                       Europe\n",
       "country                                        Germany\n",
       "latitude                                           NaN\n",
       "longitude                                          NaN\n",
       "metro                                              NaN\n",
       "networkDomain                                (not set)\n",
       "networkLocation                                    NaN\n",
       "region                                             NaN\n",
       "subContinent                            Western Europe\n",
       "adContent                                          NaN\n",
       "campaign                                     (not set)\n",
       "isTrueDirect                                       NaN\n",
       "keyword                                   water bottle\n",
       "medium                                         organic\n",
       "referralPath                                       NaN\n",
       "source                                          google\n",
       "Name: 0, dtype: object"
      ]
     },
     "execution_count": 683,
     "metadata": {},
     "output_type": "execute_result"
    }
   ],
   "source": [
    "newData.iloc[0]"
   ]
  },
  {
   "cell_type": "code",
   "execution_count": 684,
   "metadata": {},
   "outputs": [],
   "source": [
    "#Drop any columns with more that 50% missing values as they will not be useful and challenging to populate with data\n",
    "half_count = len(newData) / 2\n",
    "newData = newData.dropna(thresh=half_count,axis=1)"
   ]
  },
  {
   "cell_type": "code",
   "execution_count": 685,
   "metadata": {},
   "outputs": [
    {
     "name": "stdout",
     "output_type": "stream",
     "text": [
      "Number of null values in each column:\n",
      "channelGrouping                      0\n",
      "date                                 0\n",
      "fullVisitorId                        0\n",
      "socialEngagementType                 0\n",
      "visitId                              0\n",
      "visitNumber                          0\n",
      "visitStartTime                       0\n",
      "totals_hits                          0\n",
      "totals_newVisits                  4912\n",
      "totals_pageviews                     1\n",
      "totals_timeOnSite                 9899\n",
      "totals_totalTransactionRevenue       0\n",
      "totals_transactionRevenue            0\n",
      "totals_transactions                  0\n",
      "totals_visits                        0\n",
      "browser                              0\n",
      "deviceCategory                       0\n",
      "isMobile                             0\n",
      "operatingSystem                      0\n",
      "continent                            0\n",
      "country                              0\n",
      "networkDomain                        0\n",
      "subContinent                         0\n",
      "campaign                             0\n",
      "medium                               0\n",
      "source                               0\n",
      "dtype: int64\n"
     ]
    }
   ],
   "source": [
    "#search for more missing data. Due to the high volume of misses let's drop totals_timeOnSite and totals_newVisits\n",
    "null_counts = newData.isnull().sum()\n",
    "print(\"Number of null values in each column:\\n{}\".format(null_counts))"
   ]
  },
  {
   "cell_type": "code",
   "execution_count": 686,
   "metadata": {},
   "outputs": [
    {
     "name": "stdout",
     "output_type": "stream",
     "text": [
      "20000\n",
      "['channelGrouping', 'date', 'fullVisitorId', 'socialEngagementType', 'visitId', 'visitNumber', 'visitStartTime', 'totals_hits', 'totals_newVisits', 'totals_pageviews', 'totals_timeOnSite', 'totals_totalTransactionRevenue', 'totals_transactionRevenue', 'totals_transactions', 'totals_visits', 'browser', 'deviceCategory', 'isMobile', 'operatingSystem', 'continent', 'country', 'networkDomain', 'subContinent', 'campaign', 'medium', 'source']\n"
     ]
    }
   ],
   "source": [
    "print(newData.shape[0])\n",
    "print(newData.columns.tolist())"
   ]
  },
  {
   "cell_type": "code",
   "execution_count": 687,
   "metadata": {},
   "outputs": [
    {
     "data": {
      "text/plain": [
       "channelGrouping                         Organic Search\n",
       "date                                          20171016\n",
       "fullVisitorId                      3162355547410993243\n",
       "socialEngagementType              Not Socially Engaged\n",
       "visitId                                     1508198450\n",
       "visitNumber                                          1\n",
       "visitStartTime                              1508198450\n",
       "totals_hits                                          1\n",
       "totals_newVisits                                     1\n",
       "totals_pageviews                                     1\n",
       "totals_timeOnSite                                  NaN\n",
       "totals_totalTransactionRevenue                       0\n",
       "totals_transactionRevenue                            0\n",
       "totals_transactions                                  0\n",
       "totals_visits                                        1\n",
       "browser                                        Firefox\n",
       "deviceCategory                                 desktop\n",
       "isMobile                                         False\n",
       "operatingSystem                                Windows\n",
       "continent                                       Europe\n",
       "country                                        Germany\n",
       "networkDomain                                (not set)\n",
       "subContinent                            Western Europe\n",
       "campaign                                     (not set)\n",
       "medium                                         organic\n",
       "source                                          google\n",
       "Name: 0, dtype: object"
      ]
     },
     "execution_count": 687,
     "metadata": {},
     "output_type": "execute_result"
    }
   ],
   "source": [
    "newData.iloc[0]"
   ]
  },
  {
   "cell_type": "code",
   "execution_count": 688,
   "metadata": {},
   "outputs": [
    {
     "data": {
      "text/plain": [
       "array(['Not Socially Engaged'], dtype=object)"
      ]
     },
     "execution_count": 688,
     "metadata": {},
     "output_type": "execute_result"
    }
   ],
   "source": [
    "#There is only one value in this column. Let's drop it\n",
    "newData[\"socialEngagementType\"].unique()"
   ]
  },
  {
   "cell_type": "code",
   "execution_count": 689,
   "metadata": {},
   "outputs": [
    {
     "data": {
      "text/plain": [
       "array(['(not set)', 'windjammercable.net', 'unknown.unknown', ...,\n",
       "       'unl.edu.ec', 'unknown.se', 'alltele.net'], dtype=object)"
      ]
     },
     "execution_count": 689,
     "metadata": {},
     "output_type": "execute_result"
    }
   ],
   "source": [
    "#These values seem to be meaningless. Let's drop them\n",
    "newData[\"networkDomain\"].unique()"
   ]
  },
  {
   "cell_type": "code",
   "execution_count": 690,
   "metadata": {},
   "outputs": [
    {
     "data": {
      "text/plain": [
       "array(['(not set)', '\"google + redesign/Accessories March 17\" All Users',\n",
       "       'AW - Dynamic Search Ads Whole Site',\n",
       "       '1000557 | GA | US | en | Hybrid | GDN Text+Banner | AS',\n",
       "       'Data Share Promo',\n",
       "       'Page: contains \"/google+redesign/bags\" All Users',\n",
       "       '1000557 | GA | US | en | Hybrid | GDN Remarketing',\n",
       "       'Page: contains \"/google+redesign/office\"',\n",
       "       'Page: contains \"/google+redesign/drinkware\"',\n",
       "       'Page: contains \"/google+redesign/bags\" 1 Day', 'AW - Electronics',\n",
       "       'AW - Accessories', 'Smart Display Campaign',\n",
       "       '\"google + redesign/Accessories March 17\" All Users Similar Audiences',\n",
       "       'Page: contains \"/google+redesign/drinkware\" Similar Audiences',\n",
       "       'Run of Network Line Item', 'Technology/Technophiles'],\n",
       "      dtype=object)"
      ]
     },
     "execution_count": 690,
     "metadata": {},
     "output_type": "execute_result"
    }
   ],
   "source": [
    "#I don't know how to read these values. Let's drop them\n",
    "newData[\"campaign\"].unique()"
   ]
  },
  {
   "cell_type": "code",
   "execution_count": 691,
   "metadata": {},
   "outputs": [],
   "source": [
    "drop_cols = ['socialEngagementType','networkDomain','campaign','totals_newVisits','totals_timeOnSite']"
   ]
  },
  {
   "cell_type": "code",
   "execution_count": 692,
   "metadata": {},
   "outputs": [
    {
     "data": {
      "text/html": [
       "<div>\n",
       "<style scoped>\n",
       "    .dataframe tbody tr th:only-of-type {\n",
       "        vertical-align: middle;\n",
       "    }\n",
       "\n",
       "    .dataframe tbody tr th {\n",
       "        vertical-align: top;\n",
       "    }\n",
       "\n",
       "    .dataframe thead th {\n",
       "        text-align: right;\n",
       "    }\n",
       "</style>\n",
       "<table border=\"1\" class=\"dataframe\">\n",
       "  <thead>\n",
       "    <tr style=\"text-align: right;\">\n",
       "      <th></th>\n",
       "      <th>channelGrouping</th>\n",
       "      <th>date</th>\n",
       "      <th>fullVisitorId</th>\n",
       "      <th>socialEngagementType</th>\n",
       "      <th>visitId</th>\n",
       "      <th>visitNumber</th>\n",
       "      <th>visitStartTime</th>\n",
       "      <th>totals_hits</th>\n",
       "      <th>totals_newVisits</th>\n",
       "      <th>totals_pageviews</th>\n",
       "      <th>...</th>\n",
       "      <th>deviceCategory</th>\n",
       "      <th>isMobile</th>\n",
       "      <th>operatingSystem</th>\n",
       "      <th>continent</th>\n",
       "      <th>country</th>\n",
       "      <th>networkDomain</th>\n",
       "      <th>subContinent</th>\n",
       "      <th>campaign</th>\n",
       "      <th>medium</th>\n",
       "      <th>source</th>\n",
       "    </tr>\n",
       "  </thead>\n",
       "  <tbody>\n",
       "    <tr>\n",
       "      <th>7891</th>\n",
       "      <td>Organic Search</td>\n",
       "      <td>20171130</td>\n",
       "      <td>8515300288544406129</td>\n",
       "      <td>Not Socially Engaged</td>\n",
       "      <td>1512040459</td>\n",
       "      <td>2</td>\n",
       "      <td>1512040459</td>\n",
       "      <td>1</td>\n",
       "      <td>NaN</td>\n",
       "      <td>NaN</td>\n",
       "      <td>...</td>\n",
       "      <td>desktop</td>\n",
       "      <td>False</td>\n",
       "      <td>Windows</td>\n",
       "      <td>Oceania</td>\n",
       "      <td>Australia</td>\n",
       "      <td>bigpond.net.au</td>\n",
       "      <td>Australasia</td>\n",
       "      <td>(not set)</td>\n",
       "      <td>organic</td>\n",
       "      <td>google</td>\n",
       "    </tr>\n",
       "  </tbody>\n",
       "</table>\n",
       "<p>1 rows × 26 columns</p>\n",
       "</div>"
      ],
      "text/plain": [
       "     channelGrouping      date        fullVisitorId  socialEngagementType  \\\n",
       "7891  Organic Search  20171130  8515300288544406129  Not Socially Engaged   \n",
       "\n",
       "         visitId  visitNumber  visitStartTime  totals_hits  totals_newVisits  \\\n",
       "7891  1512040459            2      1512040459            1               NaN   \n",
       "\n",
       "      totals_pageviews   ...    deviceCategory  isMobile  operatingSystem  \\\n",
       "7891               NaN   ...           desktop     False          Windows   \n",
       "\n",
       "      continent    country   networkDomain subContinent   campaign   medium  \\\n",
       "7891    Oceania  Australia  bigpond.net.au  Australasia  (not set)  organic   \n",
       "\n",
       "      source  \n",
       "7891  google  \n",
       "\n",
       "[1 rows x 26 columns]"
      ]
     },
     "execution_count": 692,
     "metadata": {},
     "output_type": "execute_result"
    }
   ],
   "source": [
    "#As we saw earlier one row had a total page view as null. Let's check out the row\n",
    "newData[newData['totals_pageviews'].isnull()]"
   ]
  },
  {
   "cell_type": "code",
   "execution_count": 693,
   "metadata": {},
   "outputs": [],
   "source": [
    "#I'll go ahead and fill the value in a 1 page view since that is the most common value of page views\n",
    "newData['totals_pageviews'] = data['totals_pageviews'].fillna(1)"
   ]
  },
  {
   "cell_type": "code",
   "execution_count": 694,
   "metadata": {},
   "outputs": [],
   "source": [
    "newData = newData.drop(drop_cols,axis=1)"
   ]
  },
  {
   "cell_type": "code",
   "execution_count": 695,
   "metadata": {},
   "outputs": [
    {
     "data": {
      "text/html": [
       "<div>\n",
       "<style scoped>\n",
       "    .dataframe tbody tr th:only-of-type {\n",
       "        vertical-align: middle;\n",
       "    }\n",
       "\n",
       "    .dataframe tbody tr th {\n",
       "        vertical-align: top;\n",
       "    }\n",
       "\n",
       "    .dataframe thead th {\n",
       "        text-align: right;\n",
       "    }\n",
       "</style>\n",
       "<table border=\"1\" class=\"dataframe\">\n",
       "  <thead>\n",
       "    <tr style=\"text-align: right;\">\n",
       "      <th></th>\n",
       "      <th>channelGrouping</th>\n",
       "      <th>date</th>\n",
       "      <th>fullVisitorId</th>\n",
       "      <th>visitId</th>\n",
       "      <th>visitNumber</th>\n",
       "      <th>visitStartTime</th>\n",
       "      <th>totals_hits</th>\n",
       "      <th>totals_pageviews</th>\n",
       "      <th>totals_totalTransactionRevenue</th>\n",
       "      <th>totals_transactionRevenue</th>\n",
       "      <th>...</th>\n",
       "      <th>totals_visits</th>\n",
       "      <th>browser</th>\n",
       "      <th>deviceCategory</th>\n",
       "      <th>isMobile</th>\n",
       "      <th>operatingSystem</th>\n",
       "      <th>continent</th>\n",
       "      <th>country</th>\n",
       "      <th>subContinent</th>\n",
       "      <th>medium</th>\n",
       "      <th>source</th>\n",
       "    </tr>\n",
       "  </thead>\n",
       "  <tbody>\n",
       "    <tr>\n",
       "      <th>0</th>\n",
       "      <td>Organic Search</td>\n",
       "      <td>20171016</td>\n",
       "      <td>3162355547410993243</td>\n",
       "      <td>1508198450</td>\n",
       "      <td>1</td>\n",
       "      <td>1508198450</td>\n",
       "      <td>1</td>\n",
       "      <td>1.0</td>\n",
       "      <td>0.0</td>\n",
       "      <td>0.0</td>\n",
       "      <td>...</td>\n",
       "      <td>1</td>\n",
       "      <td>Firefox</td>\n",
       "      <td>desktop</td>\n",
       "      <td>False</td>\n",
       "      <td>Windows</td>\n",
       "      <td>Europe</td>\n",
       "      <td>Germany</td>\n",
       "      <td>Western Europe</td>\n",
       "      <td>organic</td>\n",
       "      <td>google</td>\n",
       "    </tr>\n",
       "    <tr>\n",
       "      <th>1</th>\n",
       "      <td>Referral</td>\n",
       "      <td>20171016</td>\n",
       "      <td>8934116514970143966</td>\n",
       "      <td>1508176307</td>\n",
       "      <td>6</td>\n",
       "      <td>1508176307</td>\n",
       "      <td>2</td>\n",
       "      <td>2.0</td>\n",
       "      <td>0.0</td>\n",
       "      <td>0.0</td>\n",
       "      <td>...</td>\n",
       "      <td>1</td>\n",
       "      <td>Chrome</td>\n",
       "      <td>desktop</td>\n",
       "      <td>False</td>\n",
       "      <td>Chrome OS</td>\n",
       "      <td>Americas</td>\n",
       "      <td>United States</td>\n",
       "      <td>Northern America</td>\n",
       "      <td>referral</td>\n",
       "      <td>sites.google.com</td>\n",
       "    </tr>\n",
       "    <tr>\n",
       "      <th>2</th>\n",
       "      <td>Direct</td>\n",
       "      <td>20171016</td>\n",
       "      <td>7992466427990357681</td>\n",
       "      <td>1508201613</td>\n",
       "      <td>1</td>\n",
       "      <td>1508201613</td>\n",
       "      <td>2</td>\n",
       "      <td>2.0</td>\n",
       "      <td>0.0</td>\n",
       "      <td>0.0</td>\n",
       "      <td>...</td>\n",
       "      <td>1</td>\n",
       "      <td>Chrome</td>\n",
       "      <td>mobile</td>\n",
       "      <td>True</td>\n",
       "      <td>Android</td>\n",
       "      <td>Americas</td>\n",
       "      <td>United States</td>\n",
       "      <td>Northern America</td>\n",
       "      <td>(none)</td>\n",
       "      <td>(direct)</td>\n",
       "    </tr>\n",
       "    <tr>\n",
       "      <th>3</th>\n",
       "      <td>Organic Search</td>\n",
       "      <td>20171016</td>\n",
       "      <td>9075655783635761930</td>\n",
       "      <td>1508169851</td>\n",
       "      <td>1</td>\n",
       "      <td>1508169851</td>\n",
       "      <td>2</td>\n",
       "      <td>2.0</td>\n",
       "      <td>0.0</td>\n",
       "      <td>0.0</td>\n",
       "      <td>...</td>\n",
       "      <td>1</td>\n",
       "      <td>Chrome</td>\n",
       "      <td>desktop</td>\n",
       "      <td>False</td>\n",
       "      <td>Windows</td>\n",
       "      <td>Asia</td>\n",
       "      <td>Turkey</td>\n",
       "      <td>Western Asia</td>\n",
       "      <td>organic</td>\n",
       "      <td>google</td>\n",
       "    </tr>\n",
       "    <tr>\n",
       "      <th>4</th>\n",
       "      <td>Organic Search</td>\n",
       "      <td>20171016</td>\n",
       "      <td>6960673291025684308</td>\n",
       "      <td>1508190552</td>\n",
       "      <td>1</td>\n",
       "      <td>1508190552</td>\n",
       "      <td>2</td>\n",
       "      <td>2.0</td>\n",
       "      <td>0.0</td>\n",
       "      <td>0.0</td>\n",
       "      <td>...</td>\n",
       "      <td>1</td>\n",
       "      <td>Chrome</td>\n",
       "      <td>desktop</td>\n",
       "      <td>False</td>\n",
       "      <td>Windows</td>\n",
       "      <td>Americas</td>\n",
       "      <td>Mexico</td>\n",
       "      <td>Central America</td>\n",
       "      <td>organic</td>\n",
       "      <td>google</td>\n",
       "    </tr>\n",
       "  </tbody>\n",
       "</table>\n",
       "<p>5 rows × 21 columns</p>\n",
       "</div>"
      ],
      "text/plain": [
       "  channelGrouping      date        fullVisitorId     visitId  visitNumber  \\\n",
       "0  Organic Search  20171016  3162355547410993243  1508198450            1   \n",
       "1        Referral  20171016  8934116514970143966  1508176307            6   \n",
       "2          Direct  20171016  7992466427990357681  1508201613            1   \n",
       "3  Organic Search  20171016  9075655783635761930  1508169851            1   \n",
       "4  Organic Search  20171016  6960673291025684308  1508190552            1   \n",
       "\n",
       "   visitStartTime  totals_hits  totals_pageviews  \\\n",
       "0      1508198450            1               1.0   \n",
       "1      1508176307            2               2.0   \n",
       "2      1508201613            2               2.0   \n",
       "3      1508169851            2               2.0   \n",
       "4      1508190552            2               2.0   \n",
       "\n",
       "   totals_totalTransactionRevenue  totals_transactionRevenue  \\\n",
       "0                             0.0                        0.0   \n",
       "1                             0.0                        0.0   \n",
       "2                             0.0                        0.0   \n",
       "3                             0.0                        0.0   \n",
       "4                             0.0                        0.0   \n",
       "\n",
       "         ...         totals_visits  browser deviceCategory isMobile  \\\n",
       "0        ...                     1  Firefox        desktop    False   \n",
       "1        ...                     1   Chrome        desktop    False   \n",
       "2        ...                     1   Chrome         mobile     True   \n",
       "3        ...                     1   Chrome        desktop    False   \n",
       "4        ...                     1   Chrome        desktop    False   \n",
       "\n",
       "   operatingSystem continent        country      subContinent    medium  \\\n",
       "0          Windows    Europe        Germany    Western Europe   organic   \n",
       "1        Chrome OS  Americas  United States  Northern America  referral   \n",
       "2          Android  Americas  United States  Northern America    (none)   \n",
       "3          Windows      Asia         Turkey      Western Asia   organic   \n",
       "4          Windows  Americas         Mexico   Central America   organic   \n",
       "\n",
       "             source  \n",
       "0            google  \n",
       "1  sites.google.com  \n",
       "2          (direct)  \n",
       "3            google  \n",
       "4            google  \n",
       "\n",
       "[5 rows x 21 columns]"
      ]
     },
     "execution_count": 695,
     "metadata": {},
     "output_type": "execute_result"
    }
   ],
   "source": [
    "newData.head()"
   ]
  },
  {
   "cell_type": "code",
   "execution_count": 696,
   "metadata": {},
   "outputs": [],
   "source": [
    "#I'm going to trim some more columns in order to work with a simpler data set and compare it to the more complex one\n",
    "newDataSimple = newData"
   ]
  },
  {
   "cell_type": "code",
   "execution_count": 697,
   "metadata": {},
   "outputs": [
    {
     "data": {
      "text/plain": [
       "array([  1,   2,   3,   4,   5,   6,   7,   8,   9,  10,  11,  12,  13,\n",
       "        14,  15,  16,  17,  18,  19,  20,  21,  22,  23,  24,  25,  26,\n",
       "        27,  28,  29,  30,  31,  32,  33,  34,  35,  36,  37,  38,  39,\n",
       "        40,  41,  43,  45,  46,  47,  50,  52,  56,  58,  62,  66,  69,\n",
       "        74,  75,  85,  90,  93,  94, 138, 165,  42,  44,  48,  49,  51,\n",
       "        54,  55,  57,  65,  67,  72,  79,  82,  83,  92, 103, 109, 134,\n",
       "       143, 144,  53,  61,  70, 106, 137,  73, 112, 189,  63,  81,  91,\n",
       "       102, 161,  86,  99,  80,  89, 100,  71,  76,  77,  95, 229,  64,\n",
       "       154,  78,  84,  87,  97, 104, 108, 115, 119, 136], dtype=int64)"
      ]
     },
     "execution_count": 697,
     "metadata": {},
     "output_type": "execute_result"
    }
   ],
   "source": [
    "#print(newData.columns.tolist())\n",
    "newData[\"totals_hits\"].unique()"
   ]
  },
  {
   "cell_type": "code",
   "execution_count": 698,
   "metadata": {},
   "outputs": [],
   "source": [
    "#Let's reduce the factors and compare revenue to just date, browser, visits, and revenue only"
   ]
  },
  {
   "cell_type": "code",
   "execution_count": 699,
   "metadata": {},
   "outputs": [],
   "source": [
    "newDataSimple = newData.filter(['date','browser','totals_visits','totals_totalTransactionRevenue'], axis=1)"
   ]
  },
  {
   "cell_type": "code",
   "execution_count": 700,
   "metadata": {},
   "outputs": [
    {
     "name": "stdout",
     "output_type": "stream",
     "text": [
      "['date', 'browser', 'totals_visits', 'totals_totalTransactionRevenue']\n"
     ]
    }
   ],
   "source": [
    "print(newDataSimple.columns.tolist())"
   ]
  },
  {
   "cell_type": "code",
   "execution_count": 701,
   "metadata": {},
   "outputs": [],
   "source": [
    "#Feature Engineering\n",
    "#Convert Categorical Columns to Numeric Features"
   ]
  },
  {
   "cell_type": "code",
   "execution_count": 702,
   "metadata": {},
   "outputs": [],
   "source": [
    "nominal_columns = [\"channelGrouping\",\"browser\",\"deviceCategory\",\"isMobile\",\"operatingSystem\",\"continent\",\"country\",\"subContinent\",\"medium\",\"source\"]\n",
    "dummy_df = pd.get_dummies(newData[nominal_columns])\n",
    "newData = pd.concat([newData, dummy_df], axis=1)\n",
    "newData = newData.drop(nominal_columns, axis=1)\n"
   ]
  },
  {
   "cell_type": "code",
   "execution_count": 703,
   "metadata": {},
   "outputs": [],
   "source": [
    "nominal_columns = [\"browser\"]\n",
    "dummy_df = pd.get_dummies(newDataSimple[nominal_columns])\n",
    "newDataSimple = pd.concat([newDataSimple, dummy_df], axis=1)\n",
    "newDataSimple = newDataSimple.drop(nominal_columns, axis=1)"
   ]
  },
  {
   "cell_type": "code",
   "execution_count": 704,
   "metadata": {},
   "outputs": [
    {
     "data": {
      "text/html": [
       "<div>\n",
       "<style scoped>\n",
       "    .dataframe tbody tr th:only-of-type {\n",
       "        vertical-align: middle;\n",
       "    }\n",
       "\n",
       "    .dataframe tbody tr th {\n",
       "        vertical-align: top;\n",
       "    }\n",
       "\n",
       "    .dataframe thead th {\n",
       "        text-align: right;\n",
       "    }\n",
       "</style>\n",
       "<table border=\"1\" class=\"dataframe\">\n",
       "  <thead>\n",
       "    <tr style=\"text-align: right;\">\n",
       "      <th></th>\n",
       "      <th>date</th>\n",
       "      <th>fullVisitorId</th>\n",
       "      <th>visitId</th>\n",
       "      <th>visitNumber</th>\n",
       "      <th>visitStartTime</th>\n",
       "      <th>totals_hits</th>\n",
       "      <th>totals_pageviews</th>\n",
       "      <th>totals_totalTransactionRevenue</th>\n",
       "      <th>totals_transactionRevenue</th>\n",
       "      <th>totals_transactions</th>\n",
       "      <th>...</th>\n",
       "      <th>source_search.mysearch.com</th>\n",
       "      <th>source_siliconvalley.about.com</th>\n",
       "      <th>source_sites.google.com</th>\n",
       "      <th>source_support.google.com</th>\n",
       "      <th>source_t.co</th>\n",
       "      <th>source_web.skype.com</th>\n",
       "      <th>source_web.whatsapp.com</th>\n",
       "      <th>source_yahoo</th>\n",
       "      <th>source_yandex</th>\n",
       "      <th>source_youtube.com</th>\n",
       "    </tr>\n",
       "  </thead>\n",
       "  <tbody>\n",
       "    <tr>\n",
       "      <th>0</th>\n",
       "      <td>20171016</td>\n",
       "      <td>3162355547410993243</td>\n",
       "      <td>1508198450</td>\n",
       "      <td>1</td>\n",
       "      <td>1508198450</td>\n",
       "      <td>1</td>\n",
       "      <td>1.0</td>\n",
       "      <td>0.0</td>\n",
       "      <td>0.0</td>\n",
       "      <td>0.0</td>\n",
       "      <td>...</td>\n",
       "      <td>0</td>\n",
       "      <td>0</td>\n",
       "      <td>0</td>\n",
       "      <td>0</td>\n",
       "      <td>0</td>\n",
       "      <td>0</td>\n",
       "      <td>0</td>\n",
       "      <td>0</td>\n",
       "      <td>0</td>\n",
       "      <td>0</td>\n",
       "    </tr>\n",
       "    <tr>\n",
       "      <th>1</th>\n",
       "      <td>20171016</td>\n",
       "      <td>8934116514970143966</td>\n",
       "      <td>1508176307</td>\n",
       "      <td>6</td>\n",
       "      <td>1508176307</td>\n",
       "      <td>2</td>\n",
       "      <td>2.0</td>\n",
       "      <td>0.0</td>\n",
       "      <td>0.0</td>\n",
       "      <td>0.0</td>\n",
       "      <td>...</td>\n",
       "      <td>0</td>\n",
       "      <td>0</td>\n",
       "      <td>1</td>\n",
       "      <td>0</td>\n",
       "      <td>0</td>\n",
       "      <td>0</td>\n",
       "      <td>0</td>\n",
       "      <td>0</td>\n",
       "      <td>0</td>\n",
       "      <td>0</td>\n",
       "    </tr>\n",
       "    <tr>\n",
       "      <th>2</th>\n",
       "      <td>20171016</td>\n",
       "      <td>7992466427990357681</td>\n",
       "      <td>1508201613</td>\n",
       "      <td>1</td>\n",
       "      <td>1508201613</td>\n",
       "      <td>2</td>\n",
       "      <td>2.0</td>\n",
       "      <td>0.0</td>\n",
       "      <td>0.0</td>\n",
       "      <td>0.0</td>\n",
       "      <td>...</td>\n",
       "      <td>0</td>\n",
       "      <td>0</td>\n",
       "      <td>0</td>\n",
       "      <td>0</td>\n",
       "      <td>0</td>\n",
       "      <td>0</td>\n",
       "      <td>0</td>\n",
       "      <td>0</td>\n",
       "      <td>0</td>\n",
       "      <td>0</td>\n",
       "    </tr>\n",
       "    <tr>\n",
       "      <th>3</th>\n",
       "      <td>20171016</td>\n",
       "      <td>9075655783635761930</td>\n",
       "      <td>1508169851</td>\n",
       "      <td>1</td>\n",
       "      <td>1508169851</td>\n",
       "      <td>2</td>\n",
       "      <td>2.0</td>\n",
       "      <td>0.0</td>\n",
       "      <td>0.0</td>\n",
       "      <td>0.0</td>\n",
       "      <td>...</td>\n",
       "      <td>0</td>\n",
       "      <td>0</td>\n",
       "      <td>0</td>\n",
       "      <td>0</td>\n",
       "      <td>0</td>\n",
       "      <td>0</td>\n",
       "      <td>0</td>\n",
       "      <td>0</td>\n",
       "      <td>0</td>\n",
       "      <td>0</td>\n",
       "    </tr>\n",
       "    <tr>\n",
       "      <th>4</th>\n",
       "      <td>20171016</td>\n",
       "      <td>6960673291025684308</td>\n",
       "      <td>1508190552</td>\n",
       "      <td>1</td>\n",
       "      <td>1508190552</td>\n",
       "      <td>2</td>\n",
       "      <td>2.0</td>\n",
       "      <td>0.0</td>\n",
       "      <td>0.0</td>\n",
       "      <td>0.0</td>\n",
       "      <td>...</td>\n",
       "      <td>0</td>\n",
       "      <td>0</td>\n",
       "      <td>0</td>\n",
       "      <td>0</td>\n",
       "      <td>0</td>\n",
       "      <td>0</td>\n",
       "      <td>0</td>\n",
       "      <td>0</td>\n",
       "      <td>0</td>\n",
       "      <td>0</td>\n",
       "    </tr>\n",
       "  </tbody>\n",
       "</table>\n",
       "<p>5 rows × 329 columns</p>\n",
       "</div>"
      ],
      "text/plain": [
       "       date        fullVisitorId     visitId  visitNumber  visitStartTime  \\\n",
       "0  20171016  3162355547410993243  1508198450            1      1508198450   \n",
       "1  20171016  8934116514970143966  1508176307            6      1508176307   \n",
       "2  20171016  7992466427990357681  1508201613            1      1508201613   \n",
       "3  20171016  9075655783635761930  1508169851            1      1508169851   \n",
       "4  20171016  6960673291025684308  1508190552            1      1508190552   \n",
       "\n",
       "   totals_hits  totals_pageviews  totals_totalTransactionRevenue  \\\n",
       "0            1               1.0                             0.0   \n",
       "1            2               2.0                             0.0   \n",
       "2            2               2.0                             0.0   \n",
       "3            2               2.0                             0.0   \n",
       "4            2               2.0                             0.0   \n",
       "\n",
       "   totals_transactionRevenue  totals_transactions         ...          \\\n",
       "0                        0.0                  0.0         ...           \n",
       "1                        0.0                  0.0         ...           \n",
       "2                        0.0                  0.0         ...           \n",
       "3                        0.0                  0.0         ...           \n",
       "4                        0.0                  0.0         ...           \n",
       "\n",
       "   source_search.mysearch.com  source_siliconvalley.about.com  \\\n",
       "0                           0                               0   \n",
       "1                           0                               0   \n",
       "2                           0                               0   \n",
       "3                           0                               0   \n",
       "4                           0                               0   \n",
       "\n",
       "   source_sites.google.com  source_support.google.com  source_t.co  \\\n",
       "0                        0                          0            0   \n",
       "1                        1                          0            0   \n",
       "2                        0                          0            0   \n",
       "3                        0                          0            0   \n",
       "4                        0                          0            0   \n",
       "\n",
       "   source_web.skype.com  source_web.whatsapp.com  source_yahoo  source_yandex  \\\n",
       "0                     0                        0             0              0   \n",
       "1                     0                        0             0              0   \n",
       "2                     0                        0             0              0   \n",
       "3                     0                        0             0              0   \n",
       "4                     0                        0             0              0   \n",
       "\n",
       "   source_youtube.com  \n",
       "0                   0  \n",
       "1                   0  \n",
       "2                   0  \n",
       "3                   0  \n",
       "4                   0  \n",
       "\n",
       "[5 rows x 329 columns]"
      ]
     },
     "execution_count": 704,
     "metadata": {},
     "output_type": "execute_result"
    }
   ],
   "source": [
    "newData.head()"
   ]
  },
  {
   "cell_type": "code",
   "execution_count": 705,
   "metadata": {
    "scrolled": false
   },
   "outputs": [
    {
     "name": "stdout",
     "output_type": "stream",
     "text": [
      "<class 'pandas.core.frame.DataFrame'>\n",
      "RangeIndex: 20000 entries, 0 to 19999\n",
      "Columns: 329 entries, date to source_youtube.com\n",
      "dtypes: float64(4), int64(6), uint64(1), uint8(318)\n",
      "memory usage: 7.7 MB\n"
     ]
    }
   ],
   "source": [
    "newData.info()"
   ]
  },
  {
   "cell_type": "code",
   "execution_count": 706,
   "metadata": {},
   "outputs": [
    {
     "data": {
      "text/plain": [
       "date                                 2.017102e+07\n",
       "fullVisitorId                        3.162356e+18\n",
       "visitId                              1.508198e+09\n",
       "visitNumber                          1.000000e+00\n",
       "visitStartTime                       1.508198e+09\n",
       "totals_hits                          1.000000e+00\n",
       "totals_pageviews                     1.000000e+00\n",
       "totals_totalTransactionRevenue       0.000000e+00\n",
       "totals_transactionRevenue            0.000000e+00\n",
       "totals_transactions                  0.000000e+00\n",
       "totals_visits                        1.000000e+00\n",
       "channelGrouping_Affiliates           0.000000e+00\n",
       "channelGrouping_Direct               0.000000e+00\n",
       "channelGrouping_Display              0.000000e+00\n",
       "channelGrouping_Organic Search       1.000000e+00\n",
       "channelGrouping_Paid Search          0.000000e+00\n",
       "channelGrouping_Referral             0.000000e+00\n",
       "channelGrouping_Social               0.000000e+00\n",
       "browser_ADM                          0.000000e+00\n",
       "browser_Amazon Silk                  0.000000e+00\n",
       "browser_Android Browser              0.000000e+00\n",
       "browser_Android Webview              0.000000e+00\n",
       "browser_BlackBerry                   0.000000e+00\n",
       "browser_Chrome                       0.000000e+00\n",
       "browser_Coc Coc                      0.000000e+00\n",
       "browser_Edge                         0.000000e+00\n",
       "browser_Firefox                      1.000000e+00\n",
       "browser_Internet Explorer            0.000000e+00\n",
       "browser_MRCHROME                     0.000000e+00\n",
       "browser_Maxthon                      0.000000e+00\n",
       "                                         ...     \n",
       "source_m.facebook.com                0.000000e+00\n",
       "source_m.youtube.com                 0.000000e+00\n",
       "source_mail.google.com               0.000000e+00\n",
       "source_my.uclaextension.edu          0.000000e+00\n",
       "source_news.ycombinator.com          0.000000e+00\n",
       "source_nordic.businessinsider.com    0.000000e+00\n",
       "source_online-metrics.com            0.000000e+00\n",
       "source_optimize.google.com           0.000000e+00\n",
       "source_outlook.live.com              0.000000e+00\n",
       "source_phandroid.com                 0.000000e+00\n",
       "source_pinterest.com                 0.000000e+00\n",
       "source_plus.google.com               0.000000e+00\n",
       "source_plus.url.google.com           0.000000e+00\n",
       "source_productforums.google.com      0.000000e+00\n",
       "source_qiita.com                     0.000000e+00\n",
       "source_quora.com                     0.000000e+00\n",
       "source_reddit.com                    0.000000e+00\n",
       "source_results.searchlock.com        0.000000e+00\n",
       "source_s0.2mdn.net                   0.000000e+00\n",
       "source_sashihara.jp                  0.000000e+00\n",
       "source_search.mysearch.com           0.000000e+00\n",
       "source_siliconvalley.about.com       0.000000e+00\n",
       "source_sites.google.com              0.000000e+00\n",
       "source_support.google.com            0.000000e+00\n",
       "source_t.co                          0.000000e+00\n",
       "source_web.skype.com                 0.000000e+00\n",
       "source_web.whatsapp.com              0.000000e+00\n",
       "source_yahoo                         0.000000e+00\n",
       "source_yandex                        0.000000e+00\n",
       "source_youtube.com                   0.000000e+00\n",
       "Name: 0, Length: 329, dtype: float64"
      ]
     },
     "execution_count": 706,
     "metadata": {},
     "output_type": "execute_result"
    }
   ],
   "source": [
    "newData.iloc[0]"
   ]
  },
  {
   "cell_type": "code",
   "execution_count": 707,
   "metadata": {},
   "outputs": [
    {
     "data": {
      "text/html": [
       "<div>\n",
       "<style scoped>\n",
       "    .dataframe tbody tr th:only-of-type {\n",
       "        vertical-align: middle;\n",
       "    }\n",
       "\n",
       "    .dataframe tbody tr th {\n",
       "        vertical-align: top;\n",
       "    }\n",
       "\n",
       "    .dataframe thead th {\n",
       "        text-align: right;\n",
       "    }\n",
       "</style>\n",
       "<table border=\"1\" class=\"dataframe\">\n",
       "  <thead>\n",
       "    <tr style=\"text-align: right;\">\n",
       "      <th></th>\n",
       "      <th>date</th>\n",
       "      <th>totals_visits</th>\n",
       "      <th>totals_totalTransactionRevenue</th>\n",
       "      <th>browser_ADM</th>\n",
       "      <th>browser_Amazon Silk</th>\n",
       "      <th>browser_Android Browser</th>\n",
       "      <th>browser_Android Webview</th>\n",
       "      <th>browser_BlackBerry</th>\n",
       "      <th>browser_Chrome</th>\n",
       "      <th>browser_Coc Coc</th>\n",
       "      <th>...</th>\n",
       "      <th>browser_Opera</th>\n",
       "      <th>browser_Opera Mini</th>\n",
       "      <th>browser_Playstation Vita Browser</th>\n",
       "      <th>browser_Puffin</th>\n",
       "      <th>browser_Safari</th>\n",
       "      <th>browser_Safari (in-app)</th>\n",
       "      <th>browser_Samsung Internet</th>\n",
       "      <th>browser_SeaMonkey</th>\n",
       "      <th>browser_UC Browser</th>\n",
       "      <th>browser_YaBrowser</th>\n",
       "    </tr>\n",
       "  </thead>\n",
       "  <tbody>\n",
       "    <tr>\n",
       "      <th>0</th>\n",
       "      <td>20171016</td>\n",
       "      <td>1</td>\n",
       "      <td>0.0</td>\n",
       "      <td>0</td>\n",
       "      <td>0</td>\n",
       "      <td>0</td>\n",
       "      <td>0</td>\n",
       "      <td>0</td>\n",
       "      <td>0</td>\n",
       "      <td>0</td>\n",
       "      <td>...</td>\n",
       "      <td>0</td>\n",
       "      <td>0</td>\n",
       "      <td>0</td>\n",
       "      <td>0</td>\n",
       "      <td>0</td>\n",
       "      <td>0</td>\n",
       "      <td>0</td>\n",
       "      <td>0</td>\n",
       "      <td>0</td>\n",
       "      <td>0</td>\n",
       "    </tr>\n",
       "    <tr>\n",
       "      <th>1</th>\n",
       "      <td>20171016</td>\n",
       "      <td>1</td>\n",
       "      <td>0.0</td>\n",
       "      <td>0</td>\n",
       "      <td>0</td>\n",
       "      <td>0</td>\n",
       "      <td>0</td>\n",
       "      <td>0</td>\n",
       "      <td>1</td>\n",
       "      <td>0</td>\n",
       "      <td>...</td>\n",
       "      <td>0</td>\n",
       "      <td>0</td>\n",
       "      <td>0</td>\n",
       "      <td>0</td>\n",
       "      <td>0</td>\n",
       "      <td>0</td>\n",
       "      <td>0</td>\n",
       "      <td>0</td>\n",
       "      <td>0</td>\n",
       "      <td>0</td>\n",
       "    </tr>\n",
       "    <tr>\n",
       "      <th>2</th>\n",
       "      <td>20171016</td>\n",
       "      <td>1</td>\n",
       "      <td>0.0</td>\n",
       "      <td>0</td>\n",
       "      <td>0</td>\n",
       "      <td>0</td>\n",
       "      <td>0</td>\n",
       "      <td>0</td>\n",
       "      <td>1</td>\n",
       "      <td>0</td>\n",
       "      <td>...</td>\n",
       "      <td>0</td>\n",
       "      <td>0</td>\n",
       "      <td>0</td>\n",
       "      <td>0</td>\n",
       "      <td>0</td>\n",
       "      <td>0</td>\n",
       "      <td>0</td>\n",
       "      <td>0</td>\n",
       "      <td>0</td>\n",
       "      <td>0</td>\n",
       "    </tr>\n",
       "    <tr>\n",
       "      <th>3</th>\n",
       "      <td>20171016</td>\n",
       "      <td>1</td>\n",
       "      <td>0.0</td>\n",
       "      <td>0</td>\n",
       "      <td>0</td>\n",
       "      <td>0</td>\n",
       "      <td>0</td>\n",
       "      <td>0</td>\n",
       "      <td>1</td>\n",
       "      <td>0</td>\n",
       "      <td>...</td>\n",
       "      <td>0</td>\n",
       "      <td>0</td>\n",
       "      <td>0</td>\n",
       "      <td>0</td>\n",
       "      <td>0</td>\n",
       "      <td>0</td>\n",
       "      <td>0</td>\n",
       "      <td>0</td>\n",
       "      <td>0</td>\n",
       "      <td>0</td>\n",
       "    </tr>\n",
       "    <tr>\n",
       "      <th>4</th>\n",
       "      <td>20171016</td>\n",
       "      <td>1</td>\n",
       "      <td>0.0</td>\n",
       "      <td>0</td>\n",
       "      <td>0</td>\n",
       "      <td>0</td>\n",
       "      <td>0</td>\n",
       "      <td>0</td>\n",
       "      <td>1</td>\n",
       "      <td>0</td>\n",
       "      <td>...</td>\n",
       "      <td>0</td>\n",
       "      <td>0</td>\n",
       "      <td>0</td>\n",
       "      <td>0</td>\n",
       "      <td>0</td>\n",
       "      <td>0</td>\n",
       "      <td>0</td>\n",
       "      <td>0</td>\n",
       "      <td>0</td>\n",
       "      <td>0</td>\n",
       "    </tr>\n",
       "  </tbody>\n",
       "</table>\n",
       "<p>5 rows × 28 columns</p>\n",
       "</div>"
      ],
      "text/plain": [
       "       date  totals_visits  totals_totalTransactionRevenue  browser_ADM  \\\n",
       "0  20171016              1                             0.0            0   \n",
       "1  20171016              1                             0.0            0   \n",
       "2  20171016              1                             0.0            0   \n",
       "3  20171016              1                             0.0            0   \n",
       "4  20171016              1                             0.0            0   \n",
       "\n",
       "   browser_Amazon Silk  browser_Android Browser  browser_Android Webview  \\\n",
       "0                    0                        0                        0   \n",
       "1                    0                        0                        0   \n",
       "2                    0                        0                        0   \n",
       "3                    0                        0                        0   \n",
       "4                    0                        0                        0   \n",
       "\n",
       "   browser_BlackBerry  browser_Chrome  browser_Coc Coc        ...          \\\n",
       "0                   0               0                0        ...           \n",
       "1                   0               1                0        ...           \n",
       "2                   0               1                0        ...           \n",
       "3                   0               1                0        ...           \n",
       "4                   0               1                0        ...           \n",
       "\n",
       "   browser_Opera  browser_Opera Mini  browser_Playstation Vita Browser  \\\n",
       "0              0                   0                                 0   \n",
       "1              0                   0                                 0   \n",
       "2              0                   0                                 0   \n",
       "3              0                   0                                 0   \n",
       "4              0                   0                                 0   \n",
       "\n",
       "   browser_Puffin  browser_Safari  browser_Safari (in-app)  \\\n",
       "0               0               0                        0   \n",
       "1               0               0                        0   \n",
       "2               0               0                        0   \n",
       "3               0               0                        0   \n",
       "4               0               0                        0   \n",
       "\n",
       "   browser_Samsung Internet  browser_SeaMonkey  browser_UC Browser  \\\n",
       "0                         0                  0                   0   \n",
       "1                         0                  0                   0   \n",
       "2                         0                  0                   0   \n",
       "3                         0                  0                   0   \n",
       "4                         0                  0                   0   \n",
       "\n",
       "   browser_YaBrowser  \n",
       "0                  0  \n",
       "1                  0  \n",
       "2                  0  \n",
       "3                  0  \n",
       "4                  0  \n",
       "\n",
       "[5 rows x 28 columns]"
      ]
     },
     "execution_count": 707,
     "metadata": {},
     "output_type": "execute_result"
    }
   ],
   "source": [
    "newDataSimple.head()"
   ]
  },
  {
   "cell_type": "code",
   "execution_count": 708,
   "metadata": {},
   "outputs": [
    {
     "name": "stdout",
     "output_type": "stream",
     "text": [
      "<class 'pandas.core.frame.DataFrame'>\n",
      "RangeIndex: 20000 entries, 0 to 19999\n",
      "Data columns (total 28 columns):\n",
      "date                                20000 non-null int64\n",
      "totals_visits                       20000 non-null int64\n",
      "totals_totalTransactionRevenue      20000 non-null float64\n",
      "browser_ADM                         20000 non-null uint8\n",
      "browser_Amazon Silk                 20000 non-null uint8\n",
      "browser_Android Browser             20000 non-null uint8\n",
      "browser_Android Webview             20000 non-null uint8\n",
      "browser_BlackBerry                  20000 non-null uint8\n",
      "browser_Chrome                      20000 non-null uint8\n",
      "browser_Coc Coc                     20000 non-null uint8\n",
      "browser_Edge                        20000 non-null uint8\n",
      "browser_Firefox                     20000 non-null uint8\n",
      "browser_Internet Explorer           20000 non-null uint8\n",
      "browser_MRCHROME                    20000 non-null uint8\n",
      "browser_Maxthon                     20000 non-null uint8\n",
      "browser_Mozilla Compatible Agent    20000 non-null uint8\n",
      "browser_Nintendo Browser            20000 non-null uint8\n",
      "browser_Nokia Browser               20000 non-null uint8\n",
      "browser_Opera                       20000 non-null uint8\n",
      "browser_Opera Mini                  20000 non-null uint8\n",
      "browser_Playstation Vita Browser    20000 non-null uint8\n",
      "browser_Puffin                      20000 non-null uint8\n",
      "browser_Safari                      20000 non-null uint8\n",
      "browser_Safari (in-app)             20000 non-null uint8\n",
      "browser_Samsung Internet            20000 non-null uint8\n",
      "browser_SeaMonkey                   20000 non-null uint8\n",
      "browser_UC Browser                  20000 non-null uint8\n",
      "browser_YaBrowser                   20000 non-null uint8\n",
      "dtypes: float64(1), int64(2), uint8(25)\n",
      "memory usage: 957.1 KB\n"
     ]
    }
   ],
   "source": [
    "newDataSimple.info()"
   ]
  },
  {
   "cell_type": "code",
   "execution_count": 709,
   "metadata": {},
   "outputs": [
    {
     "data": {
      "text/plain": [
       "date                                20171016.0\n",
       "totals_visits                              1.0\n",
       "totals_totalTransactionRevenue             0.0\n",
       "browser_ADM                                0.0\n",
       "browser_Amazon Silk                        0.0\n",
       "browser_Android Browser                    0.0\n",
       "browser_Android Webview                    0.0\n",
       "browser_BlackBerry                         0.0\n",
       "browser_Chrome                             0.0\n",
       "browser_Coc Coc                            0.0\n",
       "browser_Edge                               0.0\n",
       "browser_Firefox                            1.0\n",
       "browser_Internet Explorer                  0.0\n",
       "browser_MRCHROME                           0.0\n",
       "browser_Maxthon                            0.0\n",
       "browser_Mozilla Compatible Agent           0.0\n",
       "browser_Nintendo Browser                   0.0\n",
       "browser_Nokia Browser                      0.0\n",
       "browser_Opera                              0.0\n",
       "browser_Opera Mini                         0.0\n",
       "browser_Playstation Vita Browser           0.0\n",
       "browser_Puffin                             0.0\n",
       "browser_Safari                             0.0\n",
       "browser_Safari (in-app)                    0.0\n",
       "browser_Samsung Internet                   0.0\n",
       "browser_SeaMonkey                          0.0\n",
       "browser_UC Browser                         0.0\n",
       "browser_YaBrowser                          0.0\n",
       "Name: 0, dtype: float64"
      ]
     },
     "execution_count": 709,
     "metadata": {},
     "output_type": "execute_result"
    }
   ],
   "source": [
    "newDataSimple.iloc[0]"
   ]
  },
  {
   "cell_type": "code",
   "execution_count": 710,
   "metadata": {},
   "outputs": [],
   "source": [
    "#Lets take a look at the sales data to try and gain some insights"
   ]
  },
  {
   "cell_type": "code",
   "execution_count": 711,
   "metadata": {},
   "outputs": [],
   "source": [
    "salesData = 0\n",
    "salesData = newData[newData.totals_totalTransactionRevenue > 0] "
   ]
  },
  {
   "cell_type": "code",
   "execution_count": 712,
   "metadata": {},
   "outputs": [
    {
     "data": {
      "text/plain": [
       "20171016.0"
      ]
     },
     "execution_count": 712,
     "metadata": {},
     "output_type": "execute_result"
    }
   ],
   "source": [
    "salesData.iloc[0].date"
   ]
  },
  {
   "cell_type": "code",
   "execution_count": 713,
   "metadata": {},
   "outputs": [
    {
     "data": {
      "text/plain": [
       "(193, 329)"
      ]
     },
     "execution_count": 713,
     "metadata": {},
     "output_type": "execute_result"
    }
   ],
   "source": [
    "salesData.shape"
   ]
  },
  {
   "cell_type": "code",
   "execution_count": 714,
   "metadata": {},
   "outputs": [
    {
     "name": "stderr",
     "output_type": "stream",
     "text": [
      "C:\\Users\\Mike\\Anaconda3\\lib\\site-packages\\ipykernel_launcher.py:1: SettingWithCopyWarning: \n",
      "A value is trying to be set on a copy of a slice from a DataFrame.\n",
      "Try using .loc[row_indexer,col_indexer] = value instead\n",
      "\n",
      "See the caveats in the documentation: http://pandas.pydata.org/pandas-docs/stable/indexing.html#indexing-view-versus-copy\n",
      "  \"\"\"Entry point for launching an IPython kernel.\n"
     ]
    }
   ],
   "source": [
    "salesData['date'] =  pd.to_datetime(salesData['date'], format='%Y%m%d').dt.strftime(\"%Y-%m-%d\");\n",
    "\n",
    "#salesData['column_name'].map('{:,.2f}'.format)"
   ]
  },
  {
   "cell_type": "code",
   "execution_count": 715,
   "metadata": {},
   "outputs": [
    {
     "data": {
      "text/plain": [
       "(193, 329)"
      ]
     },
     "execution_count": 715,
     "metadata": {},
     "output_type": "execute_result"
    }
   ],
   "source": [
    "#We can see we only have 193 sales\n",
    "salesData.shape"
   ]
  },
  {
   "cell_type": "code",
   "execution_count": 716,
   "metadata": {
    "scrolled": true
   },
   "outputs": [
    {
     "data": {
      "text/plain": [
       "<BarContainer object of 193 artists>"
      ]
     },
     "execution_count": 716,
     "metadata": {},
     "output_type": "execute_result"
    },
    {
     "data": {
      "image/png": "[encoded data removed]",
      "text/plain": [
       "<Figure size 3600x1440 with 1 Axes>"
      ]
     },
     "metadata": {},
     "output_type": "display_data"
    }
   ],
   "source": [
    "fix, ax = plt.subplots(figsize=(50,20))\n",
    "\n",
    "plt.bar(salesData['date'], salesData['totals_totalTransactionRevenue'])"
   ]
  },
  {
   "cell_type": "code",
   "execution_count": 717,
   "metadata": {},
   "outputs": [
    {
     "data": {
      "text/plain": [
       "array(['2017-10-16', '2016-09-02', '2017-11-30', '2017-01-26',\n",
       "       '2017-06-23', '2017-03-12', '2017-02-03', '2018-04-15',\n",
       "       '2017-11-10'], dtype=object)"
      ]
     },
     "execution_count": 717,
     "metadata": {},
     "output_type": "execute_result"
    }
   ],
   "source": [
    "#Sales data is only for 9 days\n",
    "salesData[\"date\"].unique()"
   ]
  },
  {
   "cell_type": "code",
   "execution_count": 718,
   "metadata": {},
   "outputs": [
    {
     "data": {
      "text/plain": [
       "array([20171016, 20160902, 20171130, 20170126, 20170623, 20170312,\n",
       "       20170203, 20180415, 20171110], dtype=int64)"
      ]
     },
     "execution_count": 718,
     "metadata": {},
     "output_type": "execute_result"
    }
   ],
   "source": [
    "data[\"date\"].unique()"
   ]
  },
  {
   "cell_type": "code",
   "execution_count": 719,
   "metadata": {},
   "outputs": [],
   "source": [
    "#So it looks like we only have data for 9 days. I don't think date matters too much"
   ]
  },
  {
   "cell_type": "code",
   "execution_count": 720,
   "metadata": {},
   "outputs": [],
   "source": [
    "#Goal is to predict the total transaction revenue.\n",
    "#Decide aboute a good evaluation strategy and justify your choice.\n",
    "#Split dataset into train and test dataset.\n",
    "#Choose two supervised learning model of your choice to train on train set. Use proper methods to find the best parameters. Evaluate your method on test data according to evaluation strategy.\n",
    "#Choose two unsupervised learning models, clustering, to train on your dataset. Discuss results.\n",
    "#Choose two unsupervised learning models, dimentionally reduction, and train it your dataset. Now use the same supervised learning models above on reduced dataset. Can you see any differences? Discuss the result.\n",
    "#Use a neural network model on your dataset. Compare the result with other two supervised learning models. Which model performs better?\n",
    "\n",
    "#Predict the **total transaction revenue**. \n",
    "\n",
    "#- Split dataset into train and test dataset. \n",
    "#- Choose two supervised learning model of your choice to train on train set. Use proper methods to find the best parameters. Evaluate your method on test data according to evaluation strategy. \n",
    "#- Choose two unsupervised learning models, clustering, to train on your dataset. Discuss results. \n",
    "#- Choose two unsupervised learning models, dimentionally reduction, and train it your dataset. Now use the same supervised learning models above on reduced dataset. Can you see any differences? Discuss the result. \n",
    "#- Use a neural network model on your dataset. Compare the result with other two supervised learning models. Which model performs better? \n"
   ]
  },
  {
   "cell_type": "code",
   "execution_count": 721,
   "metadata": {},
   "outputs": [],
   "source": [
    "#Save copies of the data before each run"
   ]
  },
  {
   "cell_type": "code",
   "execution_count": 722,
   "metadata": {},
   "outputs": [],
   "source": [
    "newDataCopy = newData\n",
    "newDataSimpleCopy = newDataSimple"
   ]
  },
  {
   "cell_type": "code",
   "execution_count": 723,
   "metadata": {},
   "outputs": [],
   "source": [
    "#Decide aboute a good evaluation strategy and justify your choice.\n",
    "#I will use a simple linear regression to relate device and geographic information to predicted revenue.\n",
    "\n",
    "#A linear regression is used to model the relationship between a response (transaction total) and an explanatory variable.\n",
    "\n",
    "#Since we want to predict revenue i believe this is a good candidate to run this model on."
   ]
  },
  {
   "cell_type": "code",
   "execution_count": 724,
   "metadata": {},
   "outputs": [
    {
     "name": "stdout",
     "output_type": "stream",
     "text": [
      "(20000, 328)\n",
      "(20000,)\n"
     ]
    }
   ],
   "source": [
    "X = newData.drop(['totals_totalTransactionRevenue'], axis=1).values\n",
    "print(X.shape)\n",
    "y = newData.totals_totalTransactionRevenue.values\n",
    "print(y.shape)"
   ]
  },
  {
   "cell_type": "code",
   "execution_count": 725,
   "metadata": {},
   "outputs": [
    {
     "name": "stdout",
     "output_type": "stream",
     "text": [
      "(20000, 27)\n",
      "(20000,)\n"
     ]
    }
   ],
   "source": [
    "#For the simple Data\n",
    "X_Simple = newDataSimple.drop(['totals_totalTransactionRevenue'], axis=1).values\n",
    "print(X_Simple.shape)\n",
    "y_simple = newDataSimple.totals_totalTransactionRevenue.values\n",
    "print(y.shape)"
   ]
  },
  {
   "cell_type": "code",
   "execution_count": 726,
   "metadata": {},
   "outputs": [],
   "source": [
    "#Supervised Learning example: Simple Linear regression. I'm going to use a linear regression to predict the total transaction revenue. "
   ]
  },
  {
   "cell_type": "code",
   "execution_count": 727,
   "metadata": {},
   "outputs": [],
   "source": [
    "from sklearn.linear_model import LinearRegression\n",
    "\n",
    "model = LinearRegression(fit_intercept=False)\n",
    "model.fit(X, y)\n",
    "newData['predicted'] = model.predict(X)"
   ]
  },
  {
   "cell_type": "code",
   "execution_count": 728,
   "metadata": {},
   "outputs": [
    {
     "data": {
      "text/plain": [
       "array([ 3.91153687e-01, -9.43527155e-16, -2.65029718e-03, -1.17268648e-07,\n",
       "       -2.64937791e-03,  7.16404192e-08,  9.76005933e-08,  1.22752850e+00,\n",
       "        5.43807381e-09,  2.82584889e-08, -4.59977650e-09,  5.14880676e-09,\n",
       "       -1.80533631e-08, -7.06965810e-08,  6.22801130e-09, -2.80246403e-08,\n",
       "        1.38256032e-07,  2.18242458e-10, -6.47612907e-10,  7.69160959e-10,\n",
       "       -1.88116871e-08,  6.26133343e-10,  6.39753119e-09,  1.26751996e-10,\n",
       "        3.54037395e-09,  1.53642580e-08, -1.17035413e-10,  8.82897725e-10,\n",
       "        2.40672340e-11,  3.25677450e-10,  2.21429719e-10,  2.26844636e-10,\n",
       "        5.66380944e-09, -7.35404364e-09, -1.19148750e-10,  1.35007447e-10,\n",
       "        3.94966475e-08, -1.08164068e-09, -1.76034169e-08, -2.15930021e-10,\n",
       "       -1.77833030e-09,  1.96850151e-09,  1.23712825e-07, -8.79136356e-08,\n",
       "       -7.54070099e-09, -6.37664649e-09, -6.50566279e-08,  6.26133343e-10,\n",
       "       -4.16674102e-09,  1.83116932e-10,  7.43630443e-09,  2.06550869e-08,\n",
       "        2.21429719e-10, -4.63801127e-10, -1.19148750e-10, -4.49746577e-10,\n",
       "       -1.87907586e-09,  9.77386682e-08,  7.18860222e-10, -2.14559522e-10,\n",
       "       -2.05947637e-08,  1.12714074e-09, -6.54042308e-09,  1.52306362e-08,\n",
       "       -1.57870347e-08,  3.67449105e-08, -2.51674076e-09,  1.12714074e-09,\n",
       "       -5.18147458e-10,  8.16571535e-10,  1.16802777e-09, -2.19334383e-10,\n",
       "        1.84483073e-09,  1.01341873e-10, -1.84008647e-09,  1.19837803e-10,\n",
       "        4.81320731e-13,  3.36202151e-10, -1.33797333e-09, -1.17721025e-10,\n",
       "       -1.97285679e-10, -4.05532875e-09,  1.05721721e-10,  3.47450207e-10,\n",
       "        1.61378568e-09,  2.20802281e-10,  8.18722333e-09, -1.03480108e-10,\n",
       "        2.81066619e-10,  1.12092855e-09,  5.11911752e-11, -1.42755760e-09,\n",
       "        2.18820999e-10,  2.20399521e-09, -4.13889269e-09,  3.34648789e-10,\n",
       "       -5.66132356e-10,  8.84352228e-10,  2.87879146e-09, -2.03548335e-10,\n",
       "        3.22513132e-10,  1.20788573e-08, -1.02005906e-10, -2.99308213e-10,\n",
       "        1.14365805e-09,  1.66791715e-10,  2.41762499e-10,  2.51582196e-10,\n",
       "        8.49975015e-10, -4.81498145e-10, -1.40628889e-10, -2.51235946e-09,\n",
       "       -8.71883798e-11,  3.24257635e-10,  2.78492250e-10,  9.26468893e-09,\n",
       "        1.14051986e-10,  3.74560672e-10, -8.12534592e-11, -2.14607442e-10,\n",
       "        8.11497745e-10,  1.07348385e-10, -3.18092218e-10,  8.63880282e-13,\n",
       "       -9.08493023e-11, -3.30014305e-09,  7.48934227e-11,  1.94220332e-10,\n",
       "       -1.19075889e-08,  2.89552045e-09, -1.05919404e-10, -1.61607745e-09,\n",
       "        2.56919225e-09,  4.64933244e-09,  9.75453835e-11, -1.25110219e-08,\n",
       "        1.34661194e-09,  1.05525216e-10,  1.77061400e-09,  2.49575454e-10,\n",
       "       -3.03526039e-10, -2.47533410e-11,  1.82824797e-10, -1.39369166e-10,\n",
       "        2.16355139e-10, -2.17880756e-10,  2.09853607e-10,  1.00349979e-09,\n",
       "        1.07422538e-10,  1.05841674e-09, -2.13108907e-10, -2.19493542e-10,\n",
       "        3.80880589e-09, -2.21931871e-10,  1.06281589e-10,  1.15625853e-10,\n",
       "       -2.40022375e-10,  8.57407839e-09,  7.72278392e-10,  4.79590423e-11,\n",
       "        1.77947749e-10,  1.20034292e-10,  5.67141372e-11,  8.19440315e-11,\n",
       "       -2.25060329e-10, -2.72037418e-09,  7.99708349e-11, -5.42017686e-10,\n",
       "        1.14612261e-10, -1.58659327e-09,  3.29771480e-10,  2.58321778e-10,\n",
       "        2.54776219e-09, -2.08195204e-10,  3.12610062e-10,  3.81225505e-10,\n",
       "        6.02776777e-09,  1.78879073e-09,  3.56326763e-09, -2.40236271e-09,\n",
       "        4.21427560e-10, -3.76796792e-10,  3.41393427e-09,  9.48699799e-09,\n",
       "       -5.41271012e-12, -1.92259191e-10, -2.19236649e-10, -2.18836507e-09,\n",
       "        2.96352087e-10, -1.55866972e-09, -1.68270251e-09,  1.97010044e-09,\n",
       "        3.85217028e-10,  7.44139769e-13, -8.34029309e-09, -4.38930340e-09,\n",
       "        2.14513039e-09,  1.10717862e-09,  2.75724617e-12, -8.31569988e-11,\n",
       "       -4.93671073e-10, -5.91550998e-10, -2.32684323e-08, -1.04928464e-10,\n",
       "        8.28315742e-09,  2.20285046e-10,  1.31663072e-10,  1.19603163e-09,\n",
       "        2.45369124e-08,  2.19599706e-10, -2.25090848e-10,  2.28307417e-09,\n",
       "        2.32222694e-09, -6.55836348e-09, -1.72729188e-08,  4.23706704e-10,\n",
       "        7.18753870e-13,  1.94587755e-09, -3.00901559e-09, -4.22254231e-10,\n",
       "       -8.58957797e-11,  1.14637740e-12,  1.12714074e-09, -2.38210415e-09,\n",
       "        1.69624554e-09,  1.08578836e-08,  8.14906287e-11,  4.79455735e-12,\n",
       "       -4.75598344e-08,  3.37271846e-08,  7.99708349e-11, -2.14607442e-10,\n",
       "       -7.34275564e-10,  2.85255280e-09, -1.87817298e-08, -6.86995166e-09,\n",
       "        2.14582369e-08,  1.33415437e-08, -8.03754677e-09, -1.03338292e-08,\n",
       "        1.02753416e-08, -6.25948095e-10,  2.86835945e-08, -3.87664115e-10,\n",
       "        2.53174661e-07, -4.59977650e-09, -3.37193992e-08,  5.70878754e-09,\n",
       "       -3.05684868e-07,  1.13379084e-07,  2.53174661e-07, -4.59977650e-09,\n",
       "       -1.18595954e-10, -8.35608235e-11, -2.05490738e-08,  1.16257487e-10,\n",
       "        2.16956566e-10, -1.18681442e-10,  1.06946433e-10, -2.14523982e-10,\n",
       "        1.61709918e-11, -2.97980663e-09, -2.43765753e-10,  2.54514439e-10,\n",
       "        1.10061172e-10, -1.03546894e-10, -6.43993938e-10,  1.14105840e-10,\n",
       "        7.74751548e-11,  2.23199325e-10,  6.55037631e-10,  7.26535601e-09,\n",
       "        3.25344825e-10,  1.53554018e-11,  2.77226333e-09, -3.38177646e-07,\n",
       "        2.19427296e-10, -9.46140846e-10, -2.18178022e-10,  2.40411784e-10,\n",
       "       -9.95710242e-10, -1.64411577e-10,  1.12705222e-10,  2.21223184e-10,\n",
       "        2.17716213e-10,  2.07843774e-10,  1.12021232e-10, -5.06055671e-10,\n",
       "        8.84009726e-10,  2.17052723e-10, -2.30615096e-10, -1.04790785e-10,\n",
       "        1.11514640e-10,  1.30858519e-09, -1.20618290e-10, -4.35394834e-10,\n",
       "       -8.64032779e-11,  1.92224524e-10,  1.35605782e-09, -1.98868726e-10,\n",
       "        1.56058720e-10, -1.20913486e-10, -2.15295472e-10,  1.13198376e-10,\n",
       "        1.14170764e-10, -8.61994786e-10,  1.09639645e-10,  8.55884736e-11,\n",
       "       -4.17235911e-10,  1.12599131e-10, -2.16869510e-10, -5.42304679e-10,\n",
       "       -9.94963771e-10,  4.99951953e-11, -5.61255081e-11, -2.10706593e-10,\n",
       "        1.12071027e-10,  5.13863225e-11,  7.19626373e-11,  3.67281834e-09,\n",
       "       -6.14740112e-09, -6.57839492e-10,  1.89263134e-11,  1.63404810e-10,\n",
       "       -1.20430390e-10,  8.36708161e-11, -1.17853241e-10,  1.35018593e-07])"
      ]
     },
     "execution_count": 728,
     "metadata": {},
     "output_type": "execute_result"
    }
   ],
   "source": [
    "model.coef_"
   ]
  },
  {
   "cell_type": "code",
   "execution_count": 729,
   "metadata": {},
   "outputs": [
    {
     "data": {
      "text/plain": [
       "0.0"
      ]
     },
     "execution_count": 729,
     "metadata": {},
     "output_type": "execute_result"
    }
   ],
   "source": [
    "model.intercept_"
   ]
  },
  {
   "cell_type": "code",
   "execution_count": 730,
   "metadata": {
    "scrolled": true
   },
   "outputs": [
    {
     "data": {
      "text/plain": [
       "<matplotlib.axes._subplots.AxesSubplot at 0x17746df2fd0>"
      ]
     },
     "execution_count": 730,
     "metadata": {},
     "output_type": "execute_result"
    },
    {
     "data": {
      "image/png": "[encoded data removed]",
      "text/plain": [
       "<Figure size 432x288 with 1 Axes>"
      ]
     },
     "metadata": {},
     "output_type": "display_data"
    }
   ],
   "source": [
    "newData[['totals_totalTransactionRevenue','predicted']].plot(alpha=0.5)"
   ]
  },
  {
   "cell_type": "code",
   "execution_count": 731,
   "metadata": {},
   "outputs": [],
   "source": [
    "#Now lets run again for the simpler data"
   ]
  },
  {
   "cell_type": "code",
   "execution_count": 732,
   "metadata": {},
   "outputs": [],
   "source": [
    "model = LinearRegression(fit_intercept=False)\n",
    "model.fit(X_Simple, y_simple)\n",
    "newDataSimple['predicted'] = model.predict(X_Simple)"
   ]
  },
  {
   "cell_type": "code",
   "execution_count": 733,
   "metadata": {},
   "outputs": [
    {
     "data": {
      "text/plain": [
       "array([-1.15148112e+02,  2.23334364e+09,  8.81461665e+07,  8.94364586e+07,\n",
       "        8.92348499e+07,  8.96312934e+07,  8.86848005e+07,  9.09223839e+07,\n",
       "        8.93362633e+07,  8.94844203e+07,  8.92484508e+07,  8.93122028e+07,\n",
       "        8.85727902e+07,  8.92595335e+07,  8.90320929e+07,  8.92127260e+07,\n",
       "        8.92082924e+07,  8.91565086e+07,  8.94415121e+07,  8.93239012e+07,\n",
       "        8.92454087e+07,  8.94898278e+07,  8.94376949e+07,  8.95911130e+07,\n",
       "        9.03930516e+07,  8.93281354e+07,  8.92137653e+07])"
      ]
     },
     "execution_count": 733,
     "metadata": {},
     "output_type": "execute_result"
    }
   ],
   "source": [
    "model.coef_"
   ]
  },
  {
   "cell_type": "code",
   "execution_count": 734,
   "metadata": {},
   "outputs": [
    {
     "data": {
      "text/plain": [
       "0.0"
      ]
     },
     "execution_count": 734,
     "metadata": {},
     "output_type": "execute_result"
    }
   ],
   "source": [
    "model.intercept_"
   ]
  },
  {
   "cell_type": "code",
   "execution_count": 735,
   "metadata": {},
   "outputs": [
    {
     "data": {
      "text/plain": [
       "<matplotlib.axes._subplots.AxesSubplot at 0x177416a4d30>"
      ]
     },
     "execution_count": 735,
     "metadata": {},
     "output_type": "execute_result"
    },
    {
     "data": {
      "image/png": "[encoded data removed]",
      "text/plain": [
       "<Figure size 432x288 with 1 Axes>"
      ]
     },
     "metadata": {},
     "output_type": "display_data"
    }
   ],
   "source": [
    "newDataSimple[['totals_totalTransactionRevenue','predicted']].plot(alpha=0.5)"
   ]
  },
  {
   "cell_type": "code",
   "execution_count": 736,
   "metadata": {},
   "outputs": [],
   "source": [
    "#It looks like the simpler data may be more accurate"
   ]
  },
  {
   "cell_type": "code",
   "execution_count": 737,
   "metadata": {},
   "outputs": [],
   "source": [
    "#Another Linear Regression"
   ]
  },
  {
   "cell_type": "code",
   "execution_count": 738,
   "metadata": {},
   "outputs": [],
   "source": [
    "from sklearn.linear_model import LinearRegression\n",
    "from sklearn import cross_validation as cv"
   ]
  },
  {
   "cell_type": "code",
   "execution_count": 739,
   "metadata": {},
   "outputs": [
    {
     "name": "stdout",
     "output_type": "stream",
     "text": [
      "Accuracy: 0.84 (+/- 0.14)\n"
     ]
    }
   ],
   "source": [
    "lr = LinearRegression()\n",
    "kfolds = cv.KFold(X.shape[0], n_folds=4, shuffle=True, random_state=42)\n",
    "scores = cv.cross_val_score(lr, X, y, cv=kfolds)\n",
    "\n",
    "print(\"Accuracy: %0.2f (+/- %0.2f)\" % (scores.mean(), scores.std()))"
   ]
  },
  {
   "cell_type": "code",
   "execution_count": 741,
   "metadata": {},
   "outputs": [
    {
     "name": "stdout",
     "output_type": "stream",
     "text": [
      "Accuracy: 0.00 (+/- 0.00)\n"
     ]
    }
   ],
   "source": [
    "lr = LinearRegression()\n",
    "kfolds = cv.KFold(X_Simple.shape[0], n_folds=4, shuffle=True, random_state=42)\n",
    "scores = cv.cross_val_score(lr, X_Simple, y_simple, cv=kfolds)\n",
    "\n",
    "print(\"Accuracy: %0.2f (+/- %0.2f)\" % (scores.mean(), scores.std()))"
   ]
  },
  {
   "cell_type": "code",
   "execution_count": 742,
   "metadata": {},
   "outputs": [],
   "source": [
    "##################################################\n",
    "#Supervised learning example: Gaussian naive Bayes\n",
    "##################################################"
   ]
  },
  {
   "cell_type": "code",
   "execution_count": 743,
   "metadata": {},
   "outputs": [],
   "source": [
    "#Reset the data\n",
    "newData = newDataCopy\n",
    "newDataSimple = newDataSimpleCopy"
   ]
  },
  {
   "cell_type": "code",
   "execution_count": 744,
   "metadata": {},
   "outputs": [
    {
     "name": "stdout",
     "output_type": "stream",
     "text": [
      "(20000, 329)\n",
      "(20000,)\n"
     ]
    }
   ],
   "source": [
    "X = newData.drop(['totals_totalTransactionRevenue'], axis=1).values\n",
    "print(X.shape)\n",
    "y = newData.totals_totalTransactionRevenue.values\n",
    "print(y.shape)"
   ]
  },
  {
   "cell_type": "code",
   "execution_count": 745,
   "metadata": {},
   "outputs": [
    {
     "name": "stdout",
     "output_type": "stream",
     "text": [
      "(20000, 28)\n",
      "(20000,)\n"
     ]
    }
   ],
   "source": [
    "#For the simple Data\n",
    "X_Simple = newDataSimple.drop(['totals_totalTransactionRevenue'], axis=1).values\n",
    "print(X_Simple.shape)\n",
    "y_simple = newDataSimple.totals_totalTransactionRevenue.values\n",
    "print(y.shape)"
   ]
  },
  {
   "cell_type": "code",
   "execution_count": 746,
   "metadata": {},
   "outputs": [],
   "source": [
    "model = LinearRegression(fit_intercept=True)"
   ]
  },
  {
   "cell_type": "code",
   "execution_count": 747,
   "metadata": {},
   "outputs": [],
   "source": [
    "from sklearn.cross_validation import train_test_split"
   ]
  },
  {
   "cell_type": "code",
   "execution_count": 748,
   "metadata": {},
   "outputs": [],
   "source": [
    " Xtrain, Xtest, ytrain, ytest = train_test_split(X, y, random_state=1)"
   ]
  },
  {
   "cell_type": "code",
   "execution_count": 749,
   "metadata": {},
   "outputs": [],
   "source": [
    "from sklearn.naive_bayes import GaussianNB"
   ]
  },
  {
   "cell_type": "code",
   "execution_count": 750,
   "metadata": {},
   "outputs": [
    {
     "data": {
      "text/plain": [
       "GaussianNB(priors=None)"
      ]
     },
     "execution_count": 750,
     "metadata": {},
     "output_type": "execute_result"
    }
   ],
   "source": [
    "model = GaussianNB() # 2. instantiate model\n",
    "model.fit(Xtrain, ytrain) # 3. fit model to data"
   ]
  },
  {
   "cell_type": "code",
   "execution_count": 751,
   "metadata": {},
   "outputs": [],
   "source": [
    "y_model = model.predict(Xtest) # 4. predict on new data"
   ]
  },
  {
   "cell_type": "code",
   "execution_count": 752,
   "metadata": {},
   "outputs": [
    {
     "data": {
      "text/plain": [
       "0.9836"
      ]
     },
     "execution_count": 752,
     "metadata": {},
     "output_type": "execute_result"
    }
   ],
   "source": [
    "from sklearn.metrics import accuracy_score\n",
    "accuracy_score(ytest, y_model)"
   ]
  },
  {
   "cell_type": "code",
   "execution_count": 753,
   "metadata": {},
   "outputs": [],
   "source": [
    "#Now testing on the simpler data set"
   ]
  },
  {
   "cell_type": "code",
   "execution_count": 754,
   "metadata": {},
   "outputs": [],
   "source": [
    " Xtrain2, Xtest2, ytrain2, ytest2 = train_test_split(X_Simple, y_simple, random_state=1)"
   ]
  },
  {
   "cell_type": "code",
   "execution_count": 755,
   "metadata": {},
   "outputs": [
    {
     "data": {
      "text/plain": [
       "GaussianNB(priors=None)"
      ]
     },
     "execution_count": 755,
     "metadata": {},
     "output_type": "execute_result"
    }
   ],
   "source": [
    "model = GaussianNB() # 2. instantiate model\n",
    "model.fit(Xtrain2, ytrain2) # 3. fit model to data"
   ]
  },
  {
   "cell_type": "code",
   "execution_count": 756,
   "metadata": {},
   "outputs": [],
   "source": [
    "y_model2 = model.predict(Xtest2) # 4. predict on new data"
   ]
  },
  {
   "cell_type": "code",
   "execution_count": 757,
   "metadata": {},
   "outputs": [
    {
     "data": {
      "text/plain": [
       "0.136"
      ]
     },
     "execution_count": 757,
     "metadata": {},
     "output_type": "execute_result"
    }
   ],
   "source": [
    "accuracy_score(ytest2, y_model2)"
   ]
  },
  {
   "cell_type": "code",
   "execution_count": 758,
   "metadata": {},
   "outputs": [],
   "source": [
    "#The first data is way more accutare than the simpler data. \n",
    "#I'd assume it's because columns such as transaction and transaction revenue were kept "
   ]
  },
  {
   "cell_type": "code",
   "execution_count": 759,
   "metadata": {},
   "outputs": [],
   "source": [
    "############################################################\n",
    "#Unsupervised learning example: Principal Component Analysis\n",
    "############################################################"
   ]
  },
  {
   "cell_type": "code",
   "execution_count": 760,
   "metadata": {},
   "outputs": [],
   "source": [
    "#Dimension reduction. I'm using the simple data set because the models did not like the complex one"
   ]
  },
  {
   "cell_type": "code",
   "execution_count": 782,
   "metadata": {},
   "outputs": [],
   "source": [
    "#Let's use unsupervised learning to see if there is any relationship with the date"
   ]
  },
  {
   "cell_type": "code",
   "execution_count": 783,
   "metadata": {},
   "outputs": [
    {
     "name": "stdout",
     "output_type": "stream",
     "text": [
      "(20000, 31)\n",
      "(20000,)\n"
     ]
    }
   ],
   "source": [
    "X = newDataSimple.drop(['date'], axis=1).values\n",
    "print(X.shape)\n",
    "y = newDataSimple.date.values\n",
    "print(y.shape)"
   ]
  },
  {
   "cell_type": "code",
   "execution_count": 784,
   "metadata": {},
   "outputs": [],
   "source": [
    "from sklearn.decomposition import PCA"
   ]
  },
  {
   "cell_type": "code",
   "execution_count": 785,
   "metadata": {},
   "outputs": [],
   "source": [
    "model = PCA(n_components=2)"
   ]
  },
  {
   "cell_type": "code",
   "execution_count": 786,
   "metadata": {},
   "outputs": [
    {
     "data": {
      "text/plain": [
       "PCA(copy=True, iterated_power='auto', n_components=2, random_state=None,\n",
       "  svd_solver='auto', tol=0.0, whiten=False)"
      ]
     },
     "execution_count": 786,
     "metadata": {},
     "output_type": "execute_result"
    }
   ],
   "source": [
    "model.fit(X)"
   ]
  },
  {
   "cell_type": "code",
   "execution_count": 787,
   "metadata": {},
   "outputs": [],
   "source": [
    "#Unsupervised so we are using the transform\n",
    "X_2D = model.transform(X)"
   ]
  },
  {
   "cell_type": "code",
   "execution_count": 788,
   "metadata": {},
   "outputs": [
    {
     "data": {
      "text/plain": [
       "(20000, 2)"
      ]
     },
     "execution_count": 788,
     "metadata": {},
     "output_type": "execute_result"
    }
   ],
   "source": [
    "X_2D.shape"
   ]
  },
  {
   "cell_type": "code",
   "execution_count": 789,
   "metadata": {
    "scrolled": true
   },
   "outputs": [
    {
     "data": {
      "image/png": "[encoded data removed]",
      "text/plain": [
       "<Figure size 440.625x360 with 1 Axes>"
      ]
     },
     "metadata": {},
     "output_type": "display_data"
    }
   ],
   "source": [
    "newDataSimple['PCA1'] = X_2D[:, 0]\n",
    "newDataSimple['PCA2'] = X_2D[:, 1]\n",
    "sns.lmplot(\"PCA1\",\"PCA2\", hue='date', data=newDataSimple, fit_reg=False);"
   ]
  },
  {
   "cell_type": "raw",
   "metadata": {},
   "source": [
    "Trying to see if there is any correlation with the date when reducing to two dimensions. Doesn't look like it. "
   ]
  },
  {
   "cell_type": "code",
   "execution_count": 790,
   "metadata": {},
   "outputs": [],
   "source": [
    "############################################################\n",
    "#Unsupervised learning example: Gaussian Mixture Models\n",
    "############################################################"
   ]
  },
  {
   "cell_type": "code",
   "execution_count": 791,
   "metadata": {},
   "outputs": [],
   "source": [
    "from sklearn.mixture import GaussianMixture  "
   ]
  },
  {
   "cell_type": "code",
   "execution_count": 792,
   "metadata": {},
   "outputs": [],
   "source": [
    "model = GaussianMixture (n_components=2, covariance_type='full')"
   ]
  },
  {
   "cell_type": "code",
   "execution_count": 793,
   "metadata": {},
   "outputs": [
    {
     "data": {
      "text/plain": [
       "GaussianMixture(covariance_type='full', init_params='kmeans', max_iter=100,\n",
       "        means_init=None, n_components=2, n_init=1, precisions_init=None,\n",
       "        random_state=None, reg_covar=1e-06, tol=0.001, verbose=0,\n",
       "        verbose_interval=10, warm_start=False, weights_init=None)"
      ]
     },
     "execution_count": 793,
     "metadata": {},
     "output_type": "execute_result"
    }
   ],
   "source": [
    "model.fit(X_Simple) "
   ]
  },
  {
   "cell_type": "code",
   "execution_count": 794,
   "metadata": {},
   "outputs": [],
   "source": [
    "#Unsupervised clustering\n",
    "y_gmm = model.predict(X_Simple)"
   ]
  },
  {
   "cell_type": "code",
   "execution_count": 795,
   "metadata": {},
   "outputs": [
    {
     "data": {
      "image/png": "[encoded data removed]",
      "text/plain": [
       "<Figure size 800.625x360 with 2 Axes>"
      ]
     },
     "metadata": {},
     "output_type": "display_data"
    }
   ],
   "source": [
    "newDataSimple['cluster'] = y_gmm\n",
    "sns.lmplot(\"PCA1\", \"PCA2\", data=newDataSimple, hue='date', col='cluster', fit_reg=False);"
   ]
  },
  {
   "cell_type": "code",
   "execution_count": 796,
   "metadata": {},
   "outputs": [],
   "source": [
    "#Again it doesn't look like we see a lot of clustering here. We can rule out any clusting by date"
   ]
  },
  {
   "cell_type": "code",
   "execution_count": 797,
   "metadata": {},
   "outputs": [],
   "source": [
    "#Running the supervised learning from before"
   ]
  },
  {
   "cell_type": "code",
   "execution_count": 798,
   "metadata": {},
   "outputs": [],
   "source": [
    "model = LinearRegression(fit_intercept=False)\n",
    "model.fit(X_Simple, y_simple)\n",
    "newData['predicted'] = model.predict(X_Simple)"
   ]
  },
  {
   "cell_type": "code",
   "execution_count": 799,
   "metadata": {},
   "outputs": [
    {
     "data": {
      "text/plain": [
       "array([ 5.00308698e-13, -5.89531930e-09, -5.98795696e-02,  6.33824100e-07,\n",
       "       -8.72806579e-08,  7.58239853e-07,  1.11179159e-07,  6.77460474e-07,\n",
       "        1.96387602e-07,  3.96094529e-07,  1.75707971e-06,  6.26012047e-07,\n",
       "       -2.17988684e-07,  1.61395839e-02, -3.24881720e-07, -1.86558151e-01,\n",
       "        1.70416682e-01, -5.00645794e-08,  7.99133350e-07,  1.25820709e-01,\n",
       "       -4.17924947e-08,  3.54324734e-07,  8.47044612e-07,  1.19194615e-06,\n",
       "       -6.59492206e-02,  1.18004441e-06,  1.15356382e-06,  1.00000000e+00])"
      ]
     },
     "execution_count": 799,
     "metadata": {},
     "output_type": "execute_result"
    }
   ],
   "source": [
    "model.coef_"
   ]
  },
  {
   "cell_type": "code",
   "execution_count": 800,
   "metadata": {},
   "outputs": [
    {
     "data": {
      "text/plain": [
       "<matplotlib.axes._subplots.AxesSubplot at 0x1774198ccc0>"
      ]
     },
     "execution_count": 800,
     "metadata": {},
     "output_type": "execute_result"
    },
    {
     "data": {
      "image/png": "[encoded data removed]",
      "text/plain": [
       "<Figure size 432x288 with 1 Axes>"
      ]
     },
     "metadata": {},
     "output_type": "display_data"
    }
   ],
   "source": [
    "newDataSimple[['totals_totalTransactionRevenue','predicted']].plot(alpha=0.5)"
   ]
  },
  {
   "cell_type": "code",
   "execution_count": 801,
   "metadata": {},
   "outputs": [],
   "source": [
    "#It doesn't look like much has changed"
   ]
  },
  {
   "cell_type": "code",
   "execution_count": 802,
   "metadata": {},
   "outputs": [
    {
     "name": "stdout",
     "output_type": "stream",
     "text": [
      "Accuracy: 0.00 (+/- 0.00)\n"
     ]
    }
   ],
   "source": [
    "lr = LinearRegression()\n",
    "kfolds = cv.KFold(X_Simple.shape[0], n_folds=4, shuffle=True, random_state=42)\n",
    "scores = cv.cross_val_score(lr, X_Simple, y_simple, cv=kfolds)\n",
    "\n",
    "print(\"Accuracy: %0.2f (+/- %0.2f)\" % (scores.mean(), scores.std()))"
   ]
  },
  {
   "cell_type": "code",
   "execution_count": 805,
   "metadata": {},
   "outputs": [],
   "source": [
    "#Still at 0 :(\n",
    "\n",
    "#I have doubts about the quality of the data. I think that there just isn't enough positive data.\n",
    "#Less than 1% of the data is sales so i'm guess the models are dealing with too much data to generate strong correlations\n",
    "\n",
    "#I've never dealt with pandas or machine learning before this class and this is my first exposure to it. "
   ]
  },
  {
   "cell_type": "code",
   "execution_count": null,
   "metadata": {},
   "outputs": [],
   "source": []
  },
  {
   "cell_type": "code",
   "execution_count": null,
   "metadata": {},
   "outputs": [],
   "source": []
  }
 ],
 "metadata": {
  "kernelspec": {
   "display_name": "Python 3",
   "language": "python",
   "name": "python3"
  },
  "language_info": {
   "codemirror_mode": {
    "name": "ipython",
    "version": 3
   },
   "file_extension": ".py",
   "mimetype": "text/x-python",
   "name": "python",
   "nbconvert_exporter": "python",
   "pygments_lexer": "ipython3",
   "version": "3.6.5"
  }
 },
 "nbformat": 4,
 "nbformat_minor": 2
}
